{
 "cells": [
  {
   "cell_type": "code",
   "execution_count": 1,
   "metadata": {
    "_cell_guid": "b1076dfc-b9ad-4769-8c92-a6c4dae69d19",
    "_uuid": "8f2839f25d086af736a60e9eeb907d3b93b6e0e5",
    "execution": {
     "iopub.execute_input": "2021-03-21T05:20:27.870511Z",
     "iopub.status.busy": "2021-03-21T05:20:27.869619Z",
     "iopub.status.idle": "2021-03-21T05:20:27.874260Z",
     "shell.execute_reply": "2021-03-21T05:20:27.873464Z"
    },
    "papermill": {
     "duration": 0.047239,
     "end_time": "2021-03-21T05:20:27.874477",
     "exception": false,
     "start_time": "2021-03-21T05:20:27.827238",
     "status": "completed"
    },
    "tags": []
   },
   "outputs": [],
   "source": [
    "# This Python 3 environment comes with many helpful analytics libraries installed\n",
    "# It is defined by the kaggle/python Docker image: https://github.com/kaggle/docker-python\n",
    "# For example, here's several helpful packages to load\n",
    "\n",
    "import numpy as np # linear algebra\n",
    "import pandas as pd # data processing, CSV file I/O (e.g. pd.read_csv)\n",
    "\n",
    "# Input data files are available in the read-only \"../input/\" directory\n",
    "# For example, running this (by clicking run or pressing Shift+Enter) will list all files under the input directory\n",
    "\n",
    "import os\n",
    "for dirname, _, filenames in os.walk('/kaggle/input'):\n",
    "    for filename in filenames:\n",
    "        print(os.path.join(dirname, filename))\n",
    "\n",
    "# You can write up to 20GB to the current directory (/kaggle/working/) that gets preserved as output when you create a version using \"Save & Run All\" \n",
    "# You can also write temporary files to /kaggle/temp/, but they won't be saved outside of the current session"
   ]
  },
  {
   "cell_type": "code",
   "execution_count": 2,
   "metadata": {
    "execution": {
     "iopub.execute_input": "2021-03-21T05:20:27.952127Z",
     "iopub.status.busy": "2021-03-21T05:20:27.951366Z",
     "iopub.status.idle": "2021-03-21T05:20:28.696438Z",
     "shell.execute_reply": "2021-03-21T05:20:28.696919Z"
    },
    "papermill": {
     "duration": 0.785863,
     "end_time": "2021-03-21T05:20:28.697102",
     "exception": false,
     "start_time": "2021-03-21T05:20:27.911239",
     "status": "completed"
    },
    "tags": []
   },
   "outputs": [
    {
     "name": "stdout",
     "output_type": "stream",
     "text": [
      "Using Kaggle's public dataset BigQuery integration.\n",
      "Setup Complete\n",
      "Tables list: ['global_air_quality']\n"
     ]
    },
    {
     "data": {
      "text/html": [
       "<div>\n",
       "<style scoped>\n",
       "    .dataframe tbody tr th:only-of-type {\n",
       "        vertical-align: middle;\n",
       "    }\n",
       "\n",
       "    .dataframe tbody tr th {\n",
       "        vertical-align: top;\n",
       "    }\n",
       "\n",
       "    .dataframe thead th {\n",
       "        text-align: right;\n",
       "    }\n",
       "</style>\n",
       "<table border=\"1\" class=\"dataframe\">\n",
       "  <thead>\n",
       "    <tr style=\"text-align: right;\">\n",
       "      <th></th>\n",
       "      <th>name</th>\n",
       "      <th>type</th>\n",
       "      <th>mode</th>\n",
       "      <th>description</th>\n",
       "    </tr>\n",
       "  </thead>\n",
       "  <tbody>\n",
       "    <tr>\n",
       "      <th>0</th>\n",
       "      <td>location</td>\n",
       "      <td>STRING</td>\n",
       "      <td>NULLABLE</td>\n",
       "      <td>Location where data was measured</td>\n",
       "    </tr>\n",
       "    <tr>\n",
       "      <th>1</th>\n",
       "      <td>city</td>\n",
       "      <td>STRING</td>\n",
       "      <td>NULLABLE</td>\n",
       "      <td>City containing location</td>\n",
       "    </tr>\n",
       "    <tr>\n",
       "      <th>2</th>\n",
       "      <td>country</td>\n",
       "      <td>STRING</td>\n",
       "      <td>NULLABLE</td>\n",
       "      <td>Country containing measurement in 2 letter ISO...</td>\n",
       "    </tr>\n",
       "    <tr>\n",
       "      <th>3</th>\n",
       "      <td>pollutant</td>\n",
       "      <td>STRING</td>\n",
       "      <td>NULLABLE</td>\n",
       "      <td>Name of the Pollutant being measured. Allowed ...</td>\n",
       "    </tr>\n",
       "    <tr>\n",
       "      <th>4</th>\n",
       "      <td>value</td>\n",
       "      <td>FLOAT</td>\n",
       "      <td>NULLABLE</td>\n",
       "      <td>Latest measured value for the pollutant</td>\n",
       "    </tr>\n",
       "    <tr>\n",
       "      <th>5</th>\n",
       "      <td>timestamp</td>\n",
       "      <td>TIMESTAMP</td>\n",
       "      <td>NULLABLE</td>\n",
       "      <td>The datetime at which the pollutant was measur...</td>\n",
       "    </tr>\n",
       "    <tr>\n",
       "      <th>6</th>\n",
       "      <td>unit</td>\n",
       "      <td>STRING</td>\n",
       "      <td>NULLABLE</td>\n",
       "      <td>The unit the value was measured in coded by UC...</td>\n",
       "    </tr>\n",
       "    <tr>\n",
       "      <th>7</th>\n",
       "      <td>source_name</td>\n",
       "      <td>STRING</td>\n",
       "      <td>NULLABLE</td>\n",
       "      <td>Name of the source of the data</td>\n",
       "    </tr>\n",
       "    <tr>\n",
       "      <th>8</th>\n",
       "      <td>latitude</td>\n",
       "      <td>FLOAT</td>\n",
       "      <td>NULLABLE</td>\n",
       "      <td>Latitude in decimal degrees. Precision &gt;3 deci...</td>\n",
       "    </tr>\n",
       "    <tr>\n",
       "      <th>9</th>\n",
       "      <td>longitude</td>\n",
       "      <td>FLOAT</td>\n",
       "      <td>NULLABLE</td>\n",
       "      <td>Longitude in decimal degrees. Precision &gt;3 dec...</td>\n",
       "    </tr>\n",
       "    <tr>\n",
       "      <th>10</th>\n",
       "      <td>averaged_over_in_hours</td>\n",
       "      <td>FLOAT</td>\n",
       "      <td>NULLABLE</td>\n",
       "      <td>The number of hours the value was averaged over.</td>\n",
       "    </tr>\n",
       "  </tbody>\n",
       "</table>\n",
       "</div>"
      ],
      "text/plain": [
       "                      name       type      mode  \\\n",
       "0                 location     STRING  NULLABLE   \n",
       "1                     city     STRING  NULLABLE   \n",
       "2                  country     STRING  NULLABLE   \n",
       "3                pollutant     STRING  NULLABLE   \n",
       "4                    value      FLOAT  NULLABLE   \n",
       "5                timestamp  TIMESTAMP  NULLABLE   \n",
       "6                     unit     STRING  NULLABLE   \n",
       "7              source_name     STRING  NULLABLE   \n",
       "8                 latitude      FLOAT  NULLABLE   \n",
       "9                longitude      FLOAT  NULLABLE   \n",
       "10  averaged_over_in_hours      FLOAT  NULLABLE   \n",
       "\n",
       "                                          description  \n",
       "0                    Location where data was measured  \n",
       "1                            City containing location  \n",
       "2   Country containing measurement in 2 letter ISO...  \n",
       "3   Name of the Pollutant being measured. Allowed ...  \n",
       "4             Latest measured value for the pollutant  \n",
       "5   The datetime at which the pollutant was measur...  \n",
       "6   The unit the value was measured in coded by UC...  \n",
       "7                      Name of the source of the data  \n",
       "8   Latitude in decimal degrees. Precision >3 deci...  \n",
       "9   Longitude in decimal degrees. Precision >3 dec...  \n",
       "10   The number of hours the value was averaged over.  "
      ]
     },
     "execution_count": 2,
     "metadata": {},
     "output_type": "execute_result"
    }
   ],
   "source": [
    "# import package with helper functions \n",
    "import bq_helper\n",
    "\n",
    "# create a helper object for this dataset\n",
    "open_aq = bq_helper.BigQueryHelper(active_project=\"bigquery-public-data\",\n",
    "                                   dataset_name=\"openaq\")\n",
    "\n",
    "print(\"Setup Complete\")\n",
    "\n",
    "# print list of tables in this dataset (there's only one!)\n",
    "print('Tables list: {}'.format(open_aq.list_tables()))\n",
    "\n",
    "open_aq.table_schema('global_air_quality')\n"
   ]
  },
  {
   "cell_type": "code",
   "execution_count": 3,
   "metadata": {
    "execution": {
     "iopub.execute_input": "2021-03-21T05:20:28.783038Z",
     "iopub.status.busy": "2021-03-21T05:20:28.782378Z",
     "iopub.status.idle": "2021-03-21T05:20:29.102834Z",
     "shell.execute_reply": "2021-03-21T05:20:29.102343Z"
    },
    "papermill": {
     "duration": 0.370081,
     "end_time": "2021-03-21T05:20:29.102973",
     "exception": false,
     "start_time": "2021-03-21T05:20:28.732892",
     "status": "completed"
    },
    "tags": []
   },
   "outputs": [
    {
     "data": {
      "text/html": [
       "<div>\n",
       "<style scoped>\n",
       "    .dataframe tbody tr th:only-of-type {\n",
       "        vertical-align: middle;\n",
       "    }\n",
       "\n",
       "    .dataframe tbody tr th {\n",
       "        vertical-align: top;\n",
       "    }\n",
       "\n",
       "    .dataframe thead th {\n",
       "        text-align: right;\n",
       "    }\n",
       "</style>\n",
       "<table border=\"1\" class=\"dataframe\">\n",
       "  <thead>\n",
       "    <tr style=\"text-align: right;\">\n",
       "      <th></th>\n",
       "      <th>location</th>\n",
       "      <th>city</th>\n",
       "      <th>country</th>\n",
       "      <th>pollutant</th>\n",
       "      <th>value</th>\n",
       "      <th>timestamp</th>\n",
       "      <th>unit</th>\n",
       "      <th>source_name</th>\n",
       "      <th>latitude</th>\n",
       "      <th>longitude</th>\n",
       "      <th>averaged_over_in_hours</th>\n",
       "    </tr>\n",
       "  </thead>\n",
       "  <tbody>\n",
       "    <tr>\n",
       "      <th>0</th>\n",
       "      <td>BTM Layout, Bengaluru - KSPCB</td>\n",
       "      <td>Bengaluru</td>\n",
       "      <td>IN</td>\n",
       "      <td>co</td>\n",
       "      <td>910.00</td>\n",
       "      <td>2018-02-22 03:00:00+00:00</td>\n",
       "      <td>µg/m³</td>\n",
       "      <td>CPCB</td>\n",
       "      <td>12.912811</td>\n",
       "      <td>77.60922</td>\n",
       "      <td>0.25</td>\n",
       "    </tr>\n",
       "    <tr>\n",
       "      <th>1</th>\n",
       "      <td>BTM Layout, Bengaluru - KSPCB</td>\n",
       "      <td>Bengaluru</td>\n",
       "      <td>IN</td>\n",
       "      <td>no2</td>\n",
       "      <td>131.87</td>\n",
       "      <td>2018-02-22 03:00:00+00:00</td>\n",
       "      <td>µg/m³</td>\n",
       "      <td>CPCB</td>\n",
       "      <td>12.912811</td>\n",
       "      <td>77.60922</td>\n",
       "      <td>0.25</td>\n",
       "    </tr>\n",
       "    <tr>\n",
       "      <th>2</th>\n",
       "      <td>BTM Layout, Bengaluru - KSPCB</td>\n",
       "      <td>Bengaluru</td>\n",
       "      <td>IN</td>\n",
       "      <td>o3</td>\n",
       "      <td>15.57</td>\n",
       "      <td>2018-02-22 03:00:00+00:00</td>\n",
       "      <td>µg/m³</td>\n",
       "      <td>CPCB</td>\n",
       "      <td>12.912811</td>\n",
       "      <td>77.60922</td>\n",
       "      <td>0.25</td>\n",
       "    </tr>\n",
       "    <tr>\n",
       "      <th>3</th>\n",
       "      <td>BTM Layout, Bengaluru - KSPCB</td>\n",
       "      <td>Bengaluru</td>\n",
       "      <td>IN</td>\n",
       "      <td>pm25</td>\n",
       "      <td>45.62</td>\n",
       "      <td>2018-02-22 03:00:00+00:00</td>\n",
       "      <td>µg/m³</td>\n",
       "      <td>CPCB</td>\n",
       "      <td>12.912811</td>\n",
       "      <td>77.60922</td>\n",
       "      <td>0.25</td>\n",
       "    </tr>\n",
       "    <tr>\n",
       "      <th>4</th>\n",
       "      <td>BTM Layout, Bengaluru - KSPCB</td>\n",
       "      <td>Bengaluru</td>\n",
       "      <td>IN</td>\n",
       "      <td>so2</td>\n",
       "      <td>4.49</td>\n",
       "      <td>2018-02-22 03:00:00+00:00</td>\n",
       "      <td>µg/m³</td>\n",
       "      <td>CPCB</td>\n",
       "      <td>12.912811</td>\n",
       "      <td>77.60922</td>\n",
       "      <td>0.25</td>\n",
       "    </tr>\n",
       "  </tbody>\n",
       "</table>\n",
       "</div>"
      ],
      "text/plain": [
       "                        location       city country pollutant   value  \\\n",
       "0  BTM Layout, Bengaluru - KSPCB  Bengaluru      IN        co  910.00   \n",
       "1  BTM Layout, Bengaluru - KSPCB  Bengaluru      IN       no2  131.87   \n",
       "2  BTM Layout, Bengaluru - KSPCB  Bengaluru      IN        o3   15.57   \n",
       "3  BTM Layout, Bengaluru - KSPCB  Bengaluru      IN      pm25   45.62   \n",
       "4  BTM Layout, Bengaluru - KSPCB  Bengaluru      IN       so2    4.49   \n",
       "\n",
       "                  timestamp   unit source_name   latitude  longitude  \\\n",
       "0 2018-02-22 03:00:00+00:00  µg/m³        CPCB  12.912811   77.60922   \n",
       "1 2018-02-22 03:00:00+00:00  µg/m³        CPCB  12.912811   77.60922   \n",
       "2 2018-02-22 03:00:00+00:00  µg/m³        CPCB  12.912811   77.60922   \n",
       "3 2018-02-22 03:00:00+00:00  µg/m³        CPCB  12.912811   77.60922   \n",
       "4 2018-02-22 03:00:00+00:00  µg/m³        CPCB  12.912811   77.60922   \n",
       "\n",
       "   averaged_over_in_hours  \n",
       "0                    0.25  \n",
       "1                    0.25  \n",
       "2                    0.25  \n",
       "3                    0.25  \n",
       "4                    0.25  "
      ]
     },
     "execution_count": 3,
     "metadata": {},
     "output_type": "execute_result"
    }
   ],
   "source": [
    "open_aq.head('global_air_quality')"
   ]
  },
  {
   "cell_type": "code",
   "execution_count": 4,
   "metadata": {
    "execution": {
     "iopub.execute_input": "2021-03-21T05:20:29.181953Z",
     "iopub.status.busy": "2021-03-21T05:20:29.181293Z",
     "iopub.status.idle": "2021-03-21T05:20:29.184525Z",
     "shell.execute_reply": "2021-03-21T05:20:29.183955Z"
    },
    "papermill": {
     "duration": 0.045575,
     "end_time": "2021-03-21T05:20:29.184669",
     "exception": false,
     "start_time": "2021-03-21T05:20:29.139094",
     "status": "completed"
    },
    "tags": []
   },
   "outputs": [],
   "source": [
    "def run_query(query , client):\n",
    "    if (client.estimate_query_size(query) >= 1):\n",
    "        return \"Query too big!\"\n",
    "    else:\n",
    "        return client.query_to_pandas_safe(query)\n",
    "\n"
   ]
  },
  {
   "cell_type": "code",
   "execution_count": 5,
   "metadata": {
    "execution": {
     "iopub.execute_input": "2021-03-21T05:20:29.265673Z",
     "iopub.status.busy": "2021-03-21T05:20:29.264381Z",
     "iopub.status.idle": "2021-03-21T05:20:31.106535Z",
     "shell.execute_reply": "2021-03-21T05:20:31.105922Z"
    },
    "papermill": {
     "duration": 1.885716,
     "end_time": "2021-03-21T05:20:31.106683",
     "exception": false,
     "start_time": "2021-03-21T05:20:29.220967",
     "status": "completed"
    },
    "tags": []
   },
   "outputs": [
    {
     "data": {
      "text/html": [
       "<div>\n",
       "<style scoped>\n",
       "    .dataframe tbody tr th:only-of-type {\n",
       "        vertical-align: middle;\n",
       "    }\n",
       "\n",
       "    .dataframe tbody tr th {\n",
       "        vertical-align: top;\n",
       "    }\n",
       "\n",
       "    .dataframe thead th {\n",
       "        text-align: right;\n",
       "    }\n",
       "</style>\n",
       "<table border=\"1\" class=\"dataframe\">\n",
       "  <thead>\n",
       "    <tr style=\"text-align: right;\">\n",
       "      <th></th>\n",
       "      <th>COUNTRY</th>\n",
       "      <th>TOTAL_ENTRIES</th>\n",
       "    </tr>\n",
       "  </thead>\n",
       "  <tbody>\n",
       "    <tr>\n",
       "      <th>0</th>\n",
       "      <td>US</td>\n",
       "      <td>3723</td>\n",
       "    </tr>\n",
       "    <tr>\n",
       "      <th>1</th>\n",
       "      <td>ES</td>\n",
       "      <td>2123</td>\n",
       "    </tr>\n",
       "    <tr>\n",
       "      <th>2</th>\n",
       "      <td>FR</td>\n",
       "      <td>1608</td>\n",
       "    </tr>\n",
       "    <tr>\n",
       "      <th>3</th>\n",
       "      <td>IN</td>\n",
       "      <td>1531</td>\n",
       "    </tr>\n",
       "    <tr>\n",
       "      <th>4</th>\n",
       "      <td>DE</td>\n",
       "      <td>1455</td>\n",
       "    </tr>\n",
       "    <tr>\n",
       "      <th>...</th>\n",
       "      <td>...</td>\n",
       "      <td>...</td>\n",
       "    </tr>\n",
       "    <tr>\n",
       "      <th>93</th>\n",
       "      <td>GN</td>\n",
       "      <td>1</td>\n",
       "    </tr>\n",
       "    <tr>\n",
       "      <th>94</th>\n",
       "      <td>CR</td>\n",
       "      <td>1</td>\n",
       "    </tr>\n",
       "    <tr>\n",
       "      <th>95</th>\n",
       "      <td>TM</td>\n",
       "      <td>1</td>\n",
       "    </tr>\n",
       "    <tr>\n",
       "      <th>96</th>\n",
       "      <td>TJ</td>\n",
       "      <td>1</td>\n",
       "    </tr>\n",
       "    <tr>\n",
       "      <th>97</th>\n",
       "      <td>LA</td>\n",
       "      <td>1</td>\n",
       "    </tr>\n",
       "  </tbody>\n",
       "</table>\n",
       "<p>98 rows × 2 columns</p>\n",
       "</div>"
      ],
      "text/plain": [
       "   COUNTRY  TOTAL_ENTRIES\n",
       "0       US           3723\n",
       "1       ES           2123\n",
       "2       FR           1608\n",
       "3       IN           1531\n",
       "4       DE           1455\n",
       "..     ...            ...\n",
       "93      GN              1\n",
       "94      CR              1\n",
       "95      TM              1\n",
       "96      TJ              1\n",
       "97      LA              1\n",
       "\n",
       "[98 rows x 2 columns]"
      ]
     },
     "execution_count": 5,
     "metadata": {},
     "output_type": "execute_result"
    }
   ],
   "source": [
    "query = \"\"\"\n",
    "        SELECT COUNTRY , COUNT(1) AS TOTAL_ENTRIES\n",
    "        FROM `bigquery-public-data.openaq.global_air_quality`\n",
    "        GROUP BY COUNTRY\n",
    "        ORDER BY TOTAL_ENTRIES DESC;\n",
    "\"\"\"\n",
    "run_query(query,open_aq)"
   ]
  },
  {
   "cell_type": "code",
   "execution_count": 6,
   "metadata": {
    "execution": {
     "iopub.execute_input": "2021-03-21T05:20:31.189207Z",
     "iopub.status.busy": "2021-03-21T05:20:31.188317Z",
     "iopub.status.idle": "2021-03-21T05:20:32.948612Z",
     "shell.execute_reply": "2021-03-21T05:20:32.948071Z"
    },
    "papermill": {
     "duration": 1.805179,
     "end_time": "2021-03-21T05:20:32.948761",
     "exception": false,
     "start_time": "2021-03-21T05:20:31.143582",
     "status": "completed"
    },
    "tags": []
   },
   "outputs": [
    {
     "data": {
      "text/html": [
       "<div>\n",
       "<style scoped>\n",
       "    .dataframe tbody tr th:only-of-type {\n",
       "        vertical-align: middle;\n",
       "    }\n",
       "\n",
       "    .dataframe tbody tr th {\n",
       "        vertical-align: top;\n",
       "    }\n",
       "\n",
       "    .dataframe thead th {\n",
       "        text-align: right;\n",
       "    }\n",
       "</style>\n",
       "<table border=\"1\" class=\"dataframe\">\n",
       "  <thead>\n",
       "    <tr style=\"text-align: right;\">\n",
       "      <th></th>\n",
       "      <th>CITY</th>\n",
       "      <th>TOTAL_ENTRIES</th>\n",
       "    </tr>\n",
       "  </thead>\n",
       "  <tbody>\n",
       "    <tr>\n",
       "      <th>0</th>\n",
       "      <td>Phoenix-Mesa-Scottsdale</td>\n",
       "      <td>88</td>\n",
       "    </tr>\n",
       "    <tr>\n",
       "      <th>1</th>\n",
       "      <td>Houston</td>\n",
       "      <td>82</td>\n",
       "    </tr>\n",
       "    <tr>\n",
       "      <th>2</th>\n",
       "      <td>Los Angeles-Long Beach-Santa Ana</td>\n",
       "      <td>68</td>\n",
       "    </tr>\n",
       "    <tr>\n",
       "      <th>3</th>\n",
       "      <td>Riverside-San Bernardino-Ontario</td>\n",
       "      <td>60</td>\n",
       "    </tr>\n",
       "    <tr>\n",
       "      <th>4</th>\n",
       "      <td>New York-Northern New Jersey-Long Island</td>\n",
       "      <td>60</td>\n",
       "    </tr>\n",
       "    <tr>\n",
       "      <th>...</th>\n",
       "      <td>...</td>\n",
       "      <td>...</td>\n",
       "    </tr>\n",
       "    <tr>\n",
       "      <th>776</th>\n",
       "      <td>Kalispell</td>\n",
       "      <td>1</td>\n",
       "    </tr>\n",
       "    <tr>\n",
       "      <th>777</th>\n",
       "      <td>YUKON-KOYUKUK</td>\n",
       "      <td>1</td>\n",
       "    </tr>\n",
       "    <tr>\n",
       "      <th>778</th>\n",
       "      <td>Atlanta</td>\n",
       "      <td>1</td>\n",
       "    </tr>\n",
       "    <tr>\n",
       "      <th>779</th>\n",
       "      <td>Mammoth Cave NP</td>\n",
       "      <td>1</td>\n",
       "    </tr>\n",
       "    <tr>\n",
       "      <th>780</th>\n",
       "      <td>Moscow</td>\n",
       "      <td>1</td>\n",
       "    </tr>\n",
       "  </tbody>\n",
       "</table>\n",
       "<p>781 rows × 2 columns</p>\n",
       "</div>"
      ],
      "text/plain": [
       "                                         CITY  TOTAL_ENTRIES\n",
       "0                     Phoenix-Mesa-Scottsdale             88\n",
       "1                                     Houston             82\n",
       "2            Los Angeles-Long Beach-Santa Ana             68\n",
       "3            Riverside-San Bernardino-Ontario             60\n",
       "4    New York-Northern New Jersey-Long Island             60\n",
       "..                                        ...            ...\n",
       "776                                 Kalispell              1\n",
       "777                             YUKON-KOYUKUK              1\n",
       "778                                   Atlanta              1\n",
       "779                           Mammoth Cave NP              1\n",
       "780                                    Moscow              1\n",
       "\n",
       "[781 rows x 2 columns]"
      ]
     },
     "execution_count": 6,
     "metadata": {},
     "output_type": "execute_result"
    }
   ],
   "source": [
    "query = \"\"\"\n",
    "        SELECT CITY, COUNT(1) AS TOTAL_ENTRIES\n",
    "        FROM `bigquery-public-data.openaq.global_air_quality`\n",
    "        WHERE country = 'US'\n",
    "        GROUP BY CITY\n",
    "        ORDER BY TOTAL_ENTRIES DESC\n",
    "\"\"\"\n",
    "run_query(query,open_aq)"
   ]
  },
  {
   "cell_type": "code",
   "execution_count": 7,
   "metadata": {
    "execution": {
     "iopub.execute_input": "2021-03-21T05:20:33.031739Z",
     "iopub.status.busy": "2021-03-21T05:20:33.031082Z",
     "iopub.status.idle": "2021-03-21T05:20:35.212711Z",
     "shell.execute_reply": "2021-03-21T05:20:35.212208Z"
    },
    "papermill": {
     "duration": 2.226382,
     "end_time": "2021-03-21T05:20:35.212868",
     "exception": false,
     "start_time": "2021-03-21T05:20:32.986486",
     "status": "completed"
    },
    "tags": []
   },
   "outputs": [
    {
     "data": {
      "text/html": [
       "<div>\n",
       "<style scoped>\n",
       "    .dataframe tbody tr th:only-of-type {\n",
       "        vertical-align: middle;\n",
       "    }\n",
       "\n",
       "    .dataframe tbody tr th {\n",
       "        vertical-align: top;\n",
       "    }\n",
       "\n",
       "    .dataframe thead th {\n",
       "        text-align: right;\n",
       "    }\n",
       "</style>\n",
       "<table border=\"1\" class=\"dataframe\">\n",
       "  <thead>\n",
       "    <tr style=\"text-align: right;\">\n",
       "      <th></th>\n",
       "      <th>CITY</th>\n",
       "      <th>TOTAL_ENTRIES</th>\n",
       "    </tr>\n",
       "  </thead>\n",
       "  <tbody>\n",
       "    <tr>\n",
       "      <th>0</th>\n",
       "      <td>Delhi</td>\n",
       "      <td>247</td>\n",
       "    </tr>\n",
       "    <tr>\n",
       "      <th>1</th>\n",
       "      <td>Bengaluru</td>\n",
       "      <td>44</td>\n",
       "    </tr>\n",
       "    <tr>\n",
       "      <th>2</th>\n",
       "      <td>Kolkata</td>\n",
       "      <td>41</td>\n",
       "    </tr>\n",
       "    <tr>\n",
       "      <th>3</th>\n",
       "      <td>Patna</td>\n",
       "      <td>39</td>\n",
       "    </tr>\n",
       "    <tr>\n",
       "      <th>4</th>\n",
       "      <td>Faridabad</td>\n",
       "      <td>30</td>\n",
       "    </tr>\n",
       "    <tr>\n",
       "      <th>...</th>\n",
       "      <td>...</td>\n",
       "      <td>...</td>\n",
       "    </tr>\n",
       "    <tr>\n",
       "      <th>160</th>\n",
       "      <td>Navi Mumbai</td>\n",
       "      <td>4</td>\n",
       "    </tr>\n",
       "    <tr>\n",
       "      <th>161</th>\n",
       "      <td>S.E. POLICE CONTROL ROOM</td>\n",
       "      <td>4</td>\n",
       "    </tr>\n",
       "    <tr>\n",
       "      <th>162</th>\n",
       "      <td>Collectorate Campus</td>\n",
       "      <td>4</td>\n",
       "    </tr>\n",
       "    <tr>\n",
       "      <th>163</th>\n",
       "      <td>Birla Colony Campus</td>\n",
       "      <td>4</td>\n",
       "    </tr>\n",
       "    <tr>\n",
       "      <th>164</th>\n",
       "      <td>Satna</td>\n",
       "      <td>4</td>\n",
       "    </tr>\n",
       "  </tbody>\n",
       "</table>\n",
       "<p>165 rows × 2 columns</p>\n",
       "</div>"
      ],
      "text/plain": [
       "                         CITY  TOTAL_ENTRIES\n",
       "0                       Delhi            247\n",
       "1                   Bengaluru             44\n",
       "2                     Kolkata             41\n",
       "3                       Patna             39\n",
       "4                   Faridabad             30\n",
       "..                        ...            ...\n",
       "160               Navi Mumbai              4\n",
       "161  S.E. POLICE CONTROL ROOM              4\n",
       "162       Collectorate Campus              4\n",
       "163       Birla Colony Campus              4\n",
       "164                     Satna              4\n",
       "\n",
       "[165 rows x 2 columns]"
      ]
     },
     "execution_count": 7,
     "metadata": {},
     "output_type": "execute_result"
    }
   ],
   "source": [
    "query = \"\"\"\n",
    "        SELECT CITY, COUNT(1) AS TOTAL_ENTRIES\n",
    "        FROM `bigquery-public-data.openaq.global_air_quality`\n",
    "        WHERE country = 'IN'\n",
    "        GROUP BY CITY\n",
    "        ORDER BY TOTAL_ENTRIES DESC\n",
    "\"\"\"\n",
    "run_query(query,open_aq)"
   ]
  },
  {
   "cell_type": "markdown",
   "metadata": {
    "papermill": {
     "duration": 0.037834,
     "end_time": "2021-03-21T05:20:35.288943",
     "exception": false,
     "start_time": "2021-03-21T05:20:35.251109",
     "status": "completed"
    },
    "tags": []
   },
   "source": [
    "For the purpose of this project , we are focusing only on Delhi."
   ]
  },
  {
   "cell_type": "code",
   "execution_count": 8,
   "metadata": {
    "execution": {
     "iopub.execute_input": "2021-03-21T05:20:35.372444Z",
     "iopub.status.busy": "2021-03-21T05:20:35.371740Z",
     "iopub.status.idle": "2021-03-21T05:20:37.175576Z",
     "shell.execute_reply": "2021-03-21T05:20:37.176164Z"
    },
    "papermill": {
     "duration": 1.849136,
     "end_time": "2021-03-21T05:20:37.176357",
     "exception": false,
     "start_time": "2021-03-21T05:20:35.327221",
     "status": "completed"
    },
    "tags": []
   },
   "outputs": [
    {
     "data": {
      "text/html": [
       "<div>\n",
       "<style scoped>\n",
       "    .dataframe tbody tr th:only-of-type {\n",
       "        vertical-align: middle;\n",
       "    }\n",
       "\n",
       "    .dataframe tbody tr th {\n",
       "        vertical-align: top;\n",
       "    }\n",
       "\n",
       "    .dataframe thead th {\n",
       "        text-align: right;\n",
       "    }\n",
       "</style>\n",
       "<table border=\"1\" class=\"dataframe\">\n",
       "  <thead>\n",
       "    <tr style=\"text-align: right;\">\n",
       "      <th></th>\n",
       "      <th>CITY</th>\n",
       "      <th>TOTAL_ENTRIES</th>\n",
       "    </tr>\n",
       "  </thead>\n",
       "  <tbody>\n",
       "    <tr>\n",
       "      <th>0</th>\n",
       "      <td>Delhi</td>\n",
       "      <td>247</td>\n",
       "    </tr>\n",
       "    <tr>\n",
       "      <th>1</th>\n",
       "      <td>New Delhi</td>\n",
       "      <td>6</td>\n",
       "    </tr>\n",
       "  </tbody>\n",
       "</table>\n",
       "</div>"
      ],
      "text/plain": [
       "        CITY  TOTAL_ENTRIES\n",
       "0      Delhi            247\n",
       "1  New Delhi              6"
      ]
     },
     "execution_count": 8,
     "metadata": {},
     "output_type": "execute_result"
    }
   ],
   "source": [
    "query = \"\"\"\n",
    "        SELECT CITY, COUNT(1) AS TOTAL_ENTRIES\n",
    "        FROM `bigquery-public-data.openaq.global_air_quality`\n",
    "        WHERE CITY LIKE '%Delhi%'\n",
    "        GROUP BY CITY\n",
    "        ORDER BY TOTAL_ENTRIES DESC;\n",
    "\"\"\"\n",
    "run_query(query,open_aq)"
   ]
  },
  {
   "cell_type": "markdown",
   "metadata": {
    "papermill": {
     "duration": 0.039077,
     "end_time": "2021-03-21T05:20:37.254645",
     "exception": false,
     "start_time": "2021-03-21T05:20:37.215568",
     "status": "completed"
    },
    "tags": []
   },
   "source": [
    "New Delhi and Delhi are the same city hence we will need to change new delhi to delhi in the final dataset we obtain."
   ]
  },
  {
   "cell_type": "code",
   "execution_count": 9,
   "metadata": {
    "execution": {
     "iopub.execute_input": "2021-03-21T05:20:37.339921Z",
     "iopub.status.busy": "2021-03-21T05:20:37.339205Z",
     "iopub.status.idle": "2021-03-21T05:20:38.880711Z",
     "shell.execute_reply": "2021-03-21T05:20:38.881205Z"
    },
    "papermill": {
     "duration": 1.587716,
     "end_time": "2021-03-21T05:20:38.881418",
     "exception": false,
     "start_time": "2021-03-21T05:20:37.293702",
     "status": "completed"
    },
    "tags": []
   },
   "outputs": [
    {
     "data": {
      "text/html": [
       "<div>\n",
       "<style scoped>\n",
       "    .dataframe tbody tr th:only-of-type {\n",
       "        vertical-align: middle;\n",
       "    }\n",
       "\n",
       "    .dataframe tbody tr th {\n",
       "        vertical-align: top;\n",
       "    }\n",
       "\n",
       "    .dataframe thead th {\n",
       "        text-align: right;\n",
       "    }\n",
       "</style>\n",
       "<table border=\"1\" class=\"dataframe\">\n",
       "  <thead>\n",
       "    <tr style=\"text-align: right;\">\n",
       "      <th></th>\n",
       "      <th>CITY</th>\n",
       "      <th>LAST_RECORDED_YEAR</th>\n",
       "      <th>FIRST_RECORDED_YEAR</th>\n",
       "    </tr>\n",
       "  </thead>\n",
       "  <tbody>\n",
       "    <tr>\n",
       "      <th>0</th>\n",
       "      <td>New Delhi</td>\n",
       "      <td>2020</td>\n",
       "      <td>2020</td>\n",
       "    </tr>\n",
       "    <tr>\n",
       "      <th>1</th>\n",
       "      <td>Delhi</td>\n",
       "      <td>2020</td>\n",
       "      <td>2015</td>\n",
       "    </tr>\n",
       "  </tbody>\n",
       "</table>\n",
       "</div>"
      ],
      "text/plain": [
       "        CITY  LAST_RECORDED_YEAR  FIRST_RECORDED_YEAR\n",
       "0  New Delhi                2020                 2020\n",
       "1      Delhi                2020                 2015"
      ]
     },
     "execution_count": 9,
     "metadata": {},
     "output_type": "execute_result"
    }
   ],
   "source": [
    "query = \"\"\"\n",
    "        SELECT CITY , MAX(EXTRACT(YEAR FROM TIMESTAMP)) AS LAST_RECORDED_YEAR , MIN(EXTRACT(YEAR FROM TIMESTAMP)) AS FIRST_RECORDED_YEAR\n",
    "        FROM `bigquery-public-data.openaq.global_air_quality`\n",
    "        WHERE CITY LIKE '%Delhi%'\n",
    "        GROUP BY CITY\n",
    "\"\"\"\n",
    "run_query(query,open_aq)"
   ]
  },
  {
   "cell_type": "markdown",
   "metadata": {
    "papermill": {
     "duration": 0.04147,
     "end_time": "2021-03-21T05:20:38.964219",
     "exception": false,
     "start_time": "2021-03-21T05:20:38.922749",
     "status": "completed"
    },
    "tags": []
   },
   "source": [
    "From this we can see that we have a total record of 5 years. This is more than sufficient for our analysis."
   ]
  },
  {
   "cell_type": "code",
   "execution_count": 10,
   "metadata": {
    "execution": {
     "iopub.execute_input": "2021-03-21T05:20:39.050011Z",
     "iopub.status.busy": "2021-03-21T05:20:39.048912Z",
     "iopub.status.idle": "2021-03-21T05:20:40.521049Z",
     "shell.execute_reply": "2021-03-21T05:20:40.521681Z"
    },
    "papermill": {
     "duration": 1.517156,
     "end_time": "2021-03-21T05:20:40.521901",
     "exception": false,
     "start_time": "2021-03-21T05:20:39.004745",
     "status": "completed"
    },
    "tags": []
   },
   "outputs": [
    {
     "data": {
      "text/html": [
       "<div>\n",
       "<style scoped>\n",
       "    .dataframe tbody tr th:only-of-type {\n",
       "        vertical-align: middle;\n",
       "    }\n",
       "\n",
       "    .dataframe tbody tr th {\n",
       "        vertical-align: top;\n",
       "    }\n",
       "\n",
       "    .dataframe thead th {\n",
       "        text-align: right;\n",
       "    }\n",
       "</style>\n",
       "<table border=\"1\" class=\"dataframe\">\n",
       "  <thead>\n",
       "    <tr style=\"text-align: right;\">\n",
       "      <th></th>\n",
       "      <th>LOCATION</th>\n",
       "      <th>TOTAL_ENTRIES</th>\n",
       "    </tr>\n",
       "  </thead>\n",
       "  <tbody>\n",
       "    <tr>\n",
       "      <th>0</th>\n",
       "      <td>Dwarka-Sector 8, Delhi - DPCC</td>\n",
       "      <td>6</td>\n",
       "    </tr>\n",
       "    <tr>\n",
       "      <th>1</th>\n",
       "      <td>IGI Airport</td>\n",
       "      <td>5</td>\n",
       "    </tr>\n",
       "    <tr>\n",
       "      <th>2</th>\n",
       "      <td>R K Puram</td>\n",
       "      <td>6</td>\n",
       "    </tr>\n",
       "    <tr>\n",
       "      <th>3</th>\n",
       "      <td>NSIT Dwarka</td>\n",
       "      <td>5</td>\n",
       "    </tr>\n",
       "    <tr>\n",
       "      <th>4</th>\n",
       "      <td>Income Tax Office</td>\n",
       "      <td>2</td>\n",
       "    </tr>\n",
       "    <tr>\n",
       "      <th>5</th>\n",
       "      <td>Income Tax Office, Delhi - CPCB</td>\n",
       "      <td>3</td>\n",
       "    </tr>\n",
       "    <tr>\n",
       "      <th>6</th>\n",
       "      <td>Mandir Marg</td>\n",
       "      <td>6</td>\n",
       "    </tr>\n",
       "    <tr>\n",
       "      <th>7</th>\n",
       "      <td>Anand Vihar</td>\n",
       "      <td>6</td>\n",
       "    </tr>\n",
       "    <tr>\n",
       "      <th>8</th>\n",
       "      <td>Shadipur</td>\n",
       "      <td>5</td>\n",
       "    </tr>\n",
       "    <tr>\n",
       "      <th>9</th>\n",
       "      <td>Punjabi Bagh</td>\n",
       "      <td>6</td>\n",
       "    </tr>\n",
       "    <tr>\n",
       "      <th>10</th>\n",
       "      <td>Civil Lines</td>\n",
       "      <td>4</td>\n",
       "    </tr>\n",
       "    <tr>\n",
       "      <th>11</th>\n",
       "      <td>IHBAS, Delhi - CPCB</td>\n",
       "      <td>4</td>\n",
       "    </tr>\n",
       "    <tr>\n",
       "      <th>12</th>\n",
       "      <td>Delhi Technological University, Delhi - CPCB</td>\n",
       "      <td>2</td>\n",
       "    </tr>\n",
       "    <tr>\n",
       "      <th>13</th>\n",
       "      <td>Delhi College Of Engineering</td>\n",
       "      <td>1</td>\n",
       "    </tr>\n",
       "    <tr>\n",
       "      <th>14</th>\n",
       "      <td>Aya Nagar, Delhi - IMD</td>\n",
       "      <td>5</td>\n",
       "    </tr>\n",
       "    <tr>\n",
       "      <th>15</th>\n",
       "      <td>Dr. Karni Singh Shooting Range, Delhi - DPCC</td>\n",
       "      <td>6</td>\n",
       "    </tr>\n",
       "    <tr>\n",
       "      <th>16</th>\n",
       "      <td>Okhla Phase-2, Delhi - DPCC</td>\n",
       "      <td>6</td>\n",
       "    </tr>\n",
       "    <tr>\n",
       "      <th>17</th>\n",
       "      <td>Sri Aurobindo Marg, Delhi - DPCC</td>\n",
       "      <td>6</td>\n",
       "    </tr>\n",
       "    <tr>\n",
       "      <th>18</th>\n",
       "      <td>Sirifort, Delhi - CPCB</td>\n",
       "      <td>6</td>\n",
       "    </tr>\n",
       "    <tr>\n",
       "      <th>19</th>\n",
       "      <td>CRRI Mathura Road, Delhi - IMD</td>\n",
       "      <td>5</td>\n",
       "    </tr>\n",
       "    <tr>\n",
       "      <th>20</th>\n",
       "      <td>IGI Airport (T3), Delhi - IMD</td>\n",
       "      <td>5</td>\n",
       "    </tr>\n",
       "    <tr>\n",
       "      <th>21</th>\n",
       "      <td>R K Puram, Delhi - DPCC</td>\n",
       "      <td>6</td>\n",
       "    </tr>\n",
       "    <tr>\n",
       "      <th>22</th>\n",
       "      <td>Nehru Nagar, Delhi - DPCC</td>\n",
       "      <td>6</td>\n",
       "    </tr>\n",
       "    <tr>\n",
       "      <th>23</th>\n",
       "      <td>Najafgarh, Delhi - DPCC</td>\n",
       "      <td>6</td>\n",
       "    </tr>\n",
       "    <tr>\n",
       "      <th>24</th>\n",
       "      <td>Lodhi Road, Delhi - IMD</td>\n",
       "      <td>5</td>\n",
       "    </tr>\n",
       "    <tr>\n",
       "      <th>25</th>\n",
       "      <td>NSIT Dwarka, Delhi - CPCB</td>\n",
       "      <td>5</td>\n",
       "    </tr>\n",
       "    <tr>\n",
       "      <th>26</th>\n",
       "      <td>ITO, Delhi - CPCB</td>\n",
       "      <td>6</td>\n",
       "    </tr>\n",
       "    <tr>\n",
       "      <th>27</th>\n",
       "      <td>ITO, New Delhi - CPCB</td>\n",
       "      <td>6</td>\n",
       "    </tr>\n",
       "    <tr>\n",
       "      <th>28</th>\n",
       "      <td>Mandir Marg, Delhi - DPCC</td>\n",
       "      <td>6</td>\n",
       "    </tr>\n",
       "    <tr>\n",
       "      <th>29</th>\n",
       "      <td>Pusa, Delhi - IMD</td>\n",
       "      <td>5</td>\n",
       "    </tr>\n",
       "    <tr>\n",
       "      <th>30</th>\n",
       "      <td>Pusa, Delhi - DPCC</td>\n",
       "      <td>1</td>\n",
       "    </tr>\n",
       "    <tr>\n",
       "      <th>31</th>\n",
       "      <td>Anand Vihar, Delhi - DPCC</td>\n",
       "      <td>6</td>\n",
       "    </tr>\n",
       "    <tr>\n",
       "      <th>32</th>\n",
       "      <td>Shadipur, Delhi - CPCB</td>\n",
       "      <td>6</td>\n",
       "    </tr>\n",
       "    <tr>\n",
       "      <th>33</th>\n",
       "      <td>East Arjun Nagar, Delhi - CPCB</td>\n",
       "      <td>3</td>\n",
       "    </tr>\n",
       "    <tr>\n",
       "      <th>34</th>\n",
       "      <td>North Campus, DU, Delhi - IMD</td>\n",
       "      <td>5</td>\n",
       "    </tr>\n",
       "    <tr>\n",
       "      <th>35</th>\n",
       "      <td>Punjabi Bagh, Delhi - DPCC</td>\n",
       "      <td>6</td>\n",
       "    </tr>\n",
       "    <tr>\n",
       "      <th>36</th>\n",
       "      <td>IHBAS, Dilshad Garden, Delhi - CPCB</td>\n",
       "      <td>5</td>\n",
       "    </tr>\n",
       "    <tr>\n",
       "      <th>37</th>\n",
       "      <td>Mundka, Delhi - DPCC</td>\n",
       "      <td>6</td>\n",
       "    </tr>\n",
       "    <tr>\n",
       "      <th>38</th>\n",
       "      <td>Ashok Vihar, Delhi - DPCC</td>\n",
       "      <td>6</td>\n",
       "    </tr>\n",
       "    <tr>\n",
       "      <th>39</th>\n",
       "      <td>Wazirpur, Delhi - DPCC</td>\n",
       "      <td>6</td>\n",
       "    </tr>\n",
       "    <tr>\n",
       "      <th>40</th>\n",
       "      <td>Sonia Vihar, Delhi - DPCC</td>\n",
       "      <td>6</td>\n",
       "    </tr>\n",
       "    <tr>\n",
       "      <th>41</th>\n",
       "      <td>Burari Crossing, Delhi - IMD</td>\n",
       "      <td>5</td>\n",
       "    </tr>\n",
       "    <tr>\n",
       "      <th>42</th>\n",
       "      <td>Rohini, Delhi - DPCC</td>\n",
       "      <td>6</td>\n",
       "    </tr>\n",
       "    <tr>\n",
       "      <th>43</th>\n",
       "      <td>Jahangirpuri, Delhi - DPCC</td>\n",
       "      <td>6</td>\n",
       "    </tr>\n",
       "    <tr>\n",
       "      <th>44</th>\n",
       "      <td>DTU, Delhi - CPCB</td>\n",
       "      <td>6</td>\n",
       "    </tr>\n",
       "    <tr>\n",
       "      <th>45</th>\n",
       "      <td>Bawana, Delhi - DPCC</td>\n",
       "      <td>5</td>\n",
       "    </tr>\n",
       "    <tr>\n",
       "      <th>46</th>\n",
       "      <td>Narela, Delhi - DPCC</td>\n",
       "      <td>6</td>\n",
       "    </tr>\n",
       "    <tr>\n",
       "      <th>47</th>\n",
       "      <td>Anand Vihar, New Delhi - DPCC</td>\n",
       "      <td>6</td>\n",
       "    </tr>\n",
       "    <tr>\n",
       "      <th>48</th>\n",
       "      <td>Punjabi Bagh, New Delhi - DPCC</td>\n",
       "      <td>6</td>\n",
       "    </tr>\n",
       "  </tbody>\n",
       "</table>\n",
       "</div>"
      ],
      "text/plain": [
       "                                        LOCATION  TOTAL_ENTRIES\n",
       "0                 Dwarka-Sector 8, Delhi - DPCC               6\n",
       "1                                    IGI Airport              5\n",
       "2                                      R K Puram              6\n",
       "3                                    NSIT Dwarka              5\n",
       "4                              Income Tax Office              2\n",
       "5                Income Tax Office, Delhi - CPCB              3\n",
       "6                                    Mandir Marg              6\n",
       "7                                    Anand Vihar              6\n",
       "8                                       Shadipur              5\n",
       "9                                   Punjabi Bagh              6\n",
       "10                                   Civil Lines              4\n",
       "11                           IHBAS, Delhi - CPCB              4\n",
       "12  Delhi Technological University, Delhi - CPCB              2\n",
       "13                  Delhi College Of Engineering              1\n",
       "14                        Aya Nagar, Delhi - IMD              5\n",
       "15  Dr. Karni Singh Shooting Range, Delhi - DPCC              6\n",
       "16                   Okhla Phase-2, Delhi - DPCC              6\n",
       "17              Sri Aurobindo Marg, Delhi - DPCC              6\n",
       "18                        Sirifort, Delhi - CPCB              6\n",
       "19                CRRI Mathura Road, Delhi - IMD              5\n",
       "20                 IGI Airport (T3), Delhi - IMD              5\n",
       "21                       R K Puram, Delhi - DPCC              6\n",
       "22                     Nehru Nagar, Delhi - DPCC              6\n",
       "23                       Najafgarh, Delhi - DPCC              6\n",
       "24                       Lodhi Road, Delhi - IMD              5\n",
       "25                     NSIT Dwarka, Delhi - CPCB              5\n",
       "26                             ITO, Delhi - CPCB              6\n",
       "27                         ITO, New Delhi - CPCB              6\n",
       "28                     Mandir Marg, Delhi - DPCC              6\n",
       "29                             Pusa, Delhi - IMD              5\n",
       "30                            Pusa, Delhi - DPCC              1\n",
       "31                     Anand Vihar, Delhi - DPCC              6\n",
       "32                        Shadipur, Delhi - CPCB              6\n",
       "33                East Arjun Nagar, Delhi - CPCB              3\n",
       "34                 North Campus, DU, Delhi - IMD              5\n",
       "35                    Punjabi Bagh, Delhi - DPCC              6\n",
       "36           IHBAS, Dilshad Garden, Delhi - CPCB              5\n",
       "37                          Mundka, Delhi - DPCC              6\n",
       "38                     Ashok Vihar, Delhi - DPCC              6\n",
       "39                        Wazirpur, Delhi - DPCC              6\n",
       "40                     Sonia Vihar, Delhi - DPCC              6\n",
       "41                  Burari Crossing, Delhi - IMD              5\n",
       "42                          Rohini, Delhi - DPCC              6\n",
       "43                    Jahangirpuri, Delhi - DPCC              6\n",
       "44                             DTU, Delhi - CPCB              6\n",
       "45                          Bawana, Delhi - DPCC              5\n",
       "46                          Narela, Delhi - DPCC              6\n",
       "47                 Anand Vihar, New Delhi - DPCC              6\n",
       "48                Punjabi Bagh, New Delhi - DPCC              6"
      ]
     },
     "execution_count": 10,
     "metadata": {},
     "output_type": "execute_result"
    }
   ],
   "source": [
    "query = \"\"\"\n",
    "        SELECT LOCATION , COUNT(1) AS TOTAL_ENTRIES \n",
    "        FROM `bigquery-public-data.openaq.global_air_quality`\n",
    "        WHERE CITY LIKE '%Delhi%'\n",
    "        GROUP BY LOCATION\n",
    "\n",
    "\"\"\"\n",
    "run_query(query,open_aq)"
   ]
  },
  {
   "cell_type": "markdown",
   "metadata": {
    "papermill": {
     "duration": 0.040298,
     "end_time": "2021-03-21T05:20:40.603763",
     "exception": false,
     "start_time": "2021-03-21T05:20:40.563465",
     "status": "completed"
    },
    "tags": []
   },
   "source": [
    "We can clearly see from this that the locations are scattered all over Delhi. Let's obtain a dataframe with all the coordinates of the given stations."
   ]
  },
  {
   "cell_type": "code",
   "execution_count": 11,
   "metadata": {
    "execution": {
     "iopub.execute_input": "2021-03-21T05:20:40.691689Z",
     "iopub.status.busy": "2021-03-21T05:20:40.691025Z",
     "iopub.status.idle": "2021-03-21T05:20:42.341106Z",
     "shell.execute_reply": "2021-03-21T05:20:42.341700Z"
    },
    "papermill": {
     "duration": 1.697666,
     "end_time": "2021-03-21T05:20:42.341883",
     "exception": false,
     "start_time": "2021-03-21T05:20:40.644217",
     "status": "completed"
    },
    "tags": []
   },
   "outputs": [
    {
     "data": {
      "text/html": [
       "<div>\n",
       "<style scoped>\n",
       "    .dataframe tbody tr th:only-of-type {\n",
       "        vertical-align: middle;\n",
       "    }\n",
       "\n",
       "    .dataframe tbody tr th {\n",
       "        vertical-align: top;\n",
       "    }\n",
       "\n",
       "    .dataframe thead th {\n",
       "        text-align: right;\n",
       "    }\n",
       "</style>\n",
       "<table border=\"1\" class=\"dataframe\">\n",
       "  <thead>\n",
       "    <tr style=\"text-align: right;\">\n",
       "      <th></th>\n",
       "      <th>LOCATION</th>\n",
       "      <th>LATITUDE</th>\n",
       "      <th>LONGITUDE</th>\n",
       "    </tr>\n",
       "  </thead>\n",
       "  <tbody>\n",
       "    <tr>\n",
       "      <th>0</th>\n",
       "      <td>Dwarka-Sector 8, Delhi - DPCC</td>\n",
       "      <td>28.571028</td>\n",
       "      <td>77.0719</td>\n",
       "    </tr>\n",
       "    <tr>\n",
       "      <th>1</th>\n",
       "      <td>IGI Airport</td>\n",
       "      <td>28.560000</td>\n",
       "      <td>77.0940</td>\n",
       "    </tr>\n",
       "    <tr>\n",
       "      <th>2</th>\n",
       "      <td>R K Puram</td>\n",
       "      <td>28.564800</td>\n",
       "      <td>77.1744</td>\n",
       "    </tr>\n",
       "    <tr>\n",
       "      <th>3</th>\n",
       "      <td>NSIT Dwarka</td>\n",
       "      <td>28.591000</td>\n",
       "      <td>77.0500</td>\n",
       "    </tr>\n",
       "    <tr>\n",
       "      <th>4</th>\n",
       "      <td>Income Tax Office</td>\n",
       "      <td>28.623500</td>\n",
       "      <td>77.2494</td>\n",
       "    </tr>\n",
       "  </tbody>\n",
       "</table>\n",
       "</div>"
      ],
      "text/plain": [
       "                         LOCATION   LATITUDE  LONGITUDE\n",
       "0  Dwarka-Sector 8, Delhi - DPCC   28.571028    77.0719\n",
       "1                     IGI Airport  28.560000    77.0940\n",
       "2                       R K Puram  28.564800    77.1744\n",
       "3                     NSIT Dwarka  28.591000    77.0500\n",
       "4               Income Tax Office  28.623500    77.2494"
      ]
     },
     "execution_count": 11,
     "metadata": {},
     "output_type": "execute_result"
    }
   ],
   "source": [
    "query = \"\"\"\n",
    "        SELECT DISTINCT LOCATION , LATITUDE , LONGITUDE \n",
    "        FROM `bigquery-public-data.openaq.global_air_quality`\n",
    "        WHERE CITY LIKE '%Delhi%'\n",
    "\"\"\"\n",
    "aq_stations_delhi = run_query(query,open_aq)\n",
    "aq_stations_delhi.head()"
   ]
  },
  {
   "cell_type": "markdown",
   "metadata": {
    "papermill": {
     "duration": 0.040614,
     "end_time": "2021-03-21T05:20:42.423518",
     "exception": false,
     "start_time": "2021-03-21T05:20:42.382904",
     "status": "completed"
    },
    "tags": []
   },
   "source": [
    "We might add to this dataset in future. For now , let's plot all the stations on a map, shall we?"
   ]
  },
  {
   "cell_type": "code",
   "execution_count": 12,
   "metadata": {
    "execution": {
     "iopub.execute_input": "2021-03-21T05:20:42.513607Z",
     "iopub.status.busy": "2021-03-21T05:20:42.512771Z",
     "iopub.status.idle": "2021-03-21T05:20:42.888071Z",
     "shell.execute_reply": "2021-03-21T05:20:42.887508Z"
    },
    "papermill": {
     "duration": 0.422878,
     "end_time": "2021-03-21T05:20:42.888238",
     "exception": false,
     "start_time": "2021-03-21T05:20:42.465360",
     "status": "completed"
    },
    "tags": []
   },
   "outputs": [
    {
     "data": {
      "text/html": [
       "<div style=\"width:100%;\"><div style=\"position:relative;width:100%;height:0;padding-bottom:60%;\"><span style=\"color:#565656\">Make this Notebook Trusted to load map: File -> Trust Notebook</span><iframe src=\"about:blank\" style=\"position:absolute;width:100%;height:100%;left:0;top:0;border:none !important;\" data-html=%3C%21DOCTYPE%20html%3E%0A%3Chead%3E%20%20%20%20%0A%20%20%20%20%3Cmeta%20http-equiv%3D%22content-type%22%20content%3D%22text/html%3B%20charset%3DUTF-8%22%20/%3E%0A%20%20%20%20%0A%20%20%20%20%20%20%20%20%3Cscript%3E%0A%20%20%20%20%20%20%20%20%20%20%20%20L_NO_TOUCH%20%3D%20false%3B%0A%20%20%20%20%20%20%20%20%20%20%20%20L_DISABLE_3D%20%3D%20false%3B%0A%20%20%20%20%20%20%20%20%3C/script%3E%0A%20%20%20%20%0A%20%20%20%20%3Cstyle%3Ehtml%2C%20body%20%7Bwidth%3A%20100%25%3Bheight%3A%20100%25%3Bmargin%3A%200%3Bpadding%3A%200%3B%7D%3C/style%3E%0A%20%20%20%20%3Cstyle%3E%23map%20%7Bposition%3Aabsolute%3Btop%3A0%3Bbottom%3A0%3Bright%3A0%3Bleft%3A0%3B%7D%3C/style%3E%0A%20%20%20%20%3Cscript%20src%3D%22https%3A//cdn.jsdelivr.net/npm/leaflet%401.6.0/dist/leaflet.js%22%3E%3C/script%3E%0A%20%20%20%20%3Cscript%20src%3D%22https%3A//code.jquery.com/jquery-1.12.4.min.js%22%3E%3C/script%3E%0A%20%20%20%20%3Cscript%20src%3D%22https%3A//maxcdn.bootstrapcdn.com/bootstrap/3.2.0/js/bootstrap.min.js%22%3E%3C/script%3E%0A%20%20%20%20%3Cscript%20src%3D%22https%3A//cdnjs.cloudflare.com/ajax/libs/Leaflet.awesome-markers/2.0.2/leaflet.awesome-markers.js%22%3E%3C/script%3E%0A%20%20%20%20%3Clink%20rel%3D%22stylesheet%22%20href%3D%22https%3A//cdn.jsdelivr.net/npm/leaflet%401.6.0/dist/leaflet.css%22/%3E%0A%20%20%20%20%3Clink%20rel%3D%22stylesheet%22%20href%3D%22https%3A//maxcdn.bootstrapcdn.com/bootstrap/3.2.0/css/bootstrap.min.css%22/%3E%0A%20%20%20%20%3Clink%20rel%3D%22stylesheet%22%20href%3D%22https%3A//maxcdn.bootstrapcdn.com/bootstrap/3.2.0/css/bootstrap-theme.min.css%22/%3E%0A%20%20%20%20%3Clink%20rel%3D%22stylesheet%22%20href%3D%22https%3A//maxcdn.bootstrapcdn.com/font-awesome/4.6.3/css/font-awesome.min.css%22/%3E%0A%20%20%20%20%3Clink%20rel%3D%22stylesheet%22%20href%3D%22https%3A//cdnjs.cloudflare.com/ajax/libs/Leaflet.awesome-markers/2.0.2/leaflet.awesome-markers.css%22/%3E%0A%20%20%20%20%3Clink%20rel%3D%22stylesheet%22%20href%3D%22https%3A//cdn.jsdelivr.net/gh/python-visualization/folium/folium/templates/leaflet.awesome.rotate.min.css%22/%3E%0A%20%20%20%20%0A%20%20%20%20%20%20%20%20%20%20%20%20%3Cmeta%20name%3D%22viewport%22%20content%3D%22width%3Ddevice-width%2C%0A%20%20%20%20%20%20%20%20%20%20%20%20%20%20%20%20initial-scale%3D1.0%2C%20maximum-scale%3D1.0%2C%20user-scalable%3Dno%22%20/%3E%0A%20%20%20%20%20%20%20%20%20%20%20%20%3Cstyle%3E%0A%20%20%20%20%20%20%20%20%20%20%20%20%20%20%20%20%23map_5366181663ce4d32b05f9ba223088132%20%7B%0A%20%20%20%20%20%20%20%20%20%20%20%20%20%20%20%20%20%20%20%20position%3A%20relative%3B%0A%20%20%20%20%20%20%20%20%20%20%20%20%20%20%20%20%20%20%20%20width%3A%20100.0%25%3B%0A%20%20%20%20%20%20%20%20%20%20%20%20%20%20%20%20%20%20%20%20height%3A%20100.0%25%3B%0A%20%20%20%20%20%20%20%20%20%20%20%20%20%20%20%20%20%20%20%20left%3A%200.0%25%3B%0A%20%20%20%20%20%20%20%20%20%20%20%20%20%20%20%20%20%20%20%20top%3A%200.0%25%3B%0A%20%20%20%20%20%20%20%20%20%20%20%20%20%20%20%20%7D%0A%20%20%20%20%20%20%20%20%20%20%20%20%3C/style%3E%0A%20%20%20%20%20%20%20%20%0A%3C/head%3E%0A%3Cbody%3E%20%20%20%20%0A%20%20%20%20%0A%20%20%20%20%20%20%20%20%20%20%20%20%3Cdiv%20class%3D%22folium-map%22%20id%3D%22map_5366181663ce4d32b05f9ba223088132%22%20%3E%3C/div%3E%0A%20%20%20%20%20%20%20%20%0A%3C/body%3E%0A%3Cscript%3E%20%20%20%20%0A%20%20%20%20%0A%20%20%20%20%20%20%20%20%20%20%20%20var%20map_5366181663ce4d32b05f9ba223088132%20%3D%20L.map%28%0A%20%20%20%20%20%20%20%20%20%20%20%20%20%20%20%20%22map_5366181663ce4d32b05f9ba223088132%22%2C%0A%20%20%20%20%20%20%20%20%20%20%20%20%20%20%20%20%7B%0A%20%20%20%20%20%20%20%20%20%20%20%20%20%20%20%20%20%20%20%20center%3A%20%5B28.7041%2C%2077.1025%5D%2C%0A%20%20%20%20%20%20%20%20%20%20%20%20%20%20%20%20%20%20%20%20crs%3A%20L.CRS.EPSG3857%2C%0A%20%20%20%20%20%20%20%20%20%20%20%20%20%20%20%20%20%20%20%20zoom%3A%2010%2C%0A%20%20%20%20%20%20%20%20%20%20%20%20%20%20%20%20%20%20%20%20zoomControl%3A%20true%2C%0A%20%20%20%20%20%20%20%20%20%20%20%20%20%20%20%20%20%20%20%20preferCanvas%3A%20false%2C%0A%20%20%20%20%20%20%20%20%20%20%20%20%20%20%20%20%7D%0A%20%20%20%20%20%20%20%20%20%20%20%20%29%3B%0A%0A%20%20%20%20%20%20%20%20%20%20%20%20%0A%0A%20%20%20%20%20%20%20%20%0A%20%20%20%20%0A%20%20%20%20%20%20%20%20%20%20%20%20var%20tile_layer_087fba53c5574d4084ca8ca3aaa23f81%20%3D%20L.tileLayer%28%0A%20%20%20%20%20%20%20%20%20%20%20%20%20%20%20%20%22https%3A//%7Bs%7D.tile.openstreetmap.org/%7Bz%7D/%7Bx%7D/%7By%7D.png%22%2C%0A%20%20%20%20%20%20%20%20%20%20%20%20%20%20%20%20%7B%22attribution%22%3A%20%22Data%20by%20%5Cu0026copy%3B%20%5Cu003ca%20href%3D%5C%22http%3A//openstreetmap.org%5C%22%5Cu003eOpenStreetMap%5Cu003c/a%5Cu003e%2C%20under%20%5Cu003ca%20href%3D%5C%22http%3A//www.openstreetmap.org/copyright%5C%22%5Cu003eODbL%5Cu003c/a%5Cu003e.%22%2C%20%22detectRetina%22%3A%20false%2C%20%22maxNativeZoom%22%3A%2018%2C%20%22maxZoom%22%3A%2018%2C%20%22minZoom%22%3A%200%2C%20%22noWrap%22%3A%20false%2C%20%22opacity%22%3A%201%2C%20%22subdomains%22%3A%20%22abc%22%2C%20%22tms%22%3A%20false%7D%0A%20%20%20%20%20%20%20%20%20%20%20%20%29.addTo%28map_5366181663ce4d32b05f9ba223088132%29%3B%0A%20%20%20%20%20%20%20%20%0A%20%20%20%20%0A%20%20%20%20%20%20%20%20%20%20%20%20var%20marker_0823b71e2d6344f89b1163bae906ae9c%20%3D%20L.marker%28%0A%20%20%20%20%20%20%20%20%20%20%20%20%20%20%20%20%5B28.571028%2C%2077.0719%5D%2C%0A%20%20%20%20%20%20%20%20%20%20%20%20%20%20%20%20%7B%22fillColor%22%3A%20%22red%22%2C%20%22radius%22%3A%208%7D%0A%20%20%20%20%20%20%20%20%20%20%20%20%29.addTo%28map_5366181663ce4d32b05f9ba223088132%29%3B%0A%20%20%20%20%20%20%20%20%0A%20%20%20%20%0A%20%20%20%20%20%20%20%20%20%20%20%20marker_0823b71e2d6344f89b1163bae906ae9c.bindTooltip%28%0A%20%20%20%20%20%20%20%20%20%20%20%20%20%20%20%20%60%3Cdiv%3E%0A%20%20%20%20%20%20%20%20%20%20%20%20%20%20%20%20%20%20%20%20%20Dwarka-Sector%208%2C%20Delhi%20-%20DPCC%20%0A%20%20%20%20%20%20%20%20%20%20%20%20%20%20%20%20%20%3C/div%3E%60%2C%0A%20%20%20%20%20%20%20%20%20%20%20%20%20%20%20%20%7B%22sticky%22%3A%20true%7D%0A%20%20%20%20%20%20%20%20%20%20%20%20%29%3B%0A%20%20%20%20%20%20%20%20%0A%20%20%20%20%0A%20%20%20%20%20%20%20%20%20%20%20%20var%20marker_2eb0d15fc3c540649eb1328e879cf3c2%20%3D%20L.marker%28%0A%20%20%20%20%20%20%20%20%20%20%20%20%20%20%20%20%5B28.56%2C%2077.094%5D%2C%0A%20%20%20%20%20%20%20%20%20%20%20%20%20%20%20%20%7B%22fillColor%22%3A%20%22red%22%2C%20%22radius%22%3A%208%7D%0A%20%20%20%20%20%20%20%20%20%20%20%20%29.addTo%28map_5366181663ce4d32b05f9ba223088132%29%3B%0A%20%20%20%20%20%20%20%20%0A%20%20%20%20%0A%20%20%20%20%20%20%20%20%20%20%20%20marker_2eb0d15fc3c540649eb1328e879cf3c2.bindTooltip%28%0A%20%20%20%20%20%20%20%20%20%20%20%20%20%20%20%20%60%3Cdiv%3E%0A%20%20%20%20%20%20%20%20%20%20%20%20%20%20%20%20%20%20%20%20%20IGI%20Airport%0A%20%20%20%20%20%20%20%20%20%20%20%20%20%20%20%20%20%3C/div%3E%60%2C%0A%20%20%20%20%20%20%20%20%20%20%20%20%20%20%20%20%7B%22sticky%22%3A%20true%7D%0A%20%20%20%20%20%20%20%20%20%20%20%20%29%3B%0A%20%20%20%20%20%20%20%20%0A%20%20%20%20%0A%20%20%20%20%20%20%20%20%20%20%20%20var%20marker_b9c9e0059b424801b804c37dff7fed2c%20%3D%20L.marker%28%0A%20%20%20%20%20%20%20%20%20%20%20%20%20%20%20%20%5B28.5648%2C%2077.1744%5D%2C%0A%20%20%20%20%20%20%20%20%20%20%20%20%20%20%20%20%7B%22fillColor%22%3A%20%22red%22%2C%20%22radius%22%3A%208%7D%0A%20%20%20%20%20%20%20%20%20%20%20%20%29.addTo%28map_5366181663ce4d32b05f9ba223088132%29%3B%0A%20%20%20%20%20%20%20%20%0A%20%20%20%20%0A%20%20%20%20%20%20%20%20%20%20%20%20marker_b9c9e0059b424801b804c37dff7fed2c.bindTooltip%28%0A%20%20%20%20%20%20%20%20%20%20%20%20%20%20%20%20%60%3Cdiv%3E%0A%20%20%20%20%20%20%20%20%20%20%20%20%20%20%20%20%20%20%20%20%20R%20K%20Puram%0A%20%20%20%20%20%20%20%20%20%20%20%20%20%20%20%20%20%3C/div%3E%60%2C%0A%20%20%20%20%20%20%20%20%20%20%20%20%20%20%20%20%7B%22sticky%22%3A%20true%7D%0A%20%20%20%20%20%20%20%20%20%20%20%20%29%3B%0A%20%20%20%20%20%20%20%20%0A%20%20%20%20%0A%20%20%20%20%20%20%20%20%20%20%20%20var%20marker_b994ace1ef87447fa5554e25171e0290%20%3D%20L.marker%28%0A%20%20%20%20%20%20%20%20%20%20%20%20%20%20%20%20%5B28.591%2C%2077.05%5D%2C%0A%20%20%20%20%20%20%20%20%20%20%20%20%20%20%20%20%7B%22fillColor%22%3A%20%22red%22%2C%20%22radius%22%3A%208%7D%0A%20%20%20%20%20%20%20%20%20%20%20%20%29.addTo%28map_5366181663ce4d32b05f9ba223088132%29%3B%0A%20%20%20%20%20%20%20%20%0A%20%20%20%20%0A%20%20%20%20%20%20%20%20%20%20%20%20marker_b994ace1ef87447fa5554e25171e0290.bindTooltip%28%0A%20%20%20%20%20%20%20%20%20%20%20%20%20%20%20%20%60%3Cdiv%3E%0A%20%20%20%20%20%20%20%20%20%20%20%20%20%20%20%20%20%20%20%20%20NSIT%20Dwarka%0A%20%20%20%20%20%20%20%20%20%20%20%20%20%20%20%20%20%3C/div%3E%60%2C%0A%20%20%20%20%20%20%20%20%20%20%20%20%20%20%20%20%7B%22sticky%22%3A%20true%7D%0A%20%20%20%20%20%20%20%20%20%20%20%20%29%3B%0A%20%20%20%20%20%20%20%20%0A%20%20%20%20%0A%20%20%20%20%20%20%20%20%20%20%20%20var%20marker_db4bba22658e4a4581558e8d36ce1e69%20%3D%20L.marker%28%0A%20%20%20%20%20%20%20%20%20%20%20%20%20%20%20%20%5B28.6235%2C%2077.2494%5D%2C%0A%20%20%20%20%20%20%20%20%20%20%20%20%20%20%20%20%7B%22fillColor%22%3A%20%22red%22%2C%20%22radius%22%3A%208%7D%0A%20%20%20%20%20%20%20%20%20%20%20%20%29.addTo%28map_5366181663ce4d32b05f9ba223088132%29%3B%0A%20%20%20%20%20%20%20%20%0A%20%20%20%20%0A%20%20%20%20%20%20%20%20%20%20%20%20marker_db4bba22658e4a4581558e8d36ce1e69.bindTooltip%28%0A%20%20%20%20%20%20%20%20%20%20%20%20%20%20%20%20%60%3Cdiv%3E%0A%20%20%20%20%20%20%20%20%20%20%20%20%20%20%20%20%20%20%20%20%20Income%20Tax%20Office%0A%20%20%20%20%20%20%20%20%20%20%20%20%20%20%20%20%20%3C/div%3E%60%2C%0A%20%20%20%20%20%20%20%20%20%20%20%20%20%20%20%20%7B%22sticky%22%3A%20true%7D%0A%20%20%20%20%20%20%20%20%20%20%20%20%29%3B%0A%20%20%20%20%20%20%20%20%0A%20%20%20%20%0A%20%20%20%20%20%20%20%20%20%20%20%20var%20marker_7416d2992dba40bbbfb8505ba87dbf1f%20%3D%20L.marker%28%0A%20%20%20%20%20%20%20%20%20%20%20%20%20%20%20%20%5B28.6235%2C%2077.2494%5D%2C%0A%20%20%20%20%20%20%20%20%20%20%20%20%20%20%20%20%7B%22fillColor%22%3A%20%22red%22%2C%20%22radius%22%3A%208%7D%0A%20%20%20%20%20%20%20%20%20%20%20%20%29.addTo%28map_5366181663ce4d32b05f9ba223088132%29%3B%0A%20%20%20%20%20%20%20%20%0A%20%20%20%20%0A%20%20%20%20%20%20%20%20%20%20%20%20marker_7416d2992dba40bbbfb8505ba87dbf1f.bindTooltip%28%0A%20%20%20%20%20%20%20%20%20%20%20%20%20%20%20%20%60%3Cdiv%3E%0A%20%20%20%20%20%20%20%20%20%20%20%20%20%20%20%20%20%20%20%20%20Income%20Tax%20Office%2C%20Delhi%20-%20CPCB%0A%20%20%20%20%20%20%20%20%20%20%20%20%20%20%20%20%20%3C/div%3E%60%2C%0A%20%20%20%20%20%20%20%20%20%20%20%20%20%20%20%20%7B%22sticky%22%3A%20true%7D%0A%20%20%20%20%20%20%20%20%20%20%20%20%29%3B%0A%20%20%20%20%20%20%20%20%0A%20%20%20%20%0A%20%20%20%20%20%20%20%20%20%20%20%20var%20marker_68f32c8b47654d169e59672cd0e30899%20%3D%20L.marker%28%0A%20%20%20%20%20%20%20%20%20%20%20%20%20%20%20%20%5B28.6341%2C%2077.2005%5D%2C%0A%20%20%20%20%20%20%20%20%20%20%20%20%20%20%20%20%7B%22fillColor%22%3A%20%22red%22%2C%20%22radius%22%3A%208%7D%0A%20%20%20%20%20%20%20%20%20%20%20%20%29.addTo%28map_5366181663ce4d32b05f9ba223088132%29%3B%0A%20%20%20%20%20%20%20%20%0A%20%20%20%20%0A%20%20%20%20%20%20%20%20%20%20%20%20marker_68f32c8b47654d169e59672cd0e30899.bindTooltip%28%0A%20%20%20%20%20%20%20%20%20%20%20%20%20%20%20%20%60%3Cdiv%3E%0A%20%20%20%20%20%20%20%20%20%20%20%20%20%20%20%20%20%20%20%20%20Mandir%20Marg%0A%20%20%20%20%20%20%20%20%20%20%20%20%20%20%20%20%20%3C/div%3E%60%2C%0A%20%20%20%20%20%20%20%20%20%20%20%20%20%20%20%20%7B%22sticky%22%3A%20true%7D%0A%20%20%20%20%20%20%20%20%20%20%20%20%29%3B%0A%20%20%20%20%20%20%20%20%0A%20%20%20%20%0A%20%20%20%20%20%20%20%20%20%20%20%20var%20marker_51535d49d861430dbf40bb69c8c86deb%20%3D%20L.marker%28%0A%20%20%20%20%20%20%20%20%20%20%20%20%20%20%20%20%5B28.6508%2C%2077.3152%5D%2C%0A%20%20%20%20%20%20%20%20%20%20%20%20%20%20%20%20%7B%22fillColor%22%3A%20%22red%22%2C%20%22radius%22%3A%208%7D%0A%20%20%20%20%20%20%20%20%20%20%20%20%29.addTo%28map_5366181663ce4d32b05f9ba223088132%29%3B%0A%20%20%20%20%20%20%20%20%0A%20%20%20%20%0A%20%20%20%20%20%20%20%20%20%20%20%20marker_51535d49d861430dbf40bb69c8c86deb.bindTooltip%28%0A%20%20%20%20%20%20%20%20%20%20%20%20%20%20%20%20%60%3Cdiv%3E%0A%20%20%20%20%20%20%20%20%20%20%20%20%20%20%20%20%20%20%20%20%20Anand%20Vihar%0A%20%20%20%20%20%20%20%20%20%20%20%20%20%20%20%20%20%3C/div%3E%60%2C%0A%20%20%20%20%20%20%20%20%20%20%20%20%20%20%20%20%7B%22sticky%22%3A%20true%7D%0A%20%20%20%20%20%20%20%20%20%20%20%20%29%3B%0A%20%20%20%20%20%20%20%20%0A%20%20%20%20%0A%20%20%20%20%20%20%20%20%20%20%20%20var%20marker_b9b3414669b74af4a3d865c6f820564e%20%3D%20L.marker%28%0A%20%20%20%20%20%20%20%20%20%20%20%20%20%20%20%20%5B28.6517%2C%2077.1581%5D%2C%0A%20%20%20%20%20%20%20%20%20%20%20%20%20%20%20%20%7B%22fillColor%22%3A%20%22red%22%2C%20%22radius%22%3A%208%7D%0A%20%20%20%20%20%20%20%20%20%20%20%20%29.addTo%28map_5366181663ce4d32b05f9ba223088132%29%3B%0A%20%20%20%20%20%20%20%20%0A%20%20%20%20%0A%20%20%20%20%20%20%20%20%20%20%20%20marker_b9b3414669b74af4a3d865c6f820564e.bindTooltip%28%0A%20%20%20%20%20%20%20%20%20%20%20%20%20%20%20%20%60%3Cdiv%3E%0A%20%20%20%20%20%20%20%20%20%20%20%20%20%20%20%20%20%20%20%20%20Shadipur%0A%20%20%20%20%20%20%20%20%20%20%20%20%20%20%20%20%20%3C/div%3E%60%2C%0A%20%20%20%20%20%20%20%20%20%20%20%20%20%20%20%20%7B%22sticky%22%3A%20true%7D%0A%20%20%20%20%20%20%20%20%20%20%20%20%29%3B%0A%20%20%20%20%20%20%20%20%0A%20%20%20%20%0A%20%20%20%20%20%20%20%20%20%20%20%20var%20marker_e50df033195d404e8d3c3d18c53b6778%20%3D%20L.marker%28%0A%20%20%20%20%20%20%20%20%20%20%20%20%20%20%20%20%5B28.6683%2C%2077.1167%5D%2C%0A%20%20%20%20%20%20%20%20%20%20%20%20%20%20%20%20%7B%22fillColor%22%3A%20%22red%22%2C%20%22radius%22%3A%208%7D%0A%20%20%20%20%20%20%20%20%20%20%20%20%29.addTo%28map_5366181663ce4d32b05f9ba223088132%29%3B%0A%20%20%20%20%20%20%20%20%0A%20%20%20%20%0A%20%20%20%20%20%20%20%20%20%20%20%20marker_e50df033195d404e8d3c3d18c53b6778.bindTooltip%28%0A%20%20%20%20%20%20%20%20%20%20%20%20%20%20%20%20%60%3Cdiv%3E%0A%20%20%20%20%20%20%20%20%20%20%20%20%20%20%20%20%20%20%20%20%20Punjabi%20Bagh%0A%20%20%20%20%20%20%20%20%20%20%20%20%20%20%20%20%20%3C/div%3E%60%2C%0A%20%20%20%20%20%20%20%20%20%20%20%20%20%20%20%20%7B%22sticky%22%3A%20true%7D%0A%20%20%20%20%20%20%20%20%20%20%20%20%29%3B%0A%20%20%20%20%20%20%20%20%0A%20%20%20%20%0A%20%20%20%20%20%20%20%20%20%20%20%20var%20marker_cbc556c4fec540fa91319d79e143a6e8%20%3D%20L.marker%28%0A%20%20%20%20%20%20%20%20%20%20%20%20%20%20%20%20%5B28.6787%2C%2077.2262%5D%2C%0A%20%20%20%20%20%20%20%20%20%20%20%20%20%20%20%20%7B%22fillColor%22%3A%20%22red%22%2C%20%22radius%22%3A%208%7D%0A%20%20%20%20%20%20%20%20%20%20%20%20%29.addTo%28map_5366181663ce4d32b05f9ba223088132%29%3B%0A%20%20%20%20%20%20%20%20%0A%20%20%20%20%0A%20%20%20%20%20%20%20%20%20%20%20%20marker_cbc556c4fec540fa91319d79e143a6e8.bindTooltip%28%0A%20%20%20%20%20%20%20%20%20%20%20%20%20%20%20%20%60%3Cdiv%3E%0A%20%20%20%20%20%20%20%20%20%20%20%20%20%20%20%20%20%20%20%20%20Civil%20Lines%0A%20%20%20%20%20%20%20%20%20%20%20%20%20%20%20%20%20%3C/div%3E%60%2C%0A%20%20%20%20%20%20%20%20%20%20%20%20%20%20%20%20%7B%22sticky%22%3A%20true%7D%0A%20%20%20%20%20%20%20%20%20%20%20%20%29%3B%0A%20%20%20%20%20%20%20%20%0A%20%20%20%20%0A%20%20%20%20%20%20%20%20%20%20%20%20var%20marker_9df31b1aea0b4a60bb5f76d389ac4b2b%20%3D%20L.marker%28%0A%20%20%20%20%20%20%20%20%20%20%20%20%20%20%20%20%5B28.6821%2C%2077.305%5D%2C%0A%20%20%20%20%20%20%20%20%20%20%20%20%20%20%20%20%7B%22fillColor%22%3A%20%22red%22%2C%20%22radius%22%3A%208%7D%0A%20%20%20%20%20%20%20%20%20%20%20%20%29.addTo%28map_5366181663ce4d32b05f9ba223088132%29%3B%0A%20%20%20%20%20%20%20%20%0A%20%20%20%20%0A%20%20%20%20%20%20%20%20%20%20%20%20marker_9df31b1aea0b4a60bb5f76d389ac4b2b.bindTooltip%28%0A%20%20%20%20%20%20%20%20%20%20%20%20%20%20%20%20%60%3Cdiv%3E%0A%20%20%20%20%20%20%20%20%20%20%20%20%20%20%20%20%20%20%20%20%20IHBAS%2C%20Delhi%20-%20CPCB%0A%20%20%20%20%20%20%20%20%20%20%20%20%20%20%20%20%20%3C/div%3E%60%2C%0A%20%20%20%20%20%20%20%20%20%20%20%20%20%20%20%20%7B%22sticky%22%3A%20true%7D%0A%20%20%20%20%20%20%20%20%20%20%20%20%29%3B%0A%20%20%20%20%20%20%20%20%0A%20%20%20%20%0A%20%20%20%20%20%20%20%20%20%20%20%20var%20marker_bd77d4955afe43c1aacabb6ab7e89fee%20%3D%20L.marker%28%0A%20%20%20%20%20%20%20%20%20%20%20%20%20%20%20%20%5B28.744%2C%2077.12%5D%2C%0A%20%20%20%20%20%20%20%20%20%20%20%20%20%20%20%20%7B%22fillColor%22%3A%20%22red%22%2C%20%22radius%22%3A%208%7D%0A%20%20%20%20%20%20%20%20%20%20%20%20%29.addTo%28map_5366181663ce4d32b05f9ba223088132%29%3B%0A%20%20%20%20%20%20%20%20%0A%20%20%20%20%0A%20%20%20%20%20%20%20%20%20%20%20%20marker_bd77d4955afe43c1aacabb6ab7e89fee.bindTooltip%28%0A%20%20%20%20%20%20%20%20%20%20%20%20%20%20%20%20%60%3Cdiv%3E%0A%20%20%20%20%20%20%20%20%20%20%20%20%20%20%20%20%20%20%20%20%20Delhi%20Technological%20University%2C%20Delhi%20-%20CPCB%0A%20%20%20%20%20%20%20%20%20%20%20%20%20%20%20%20%20%3C/div%3E%60%2C%0A%20%20%20%20%20%20%20%20%20%20%20%20%20%20%20%20%7B%22sticky%22%3A%20true%7D%0A%20%20%20%20%20%20%20%20%20%20%20%20%29%3B%0A%20%20%20%20%20%20%20%20%0A%20%20%20%20%0A%20%20%20%20%20%20%20%20%20%20%20%20var%20marker_1efcdacc03264f0cb80e3e0a85b0ce84%20%3D%20L.marker%28%0A%20%20%20%20%20%20%20%20%20%20%20%20%20%20%20%20%5B28.744%2C%2077.12%5D%2C%0A%20%20%20%20%20%20%20%20%20%20%20%20%20%20%20%20%7B%22fillColor%22%3A%20%22red%22%2C%20%22radius%22%3A%208%7D%0A%20%20%20%20%20%20%20%20%20%20%20%20%29.addTo%28map_5366181663ce4d32b05f9ba223088132%29%3B%0A%20%20%20%20%20%20%20%20%0A%20%20%20%20%0A%20%20%20%20%20%20%20%20%20%20%20%20marker_1efcdacc03264f0cb80e3e0a85b0ce84.bindTooltip%28%0A%20%20%20%20%20%20%20%20%20%20%20%20%20%20%20%20%60%3Cdiv%3E%0A%20%20%20%20%20%20%20%20%20%20%20%20%20%20%20%20%20%20%20%20%20Delhi%20College%20Of%20Engineering%0A%20%20%20%20%20%20%20%20%20%20%20%20%20%20%20%20%20%3C/div%3E%60%2C%0A%20%20%20%20%20%20%20%20%20%20%20%20%20%20%20%20%7B%22sticky%22%3A%20true%7D%0A%20%20%20%20%20%20%20%20%20%20%20%20%29%3B%0A%20%20%20%20%20%20%20%20%0A%20%20%20%20%0A%20%20%20%20%20%20%20%20%20%20%20%20var%20marker_f719bc38a3ab485b9e898cbf9b21725f%20%3D%20L.marker%28%0A%20%20%20%20%20%20%20%20%20%20%20%20%20%20%20%20%5B28.470692%2C%2077.10994%5D%2C%0A%20%20%20%20%20%20%20%20%20%20%20%20%20%20%20%20%7B%22fillColor%22%3A%20%22red%22%2C%20%22radius%22%3A%208%7D%0A%20%20%20%20%20%20%20%20%20%20%20%20%29.addTo%28map_5366181663ce4d32b05f9ba223088132%29%3B%0A%20%20%20%20%20%20%20%20%0A%20%20%20%20%0A%20%20%20%20%20%20%20%20%20%20%20%20marker_f719bc38a3ab485b9e898cbf9b21725f.bindTooltip%28%0A%20%20%20%20%20%20%20%20%20%20%20%20%20%20%20%20%60%3Cdiv%3E%0A%20%20%20%20%20%20%20%20%20%20%20%20%20%20%20%20%20%20%20%20%20Aya%20Nagar%2C%20Delhi%20-%20IMD%0A%20%20%20%20%20%20%20%20%20%20%20%20%20%20%20%20%20%3C/div%3E%60%2C%0A%20%20%20%20%20%20%20%20%20%20%20%20%20%20%20%20%7B%22sticky%22%3A%20true%7D%0A%20%20%20%20%20%20%20%20%20%20%20%20%29%3B%0A%20%20%20%20%20%20%20%20%0A%20%20%20%20%0A%20%20%20%20%20%20%20%20%20%20%20%20var%20marker_3853eaf872064ebf87a5bc5ac043b6c4%20%3D%20L.marker%28%0A%20%20%20%20%20%20%20%20%20%20%20%20%20%20%20%20%5B28.498571%2C%2077.26484%5D%2C%0A%20%20%20%20%20%20%20%20%20%20%20%20%20%20%20%20%7B%22fillColor%22%3A%20%22red%22%2C%20%22radius%22%3A%208%7D%0A%20%20%20%20%20%20%20%20%20%20%20%20%29.addTo%28map_5366181663ce4d32b05f9ba223088132%29%3B%0A%20%20%20%20%20%20%20%20%0A%20%20%20%20%0A%20%20%20%20%20%20%20%20%20%20%20%20marker_3853eaf872064ebf87a5bc5ac043b6c4.bindTooltip%28%0A%20%20%20%20%20%20%20%20%20%20%20%20%20%20%20%20%60%3Cdiv%3E%0A%20%20%20%20%20%20%20%20%20%20%20%20%20%20%20%20%20%20%20%20%20Dr.%20Karni%20Singh%20Shooting%20Range%2C%20Delhi%20-%20DPCC%0A%20%20%20%20%20%20%20%20%20%20%20%20%20%20%20%20%20%3C/div%3E%60%2C%0A%20%20%20%20%20%20%20%20%20%20%20%20%20%20%20%20%7B%22sticky%22%3A%20true%7D%0A%20%20%20%20%20%20%20%20%20%20%20%20%29%3B%0A%20%20%20%20%20%20%20%20%0A%20%20%20%20%0A%20%20%20%20%20%20%20%20%20%20%20%20var%20marker_daef1f4046b9485ebe0fa6eb2d1520c5%20%3D%20L.marker%28%0A%20%20%20%20%20%20%20%20%20%20%20%20%20%20%20%20%5B28.530785%2C%2077.271255%5D%2C%0A%20%20%20%20%20%20%20%20%20%20%20%20%20%20%20%20%7B%22fillColor%22%3A%20%22red%22%2C%20%22radius%22%3A%208%7D%0A%20%20%20%20%20%20%20%20%20%20%20%20%29.addTo%28map_5366181663ce4d32b05f9ba223088132%29%3B%0A%20%20%20%20%20%20%20%20%0A%20%20%20%20%0A%20%20%20%20%20%20%20%20%20%20%20%20marker_daef1f4046b9485ebe0fa6eb2d1520c5.bindTooltip%28%0A%20%20%20%20%20%20%20%20%20%20%20%20%20%20%20%20%60%3Cdiv%3E%0A%20%20%20%20%20%20%20%20%20%20%20%20%20%20%20%20%20%20%20%20%20Okhla%20Phase-2%2C%20Delhi%20-%20DPCC%0A%20%20%20%20%20%20%20%20%20%20%20%20%20%20%20%20%20%3C/div%3E%60%2C%0A%20%20%20%20%20%20%20%20%20%20%20%20%20%20%20%20%7B%22sticky%22%3A%20true%7D%0A%20%20%20%20%20%20%20%20%20%20%20%20%29%3B%0A%20%20%20%20%20%20%20%20%0A%20%20%20%20%0A%20%20%20%20%20%20%20%20%20%20%20%20var%20marker_404d1431fb9448e1b730b65494edfa30%20%3D%20L.marker%28%0A%20%20%20%20%20%20%20%20%20%20%20%20%20%20%20%20%5B28.531345%2C%2077.190155%5D%2C%0A%20%20%20%20%20%20%20%20%20%20%20%20%20%20%20%20%7B%22fillColor%22%3A%20%22red%22%2C%20%22radius%22%3A%208%7D%0A%20%20%20%20%20%20%20%20%20%20%20%20%29.addTo%28map_5366181663ce4d32b05f9ba223088132%29%3B%0A%20%20%20%20%20%20%20%20%0A%20%20%20%20%0A%20%20%20%20%20%20%20%20%20%20%20%20marker_404d1431fb9448e1b730b65494edfa30.bindTooltip%28%0A%20%20%20%20%20%20%20%20%20%20%20%20%20%20%20%20%60%3Cdiv%3E%0A%20%20%20%20%20%20%20%20%20%20%20%20%20%20%20%20%20%20%20%20%20Sri%20Aurobindo%20Marg%2C%20Delhi%20-%20DPCC%0A%20%20%20%20%20%20%20%20%20%20%20%20%20%20%20%20%20%3C/div%3E%60%2C%0A%20%20%20%20%20%20%20%20%20%20%20%20%20%20%20%20%7B%22sticky%22%3A%20true%7D%0A%20%20%20%20%20%20%20%20%20%20%20%20%29%3B%0A%20%20%20%20%20%20%20%20%0A%20%20%20%20%0A%20%20%20%20%20%20%20%20%20%20%20%20var%20marker_bd332376c65946bd911187c85830ad88%20%3D%20L.marker%28%0A%20%20%20%20%20%20%20%20%20%20%20%20%20%20%20%20%5B28.550425%2C%2077.215935%5D%2C%0A%20%20%20%20%20%20%20%20%20%20%20%20%20%20%20%20%7B%22fillColor%22%3A%20%22red%22%2C%20%22radius%22%3A%208%7D%0A%20%20%20%20%20%20%20%20%20%20%20%20%29.addTo%28map_5366181663ce4d32b05f9ba223088132%29%3B%0A%20%20%20%20%20%20%20%20%0A%20%20%20%20%0A%20%20%20%20%20%20%20%20%20%20%20%20marker_bd332376c65946bd911187c85830ad88.bindTooltip%28%0A%20%20%20%20%20%20%20%20%20%20%20%20%20%20%20%20%60%3Cdiv%3E%0A%20%20%20%20%20%20%20%20%20%20%20%20%20%20%20%20%20%20%20%20%20Sirifort%2C%20Delhi%20-%20CPCB%0A%20%20%20%20%20%20%20%20%20%20%20%20%20%20%20%20%20%3C/div%3E%60%2C%0A%20%20%20%20%20%20%20%20%20%20%20%20%20%20%20%20%7B%22sticky%22%3A%20true%7D%0A%20%20%20%20%20%20%20%20%20%20%20%20%29%3B%0A%20%20%20%20%20%20%20%20%0A%20%20%20%20%0A%20%20%20%20%20%20%20%20%20%20%20%20var%20marker_5749a2e1109a4fdfb311c9d3f370f02c%20%3D%20L.marker%28%0A%20%20%20%20%20%20%20%20%20%20%20%20%20%20%20%20%5B28.5512%2C%2077.273575%5D%2C%0A%20%20%20%20%20%20%20%20%20%20%20%20%20%20%20%20%7B%22fillColor%22%3A%20%22red%22%2C%20%22radius%22%3A%208%7D%0A%20%20%20%20%20%20%20%20%20%20%20%20%29.addTo%28map_5366181663ce4d32b05f9ba223088132%29%3B%0A%20%20%20%20%20%20%20%20%0A%20%20%20%20%0A%20%20%20%20%20%20%20%20%20%20%20%20marker_5749a2e1109a4fdfb311c9d3f370f02c.bindTooltip%28%0A%20%20%20%20%20%20%20%20%20%20%20%20%20%20%20%20%60%3Cdiv%3E%0A%20%20%20%20%20%20%20%20%20%20%20%20%20%20%20%20%20%20%20%20%20CRRI%20Mathura%20Road%2C%20Delhi%20-%20IMD%0A%20%20%20%20%20%20%20%20%20%20%20%20%20%20%20%20%20%3C/div%3E%60%2C%0A%20%20%20%20%20%20%20%20%20%20%20%20%20%20%20%20%7B%22sticky%22%3A%20true%7D%0A%20%20%20%20%20%20%20%20%20%20%20%20%29%3B%0A%20%20%20%20%20%20%20%20%0A%20%20%20%20%0A%20%20%20%20%20%20%20%20%20%20%20%20var%20marker_30e0f70f20ea43878aacfd8cc8c7bad3%20%3D%20L.marker%28%0A%20%20%20%20%20%20%20%20%20%20%20%20%20%20%20%20%5B28.562777%2C%2077.118004%5D%2C%0A%20%20%20%20%20%20%20%20%20%20%20%20%20%20%20%20%7B%22fillColor%22%3A%20%22red%22%2C%20%22radius%22%3A%208%7D%0A%20%20%20%20%20%20%20%20%20%20%20%20%29.addTo%28map_5366181663ce4d32b05f9ba223088132%29%3B%0A%20%20%20%20%20%20%20%20%0A%20%20%20%20%0A%20%20%20%20%20%20%20%20%20%20%20%20marker_30e0f70f20ea43878aacfd8cc8c7bad3.bindTooltip%28%0A%20%20%20%20%20%20%20%20%20%20%20%20%20%20%20%20%60%3Cdiv%3E%0A%20%20%20%20%20%20%20%20%20%20%20%20%20%20%20%20%20%20%20%20%20IGI%20Airport%20%28T3%29%2C%20Delhi%20-%20IMD%0A%20%20%20%20%20%20%20%20%20%20%20%20%20%20%20%20%20%3C/div%3E%60%2C%0A%20%20%20%20%20%20%20%20%20%20%20%20%20%20%20%20%7B%22sticky%22%3A%20true%7D%0A%20%20%20%20%20%20%20%20%20%20%20%20%29%3B%0A%20%20%20%20%20%20%20%20%0A%20%20%20%20%0A%20%20%20%20%20%20%20%20%20%20%20%20var%20marker_f35b2caf830741b196b0852b34fc55eb%20%3D%20L.marker%28%0A%20%20%20%20%20%20%20%20%20%20%20%20%20%20%20%20%5B28.563263%2C%2077.186935%5D%2C%0A%20%20%20%20%20%20%20%20%20%20%20%20%20%20%20%20%7B%22fillColor%22%3A%20%22red%22%2C%20%22radius%22%3A%208%7D%0A%20%20%20%20%20%20%20%20%20%20%20%20%29.addTo%28map_5366181663ce4d32b05f9ba223088132%29%3B%0A%20%20%20%20%20%20%20%20%0A%20%20%20%20%0A%20%20%20%20%20%20%20%20%20%20%20%20marker_f35b2caf830741b196b0852b34fc55eb.bindTooltip%28%0A%20%20%20%20%20%20%20%20%20%20%20%20%20%20%20%20%60%3Cdiv%3E%0A%20%20%20%20%20%20%20%20%20%20%20%20%20%20%20%20%20%20%20%20%20R%20K%20Puram%2C%20Delhi%20-%20DPCC%0A%20%20%20%20%20%20%20%20%20%20%20%20%20%20%20%20%20%3C/div%3E%60%2C%0A%20%20%20%20%20%20%20%20%20%20%20%20%20%20%20%20%7B%22sticky%22%3A%20true%7D%0A%20%20%20%20%20%20%20%20%20%20%20%20%29%3B%0A%20%20%20%20%20%20%20%20%0A%20%20%20%20%0A%20%20%20%20%20%20%20%20%20%20%20%20var%20marker_3705c698f2ba40e8be102b9e8be023b5%20%3D%20L.marker%28%0A%20%20%20%20%20%20%20%20%20%20%20%20%20%20%20%20%5B28.56789%2C%2077.25052%5D%2C%0A%20%20%20%20%20%20%20%20%20%20%20%20%20%20%20%20%7B%22fillColor%22%3A%20%22red%22%2C%20%22radius%22%3A%208%7D%0A%20%20%20%20%20%20%20%20%20%20%20%20%29.addTo%28map_5366181663ce4d32b05f9ba223088132%29%3B%0A%20%20%20%20%20%20%20%20%0A%20%20%20%20%0A%20%20%20%20%20%20%20%20%20%20%20%20marker_3705c698f2ba40e8be102b9e8be023b5.bindTooltip%28%0A%20%20%20%20%20%20%20%20%20%20%20%20%20%20%20%20%60%3Cdiv%3E%0A%20%20%20%20%20%20%20%20%20%20%20%20%20%20%20%20%20%20%20%20%20Nehru%20Nagar%2C%20Delhi%20-%20DPCC%0A%20%20%20%20%20%20%20%20%20%20%20%20%20%20%20%20%20%3C/div%3E%60%2C%0A%20%20%20%20%20%20%20%20%20%20%20%20%20%20%20%20%7B%22sticky%22%3A%20true%7D%0A%20%20%20%20%20%20%20%20%20%20%20%20%29%3B%0A%20%20%20%20%20%20%20%20%0A%20%20%20%20%0A%20%20%20%20%20%20%20%20%20%20%20%20var%20marker_43e0d5a510ca4c9895b5c7fd9c7e94a5%20%3D%20L.marker%28%0A%20%20%20%20%20%20%20%20%20%20%20%20%20%20%20%20%5B28.570173%2C%2076.93376%5D%2C%0A%20%20%20%20%20%20%20%20%20%20%20%20%20%20%20%20%7B%22fillColor%22%3A%20%22red%22%2C%20%22radius%22%3A%208%7D%0A%20%20%20%20%20%20%20%20%20%20%20%20%29.addTo%28map_5366181663ce4d32b05f9ba223088132%29%3B%0A%20%20%20%20%20%20%20%20%0A%20%20%20%20%0A%20%20%20%20%20%20%20%20%20%20%20%20marker_43e0d5a510ca4c9895b5c7fd9c7e94a5.bindTooltip%28%0A%20%20%20%20%20%20%20%20%20%20%20%20%20%20%20%20%60%3Cdiv%3E%0A%20%20%20%20%20%20%20%20%20%20%20%20%20%20%20%20%20%20%20%20%20Najafgarh%2C%20Delhi%20-%20DPCC%0A%20%20%20%20%20%20%20%20%20%20%20%20%20%20%20%20%20%3C/div%3E%60%2C%0A%20%20%20%20%20%20%20%20%20%20%20%20%20%20%20%20%7B%22sticky%22%3A%20true%7D%0A%20%20%20%20%20%20%20%20%20%20%20%20%29%3B%0A%20%20%20%20%20%20%20%20%0A%20%20%20%20%0A%20%20%20%20%20%20%20%20%20%20%20%20var%20marker_70fbfb68c21748b5a590d487c9d167c3%20%3D%20L.marker%28%0A%20%20%20%20%20%20%20%20%20%20%20%20%20%20%20%20%5B28.591824%2C%2077.22731%5D%2C%0A%20%20%20%20%20%20%20%20%20%20%20%20%20%20%20%20%7B%22fillColor%22%3A%20%22red%22%2C%20%22radius%22%3A%208%7D%0A%20%20%20%20%20%20%20%20%20%20%20%20%29.addTo%28map_5366181663ce4d32b05f9ba223088132%29%3B%0A%20%20%20%20%20%20%20%20%0A%20%20%20%20%0A%20%20%20%20%20%20%20%20%20%20%20%20marker_70fbfb68c21748b5a590d487c9d167c3.bindTooltip%28%0A%20%20%20%20%20%20%20%20%20%20%20%20%20%20%20%20%60%3Cdiv%3E%0A%20%20%20%20%20%20%20%20%20%20%20%20%20%20%20%20%20%20%20%20%20Lodhi%20Road%2C%20Delhi%20-%20IMD%0A%20%20%20%20%20%20%20%20%20%20%20%20%20%20%20%20%20%3C/div%3E%60%2C%0A%20%20%20%20%20%20%20%20%20%20%20%20%20%20%20%20%7B%22sticky%22%3A%20true%7D%0A%20%20%20%20%20%20%20%20%20%20%20%20%29%3B%0A%20%20%20%20%20%20%20%20%0A%20%20%20%20%0A%20%20%20%20%20%20%20%20%20%20%20%20var%20marker_40b1c2ffb0b9435699d046d4905414b9%20%3D%20L.marker%28%0A%20%20%20%20%20%20%20%20%20%20%20%20%20%20%20%20%5B28.60909%2C%2077.03254%5D%2C%0A%20%20%20%20%20%20%20%20%20%20%20%20%20%20%20%20%7B%22fillColor%22%3A%20%22red%22%2C%20%22radius%22%3A%208%7D%0A%20%20%20%20%20%20%20%20%20%20%20%20%29.addTo%28map_5366181663ce4d32b05f9ba223088132%29%3B%0A%20%20%20%20%20%20%20%20%0A%20%20%20%20%0A%20%20%20%20%20%20%20%20%20%20%20%20marker_40b1c2ffb0b9435699d046d4905414b9.bindTooltip%28%0A%20%20%20%20%20%20%20%20%20%20%20%20%20%20%20%20%60%3Cdiv%3E%0A%20%20%20%20%20%20%20%20%20%20%20%20%20%20%20%20%20%20%20%20%20NSIT%20Dwarka%2C%20Delhi%20-%20CPCB%0A%20%20%20%20%20%20%20%20%20%20%20%20%20%20%20%20%20%3C/div%3E%60%2C%0A%20%20%20%20%20%20%20%20%20%20%20%20%20%20%20%20%7B%22sticky%22%3A%20true%7D%0A%20%20%20%20%20%20%20%20%20%20%20%20%29%3B%0A%20%20%20%20%20%20%20%20%0A%20%20%20%20%0A%20%20%20%20%20%20%20%20%20%20%20%20var%20marker_e0e6d7435ffb41cd944d0205c77972af%20%3D%20L.marker%28%0A%20%20%20%20%20%20%20%20%20%20%20%20%20%20%20%20%5B28.628624%2C%2077.24106%5D%2C%0A%20%20%20%20%20%20%20%20%20%20%20%20%20%20%20%20%7B%22fillColor%22%3A%20%22red%22%2C%20%22radius%22%3A%208%7D%0A%20%20%20%20%20%20%20%20%20%20%20%20%29.addTo%28map_5366181663ce4d32b05f9ba223088132%29%3B%0A%20%20%20%20%20%20%20%20%0A%20%20%20%20%0A%20%20%20%20%20%20%20%20%20%20%20%20marker_e0e6d7435ffb41cd944d0205c77972af.bindTooltip%28%0A%20%20%20%20%20%20%20%20%20%20%20%20%20%20%20%20%60%3Cdiv%3E%0A%20%20%20%20%20%20%20%20%20%20%20%20%20%20%20%20%20%20%20%20%20ITO%2C%20Delhi%20-%20CPCB%0A%20%20%20%20%20%20%20%20%20%20%20%20%20%20%20%20%20%3C/div%3E%60%2C%0A%20%20%20%20%20%20%20%20%20%20%20%20%20%20%20%20%7B%22sticky%22%3A%20true%7D%0A%20%20%20%20%20%20%20%20%20%20%20%20%29%3B%0A%20%20%20%20%20%20%20%20%0A%20%20%20%20%0A%20%20%20%20%20%20%20%20%20%20%20%20var%20marker_92dca3646d434f2692169f1dcfee6dcf%20%3D%20L.marker%28%0A%20%20%20%20%20%20%20%20%20%20%20%20%20%20%20%20%5B28.631695%2C%2077.249435%5D%2C%0A%20%20%20%20%20%20%20%20%20%20%20%20%20%20%20%20%7B%22fillColor%22%3A%20%22red%22%2C%20%22radius%22%3A%208%7D%0A%20%20%20%20%20%20%20%20%20%20%20%20%29.addTo%28map_5366181663ce4d32b05f9ba223088132%29%3B%0A%20%20%20%20%20%20%20%20%0A%20%20%20%20%0A%20%20%20%20%20%20%20%20%20%20%20%20marker_92dca3646d434f2692169f1dcfee6dcf.bindTooltip%28%0A%20%20%20%20%20%20%20%20%20%20%20%20%20%20%20%20%60%3Cdiv%3E%0A%20%20%20%20%20%20%20%20%20%20%20%20%20%20%20%20%20%20%20%20%20ITO%2C%20New%20Delhi%20-%20CPCB%0A%20%20%20%20%20%20%20%20%20%20%20%20%20%20%20%20%20%3C/div%3E%60%2C%0A%20%20%20%20%20%20%20%20%20%20%20%20%20%20%20%20%7B%22sticky%22%3A%20true%7D%0A%20%20%20%20%20%20%20%20%20%20%20%20%29%3B%0A%20%20%20%20%20%20%20%20%0A%20%20%20%20%0A%20%20%20%20%20%20%20%20%20%20%20%20var%20marker_05d347c573fb4bdc8a13e959f32d52b7%20%3D%20L.marker%28%0A%20%20%20%20%20%20%20%20%20%20%20%20%20%20%20%20%5B28.636429%2C%2077.201065%5D%2C%0A%20%20%20%20%20%20%20%20%20%20%20%20%20%20%20%20%7B%22fillColor%22%3A%20%22red%22%2C%20%22radius%22%3A%208%7D%0A%20%20%20%20%20%20%20%20%20%20%20%20%29.addTo%28map_5366181663ce4d32b05f9ba223088132%29%3B%0A%20%20%20%20%20%20%20%20%0A%20%20%20%20%0A%20%20%20%20%20%20%20%20%20%20%20%20marker_05d347c573fb4bdc8a13e959f32d52b7.bindTooltip%28%0A%20%20%20%20%20%20%20%20%20%20%20%20%20%20%20%20%60%3Cdiv%3E%0A%20%20%20%20%20%20%20%20%20%20%20%20%20%20%20%20%20%20%20%20%20Mandir%20Marg%2C%20Delhi%20-%20DPCC%0A%20%20%20%20%20%20%20%20%20%20%20%20%20%20%20%20%20%3C/div%3E%60%2C%0A%20%20%20%20%20%20%20%20%20%20%20%20%20%20%20%20%7B%22sticky%22%3A%20true%7D%0A%20%20%20%20%20%20%20%20%20%20%20%20%29%3B%0A%20%20%20%20%20%20%20%20%0A%20%20%20%20%0A%20%20%20%20%20%20%20%20%20%20%20%20var%20marker_494a4b082d7b48929b60926f68b1dc04%20%3D%20L.marker%28%0A%20%20%20%20%20%20%20%20%20%20%20%20%20%20%20%20%5B28.639645%2C%2077.14626%5D%2C%0A%20%20%20%20%20%20%20%20%20%20%20%20%20%20%20%20%7B%22fillColor%22%3A%20%22red%22%2C%20%22radius%22%3A%208%7D%0A%20%20%20%20%20%20%20%20%20%20%20%20%29.addTo%28map_5366181663ce4d32b05f9ba223088132%29%3B%0A%20%20%20%20%20%20%20%20%0A%20%20%20%20%0A%20%20%20%20%20%20%20%20%20%20%20%20marker_494a4b082d7b48929b60926f68b1dc04.bindTooltip%28%0A%20%20%20%20%20%20%20%20%20%20%20%20%20%20%20%20%60%3Cdiv%3E%0A%20%20%20%20%20%20%20%20%20%20%20%20%20%20%20%20%20%20%20%20%20Pusa%2C%20Delhi%20-%20IMD%0A%20%20%20%20%20%20%20%20%20%20%20%20%20%20%20%20%20%3C/div%3E%60%2C%0A%20%20%20%20%20%20%20%20%20%20%20%20%20%20%20%20%7B%22sticky%22%3A%20true%7D%0A%20%20%20%20%20%20%20%20%20%20%20%20%29%3B%0A%20%20%20%20%20%20%20%20%0A%20%20%20%20%0A%20%20%20%20%20%20%20%20%20%20%20%20var%20marker_3bcd8b049aea4192a667d26c97f2db39%20%3D%20L.marker%28%0A%20%20%20%20%20%20%20%20%20%20%20%20%20%20%20%20%5B28.639645%2C%2077.14626%5D%2C%0A%20%20%20%20%20%20%20%20%20%20%20%20%20%20%20%20%7B%22fillColor%22%3A%20%22red%22%2C%20%22radius%22%3A%208%7D%0A%20%20%20%20%20%20%20%20%20%20%20%20%29.addTo%28map_5366181663ce4d32b05f9ba223088132%29%3B%0A%20%20%20%20%20%20%20%20%0A%20%20%20%20%0A%20%20%20%20%20%20%20%20%20%20%20%20marker_3bcd8b049aea4192a667d26c97f2db39.bindTooltip%28%0A%20%20%20%20%20%20%20%20%20%20%20%20%20%20%20%20%60%3Cdiv%3E%0A%20%20%20%20%20%20%20%20%20%20%20%20%20%20%20%20%20%20%20%20%20Pusa%2C%20Delhi%20-%20DPCC%0A%20%20%20%20%20%20%20%20%20%20%20%20%20%20%20%20%20%3C/div%3E%60%2C%0A%20%20%20%20%20%20%20%20%20%20%20%20%20%20%20%20%7B%22sticky%22%3A%20true%7D%0A%20%20%20%20%20%20%20%20%20%20%20%20%29%3B%0A%20%20%20%20%20%20%20%20%0A%20%20%20%20%0A%20%20%20%20%20%20%20%20%20%20%20%20var%20marker_324e55d5706e49f780c283ded34c983f%20%3D%20L.marker%28%0A%20%20%20%20%20%20%20%20%20%20%20%20%20%20%20%20%5B28.646835%2C%2077.31603%5D%2C%0A%20%20%20%20%20%20%20%20%20%20%20%20%20%20%20%20%7B%22fillColor%22%3A%20%22red%22%2C%20%22radius%22%3A%208%7D%0A%20%20%20%20%20%20%20%20%20%20%20%20%29.addTo%28map_5366181663ce4d32b05f9ba223088132%29%3B%0A%20%20%20%20%20%20%20%20%0A%20%20%20%20%0A%20%20%20%20%20%20%20%20%20%20%20%20marker_324e55d5706e49f780c283ded34c983f.bindTooltip%28%0A%20%20%20%20%20%20%20%20%20%20%20%20%20%20%20%20%60%3Cdiv%3E%0A%20%20%20%20%20%20%20%20%20%20%20%20%20%20%20%20%20%20%20%20%20Anand%20Vihar%2C%20Delhi%20-%20DPCC%0A%20%20%20%20%20%20%20%20%20%20%20%20%20%20%20%20%20%3C/div%3E%60%2C%0A%20%20%20%20%20%20%20%20%20%20%20%20%20%20%20%20%7B%22sticky%22%3A%20true%7D%0A%20%20%20%20%20%20%20%20%20%20%20%20%29%3B%0A%20%20%20%20%20%20%20%20%0A%20%20%20%20%0A%20%20%20%20%20%20%20%20%20%20%20%20var%20marker_4af1b8a70eb84b20909ae7410614bf32%20%3D%20L.marker%28%0A%20%20%20%20%20%20%20%20%20%20%20%20%20%20%20%20%5B28.651478%2C%2077.14731%5D%2C%0A%20%20%20%20%20%20%20%20%20%20%20%20%20%20%20%20%7B%22fillColor%22%3A%20%22red%22%2C%20%22radius%22%3A%208%7D%0A%20%20%20%20%20%20%20%20%20%20%20%20%29.addTo%28map_5366181663ce4d32b05f9ba223088132%29%3B%0A%20%20%20%20%20%20%20%20%0A%20%20%20%20%0A%20%20%20%20%20%20%20%20%20%20%20%20marker_4af1b8a70eb84b20909ae7410614bf32.bindTooltip%28%0A%20%20%20%20%20%20%20%20%20%20%20%20%20%20%20%20%60%3Cdiv%3E%0A%20%20%20%20%20%20%20%20%20%20%20%20%20%20%20%20%20%20%20%20%20Shadipur%2C%20Delhi%20-%20CPCB%0A%20%20%20%20%20%20%20%20%20%20%20%20%20%20%20%20%20%3C/div%3E%60%2C%0A%20%20%20%20%20%20%20%20%20%20%20%20%20%20%20%20%7B%22sticky%22%3A%20true%7D%0A%20%20%20%20%20%20%20%20%20%20%20%20%29%3B%0A%20%20%20%20%20%20%20%20%0A%20%20%20%20%0A%20%20%20%20%20%20%20%20%20%20%20%20var%20marker_f18c7767ccac45b28a5a4f174a1c3caf%20%3D%20L.marker%28%0A%20%20%20%20%20%20%20%20%20%20%20%20%20%20%20%20%5B28.655935%2C%2077.29491%5D%2C%0A%20%20%20%20%20%20%20%20%20%20%20%20%20%20%20%20%7B%22fillColor%22%3A%20%22red%22%2C%20%22radius%22%3A%208%7D%0A%20%20%20%20%20%20%20%20%20%20%20%20%29.addTo%28map_5366181663ce4d32b05f9ba223088132%29%3B%0A%20%20%20%20%20%20%20%20%0A%20%20%20%20%0A%20%20%20%20%20%20%20%20%20%20%20%20marker_f18c7767ccac45b28a5a4f174a1c3caf.bindTooltip%28%0A%20%20%20%20%20%20%20%20%20%20%20%20%20%20%20%20%60%3Cdiv%3E%0A%20%20%20%20%20%20%20%20%20%20%20%20%20%20%20%20%20%20%20%20%20East%20Arjun%20Nagar%2C%20Delhi%20-%20CPCB%0A%20%20%20%20%20%20%20%20%20%20%20%20%20%20%20%20%20%3C/div%3E%60%2C%0A%20%20%20%20%20%20%20%20%20%20%20%20%20%20%20%20%7B%22sticky%22%3A%20true%7D%0A%20%20%20%20%20%20%20%20%20%20%20%20%29%3B%0A%20%20%20%20%20%20%20%20%0A%20%20%20%20%0A%20%20%20%20%20%20%20%20%20%20%20%20var%20marker_47da7e00d32d451985a1c6f6f716c04e%20%3D%20L.marker%28%0A%20%20%20%20%20%20%20%20%20%20%20%20%20%20%20%20%5B28.657381%2C%2077.15855%5D%2C%0A%20%20%20%20%20%20%20%20%20%20%20%20%20%20%20%20%7B%22fillColor%22%3A%20%22red%22%2C%20%22radius%22%3A%208%7D%0A%20%20%20%20%20%20%20%20%20%20%20%20%29.addTo%28map_5366181663ce4d32b05f9ba223088132%29%3B%0A%20%20%20%20%20%20%20%20%0A%20%20%20%20%0A%20%20%20%20%20%20%20%20%20%20%20%20marker_47da7e00d32d451985a1c6f6f716c04e.bindTooltip%28%0A%20%20%20%20%20%20%20%20%20%20%20%20%20%20%20%20%60%3Cdiv%3E%0A%20%20%20%20%20%20%20%20%20%20%20%20%20%20%20%20%20%20%20%20%20North%20Campus%2C%20DU%2C%20Delhi%20-%20IMD%0A%20%20%20%20%20%20%20%20%20%20%20%20%20%20%20%20%20%3C/div%3E%60%2C%0A%20%20%20%20%20%20%20%20%20%20%20%20%20%20%20%20%7B%22sticky%22%3A%20true%7D%0A%20%20%20%20%20%20%20%20%20%20%20%20%29%3B%0A%20%20%20%20%20%20%20%20%0A%20%20%20%20%0A%20%20%20%20%20%20%20%20%20%20%20%20var%20marker_2f405de1b244405e9134903e8bc48385%20%3D%20L.marker%28%0A%20%20%20%20%20%20%20%20%20%20%20%20%20%20%20%20%5B28.674046%2C%2077.13102%5D%2C%0A%20%20%20%20%20%20%20%20%20%20%20%20%20%20%20%20%7B%22fillColor%22%3A%20%22red%22%2C%20%22radius%22%3A%208%7D%0A%20%20%20%20%20%20%20%20%20%20%20%20%29.addTo%28map_5366181663ce4d32b05f9ba223088132%29%3B%0A%20%20%20%20%20%20%20%20%0A%20%20%20%20%0A%20%20%20%20%20%20%20%20%20%20%20%20marker_2f405de1b244405e9134903e8bc48385.bindTooltip%28%0A%20%20%20%20%20%20%20%20%20%20%20%20%20%20%20%20%60%3Cdiv%3E%0A%20%20%20%20%20%20%20%20%20%20%20%20%20%20%20%20%20%20%20%20%20Punjabi%20Bagh%2C%20Delhi%20-%20DPCC%0A%20%20%20%20%20%20%20%20%20%20%20%20%20%20%20%20%20%3C/div%3E%60%2C%0A%20%20%20%20%20%20%20%20%20%20%20%20%20%20%20%20%7B%22sticky%22%3A%20true%7D%0A%20%20%20%20%20%20%20%20%20%20%20%20%29%3B%0A%20%20%20%20%20%20%20%20%0A%20%20%20%20%0A%20%20%20%20%20%20%20%20%20%20%20%20var%20marker_b9b30c34256644e39289bacc0ec434db%20%3D%20L.marker%28%0A%20%20%20%20%20%20%20%20%20%20%20%20%20%20%20%20%5B28.681173%2C%2077.30252%5D%2C%0A%20%20%20%20%20%20%20%20%20%20%20%20%20%20%20%20%7B%22fillColor%22%3A%20%22red%22%2C%20%22radius%22%3A%208%7D%0A%20%20%20%20%20%20%20%20%20%20%20%20%29.addTo%28map_5366181663ce4d32b05f9ba223088132%29%3B%0A%20%20%20%20%20%20%20%20%0A%20%20%20%20%0A%20%20%20%20%20%20%20%20%20%20%20%20marker_b9b30c34256644e39289bacc0ec434db.bindTooltip%28%0A%20%20%20%20%20%20%20%20%20%20%20%20%20%20%20%20%60%3Cdiv%3E%0A%20%20%20%20%20%20%20%20%20%20%20%20%20%20%20%20%20%20%20%20%20IHBAS%2C%20Dilshad%20Garden%2C%20Delhi%20-%20CPCB%0A%20%20%20%20%20%20%20%20%20%20%20%20%20%20%20%20%20%3C/div%3E%60%2C%0A%20%20%20%20%20%20%20%20%20%20%20%20%20%20%20%20%7B%22sticky%22%3A%20true%7D%0A%20%20%20%20%20%20%20%20%20%20%20%20%29%3B%0A%20%20%20%20%20%20%20%20%0A%20%20%20%20%0A%20%20%20%20%20%20%20%20%20%20%20%20var%20marker_c83f70e5f5504d85a7c40d2cd988c2c2%20%3D%20L.marker%28%0A%20%20%20%20%20%20%20%20%20%20%20%20%20%20%20%20%5B28.684677%2C%2077.07658%5D%2C%0A%20%20%20%20%20%20%20%20%20%20%20%20%20%20%20%20%7B%22fillColor%22%3A%20%22red%22%2C%20%22radius%22%3A%208%7D%0A%20%20%20%20%20%20%20%20%20%20%20%20%29.addTo%28map_5366181663ce4d32b05f9ba223088132%29%3B%0A%20%20%20%20%20%20%20%20%0A%20%20%20%20%0A%20%20%20%20%20%20%20%20%20%20%20%20marker_c83f70e5f5504d85a7c40d2cd988c2c2.bindTooltip%28%0A%20%20%20%20%20%20%20%20%20%20%20%20%20%20%20%20%60%3Cdiv%3E%0A%20%20%20%20%20%20%20%20%20%20%20%20%20%20%20%20%20%20%20%20%20Mundka%2C%20Delhi%20-%20DPCC%0A%20%20%20%20%20%20%20%20%20%20%20%20%20%20%20%20%20%3C/div%3E%60%2C%0A%20%20%20%20%20%20%20%20%20%20%20%20%20%20%20%20%7B%22sticky%22%3A%20true%7D%0A%20%20%20%20%20%20%20%20%20%20%20%20%29%3B%0A%20%20%20%20%20%20%20%20%0A%20%20%20%20%0A%20%20%20%20%20%20%20%20%20%20%20%20var%20marker_928de7017d5e486aa22dc9cae0607a7c%20%3D%20L.marker%28%0A%20%20%20%20%20%20%20%20%20%20%20%20%20%20%20%20%5B28.695381%2C%2077.18166%5D%2C%0A%20%20%20%20%20%20%20%20%20%20%20%20%20%20%20%20%7B%22fillColor%22%3A%20%22red%22%2C%20%22radius%22%3A%208%7D%0A%20%20%20%20%20%20%20%20%20%20%20%20%29.addTo%28map_5366181663ce4d32b05f9ba223088132%29%3B%0A%20%20%20%20%20%20%20%20%0A%20%20%20%20%0A%20%20%20%20%20%20%20%20%20%20%20%20marker_928de7017d5e486aa22dc9cae0607a7c.bindTooltip%28%0A%20%20%20%20%20%20%20%20%20%20%20%20%20%20%20%20%60%3Cdiv%3E%0A%20%20%20%20%20%20%20%20%20%20%20%20%20%20%20%20%20%20%20%20%20Ashok%20Vihar%2C%20Delhi%20-%20DPCC%0A%20%20%20%20%20%20%20%20%20%20%20%20%20%20%20%20%20%3C/div%3E%60%2C%0A%20%20%20%20%20%20%20%20%20%20%20%20%20%20%20%20%7B%22sticky%22%3A%20true%7D%0A%20%20%20%20%20%20%20%20%20%20%20%20%29%3B%0A%20%20%20%20%20%20%20%20%0A%20%20%20%20%0A%20%20%20%20%20%20%20%20%20%20%20%20var%20marker_9929710a4f564999a3076c316147d483%20%3D%20L.marker%28%0A%20%20%20%20%20%20%20%20%20%20%20%20%20%20%20%20%5B28.699793%2C%2077.16545%5D%2C%0A%20%20%20%20%20%20%20%20%20%20%20%20%20%20%20%20%7B%22fillColor%22%3A%20%22red%22%2C%20%22radius%22%3A%208%7D%0A%20%20%20%20%20%20%20%20%20%20%20%20%29.addTo%28map_5366181663ce4d32b05f9ba223088132%29%3B%0A%20%20%20%20%20%20%20%20%0A%20%20%20%20%0A%20%20%20%20%20%20%20%20%20%20%20%20marker_9929710a4f564999a3076c316147d483.bindTooltip%28%0A%20%20%20%20%20%20%20%20%20%20%20%20%20%20%20%20%60%3Cdiv%3E%0A%20%20%20%20%20%20%20%20%20%20%20%20%20%20%20%20%20%20%20%20%20Wazirpur%2C%20Delhi%20-%20DPCC%0A%20%20%20%20%20%20%20%20%20%20%20%20%20%20%20%20%20%3C/div%3E%60%2C%0A%20%20%20%20%20%20%20%20%20%20%20%20%20%20%20%20%7B%22sticky%22%3A%20true%7D%0A%20%20%20%20%20%20%20%20%20%20%20%20%29%3B%0A%20%20%20%20%20%20%20%20%0A%20%20%20%20%0A%20%20%20%20%20%20%20%20%20%20%20%20var%20marker_6e73fbe119a94da582504ed9174826a0%20%3D%20L.marker%28%0A%20%20%20%20%20%20%20%20%20%20%20%20%20%20%20%20%5B28.710508%2C%2077.24948%5D%2C%0A%20%20%20%20%20%20%20%20%20%20%20%20%20%20%20%20%7B%22fillColor%22%3A%20%22red%22%2C%20%22radius%22%3A%208%7D%0A%20%20%20%20%20%20%20%20%20%20%20%20%29.addTo%28map_5366181663ce4d32b05f9ba223088132%29%3B%0A%20%20%20%20%20%20%20%20%0A%20%20%20%20%0A%20%20%20%20%20%20%20%20%20%20%20%20marker_6e73fbe119a94da582504ed9174826a0.bindTooltip%28%0A%20%20%20%20%20%20%20%20%20%20%20%20%20%20%20%20%60%3Cdiv%3E%0A%20%20%20%20%20%20%20%20%20%20%20%20%20%20%20%20%20%20%20%20%20Sonia%20Vihar%2C%20Delhi%20-%20DPCC%0A%20%20%20%20%20%20%20%20%20%20%20%20%20%20%20%20%20%3C/div%3E%60%2C%0A%20%20%20%20%20%20%20%20%20%20%20%20%20%20%20%20%7B%22sticky%22%3A%20true%7D%0A%20%20%20%20%20%20%20%20%20%20%20%20%29%3B%0A%20%20%20%20%20%20%20%20%0A%20%20%20%20%0A%20%20%20%20%20%20%20%20%20%20%20%20var%20marker_b18b5c48920d494f9490bbd4ef9c4bd3%20%3D%20L.marker%28%0A%20%20%20%20%20%20%20%20%20%20%20%20%20%20%20%20%5B28.72565%2C%2077.20116%5D%2C%0A%20%20%20%20%20%20%20%20%20%20%20%20%20%20%20%20%7B%22fillColor%22%3A%20%22red%22%2C%20%22radius%22%3A%208%7D%0A%20%20%20%20%20%20%20%20%20%20%20%20%29.addTo%28map_5366181663ce4d32b05f9ba223088132%29%3B%0A%20%20%20%20%20%20%20%20%0A%20%20%20%20%0A%20%20%20%20%20%20%20%20%20%20%20%20marker_b18b5c48920d494f9490bbd4ef9c4bd3.bindTooltip%28%0A%20%20%20%20%20%20%20%20%20%20%20%20%20%20%20%20%60%3Cdiv%3E%0A%20%20%20%20%20%20%20%20%20%20%20%20%20%20%20%20%20%20%20%20%20Burari%20Crossing%2C%20Delhi%20-%20IMD%0A%20%20%20%20%20%20%20%20%20%20%20%20%20%20%20%20%20%3C/div%3E%60%2C%0A%20%20%20%20%20%20%20%20%20%20%20%20%20%20%20%20%7B%22sticky%22%3A%20true%7D%0A%20%20%20%20%20%20%20%20%20%20%20%20%29%3B%0A%20%20%20%20%20%20%20%20%0A%20%20%20%20%0A%20%20%20%20%20%20%20%20%20%20%20%20var%20marker_3d88439921e544a0b13a1fc864b17e74%20%3D%20L.marker%28%0A%20%20%20%20%20%20%20%20%20%20%20%20%20%20%20%20%5B28.732529%2C%2077.11992%5D%2C%0A%20%20%20%20%20%20%20%20%20%20%20%20%20%20%20%20%7B%22fillColor%22%3A%20%22red%22%2C%20%22radius%22%3A%208%7D%0A%20%20%20%20%20%20%20%20%20%20%20%20%29.addTo%28map_5366181663ce4d32b05f9ba223088132%29%3B%0A%20%20%20%20%20%20%20%20%0A%20%20%20%20%0A%20%20%20%20%20%20%20%20%20%20%20%20marker_3d88439921e544a0b13a1fc864b17e74.bindTooltip%28%0A%20%20%20%20%20%20%20%20%20%20%20%20%20%20%20%20%60%3Cdiv%3E%0A%20%20%20%20%20%20%20%20%20%20%20%20%20%20%20%20%20%20%20%20%20Rohini%2C%20Delhi%20-%20DPCC%0A%20%20%20%20%20%20%20%20%20%20%20%20%20%20%20%20%20%3C/div%3E%60%2C%0A%20%20%20%20%20%20%20%20%20%20%20%20%20%20%20%20%7B%22sticky%22%3A%20true%7D%0A%20%20%20%20%20%20%20%20%20%20%20%20%29%3B%0A%20%20%20%20%20%20%20%20%0A%20%20%20%20%0A%20%20%20%20%20%20%20%20%20%20%20%20var%20marker_80e80d59d77e44008f56eee1fe143c00%20%3D%20L.marker%28%0A%20%20%20%20%20%20%20%20%20%20%20%20%20%20%20%20%5B28.73282%2C%2077.17063%5D%2C%0A%20%20%20%20%20%20%20%20%20%20%20%20%20%20%20%20%7B%22fillColor%22%3A%20%22red%22%2C%20%22radius%22%3A%208%7D%0A%20%20%20%20%20%20%20%20%20%20%20%20%29.addTo%28map_5366181663ce4d32b05f9ba223088132%29%3B%0A%20%20%20%20%20%20%20%20%0A%20%20%20%20%0A%20%20%20%20%20%20%20%20%20%20%20%20marker_80e80d59d77e44008f56eee1fe143c00.bindTooltip%28%0A%20%20%20%20%20%20%20%20%20%20%20%20%20%20%20%20%60%3Cdiv%3E%0A%20%20%20%20%20%20%20%20%20%20%20%20%20%20%20%20%20%20%20%20%20Jahangirpuri%2C%20Delhi%20-%20DPCC%0A%20%20%20%20%20%20%20%20%20%20%20%20%20%20%20%20%20%3C/div%3E%60%2C%0A%20%20%20%20%20%20%20%20%20%20%20%20%20%20%20%20%7B%22sticky%22%3A%20true%7D%0A%20%20%20%20%20%20%20%20%20%20%20%20%29%3B%0A%20%20%20%20%20%20%20%20%0A%20%20%20%20%0A%20%20%20%20%20%20%20%20%20%20%20%20var%20marker_43ef1685d37e4cc3a58d255d95e34f6a%20%3D%20L.marker%28%0A%20%20%20%20%20%20%20%20%20%20%20%20%20%20%20%20%5B28.75005%2C%2077.11126%5D%2C%0A%20%20%20%20%20%20%20%20%20%20%20%20%20%20%20%20%7B%22fillColor%22%3A%20%22red%22%2C%20%22radius%22%3A%208%7D%0A%20%20%20%20%20%20%20%20%20%20%20%20%29.addTo%28map_5366181663ce4d32b05f9ba223088132%29%3B%0A%20%20%20%20%20%20%20%20%0A%20%20%20%20%0A%20%20%20%20%20%20%20%20%20%20%20%20marker_43ef1685d37e4cc3a58d255d95e34f6a.bindTooltip%28%0A%20%20%20%20%20%20%20%20%20%20%20%20%20%20%20%20%60%3Cdiv%3E%0A%20%20%20%20%20%20%20%20%20%20%20%20%20%20%20%20%20%20%20%20%20DTU%2C%20Delhi%20-%20CPCB%0A%20%20%20%20%20%20%20%20%20%20%20%20%20%20%20%20%20%3C/div%3E%60%2C%0A%20%20%20%20%20%20%20%20%20%20%20%20%20%20%20%20%7B%22sticky%22%3A%20true%7D%0A%20%20%20%20%20%20%20%20%20%20%20%20%29%3B%0A%20%20%20%20%20%20%20%20%0A%20%20%20%20%0A%20%20%20%20%20%20%20%20%20%20%20%20var%20marker_121b31e724914588ba49ebfef0740a80%20%3D%20L.marker%28%0A%20%20%20%20%20%20%20%20%20%20%20%20%20%20%20%20%5B28.7762%2C%2077.05107%5D%2C%0A%20%20%20%20%20%20%20%20%20%20%20%20%20%20%20%20%7B%22fillColor%22%3A%20%22red%22%2C%20%22radius%22%3A%208%7D%0A%20%20%20%20%20%20%20%20%20%20%20%20%29.addTo%28map_5366181663ce4d32b05f9ba223088132%29%3B%0A%20%20%20%20%20%20%20%20%0A%20%20%20%20%0A%20%20%20%20%20%20%20%20%20%20%20%20marker_121b31e724914588ba49ebfef0740a80.bindTooltip%28%0A%20%20%20%20%20%20%20%20%20%20%20%20%20%20%20%20%60%3Cdiv%3E%0A%20%20%20%20%20%20%20%20%20%20%20%20%20%20%20%20%20%20%20%20%20Bawana%2C%20Delhi%20-%20DPCC%0A%20%20%20%20%20%20%20%20%20%20%20%20%20%20%20%20%20%3C/div%3E%60%2C%0A%20%20%20%20%20%20%20%20%20%20%20%20%20%20%20%20%7B%22sticky%22%3A%20true%7D%0A%20%20%20%20%20%20%20%20%20%20%20%20%29%3B%0A%20%20%20%20%20%20%20%20%0A%20%20%20%20%0A%20%20%20%20%20%20%20%20%20%20%20%20var%20marker_b7d32dd3ae1344eeac2f804997080030%20%3D%20L.marker%28%0A%20%20%20%20%20%20%20%20%20%20%20%20%20%20%20%20%5B28.822836%2C%2077.10198%5D%2C%0A%20%20%20%20%20%20%20%20%20%20%20%20%20%20%20%20%7B%22fillColor%22%3A%20%22red%22%2C%20%22radius%22%3A%208%7D%0A%20%20%20%20%20%20%20%20%20%20%20%20%29.addTo%28map_5366181663ce4d32b05f9ba223088132%29%3B%0A%20%20%20%20%20%20%20%20%0A%20%20%20%20%0A%20%20%20%20%20%20%20%20%20%20%20%20marker_b7d32dd3ae1344eeac2f804997080030.bindTooltip%28%0A%20%20%20%20%20%20%20%20%20%20%20%20%20%20%20%20%60%3Cdiv%3E%0A%20%20%20%20%20%20%20%20%20%20%20%20%20%20%20%20%20%20%20%20%20Narela%2C%20Delhi%20-%20DPCC%0A%20%20%20%20%20%20%20%20%20%20%20%20%20%20%20%20%20%3C/div%3E%60%2C%0A%20%20%20%20%20%20%20%20%20%20%20%20%20%20%20%20%7B%22sticky%22%3A%20true%7D%0A%20%20%20%20%20%20%20%20%20%20%20%20%29%3B%0A%20%20%20%20%20%20%20%20%0A%20%20%20%20%0A%20%20%20%20%20%20%20%20%20%20%20%20var%20marker_e88e5ecb3bbc409c891570ed5daa063f%20%3D%20L.marker%28%0A%20%20%20%20%20%20%20%20%20%20%20%20%20%20%20%20%5B28.65274%2C%2077.29779%5D%2C%0A%20%20%20%20%20%20%20%20%20%20%20%20%20%20%20%20%7B%22fillColor%22%3A%20%22red%22%2C%20%22radius%22%3A%208%7D%0A%20%20%20%20%20%20%20%20%20%20%20%20%29.addTo%28map_5366181663ce4d32b05f9ba223088132%29%3B%0A%20%20%20%20%20%20%20%20%0A%20%20%20%20%0A%20%20%20%20%20%20%20%20%20%20%20%20marker_e88e5ecb3bbc409c891570ed5daa063f.bindTooltip%28%0A%20%20%20%20%20%20%20%20%20%20%20%20%20%20%20%20%60%3Cdiv%3E%0A%20%20%20%20%20%20%20%20%20%20%20%20%20%20%20%20%20%20%20%20%20Anand%20Vihar%2C%20New%20Delhi%20-%20DPCC%0A%20%20%20%20%20%20%20%20%20%20%20%20%20%20%20%20%20%3C/div%3E%60%2C%0A%20%20%20%20%20%20%20%20%20%20%20%20%20%20%20%20%7B%22sticky%22%3A%20true%7D%0A%20%20%20%20%20%20%20%20%20%20%20%20%29%3B%0A%20%20%20%20%20%20%20%20%0A%20%20%20%20%0A%20%20%20%20%20%20%20%20%20%20%20%20var%20marker_f5b03ac8c85d4729bcf3eaad0edfa506%20%3D%20L.marker%28%0A%20%20%20%20%20%20%20%20%20%20%20%20%20%20%20%20%5B28.667086%2C%2077.13013%5D%2C%0A%20%20%20%20%20%20%20%20%20%20%20%20%20%20%20%20%7B%22fillColor%22%3A%20%22red%22%2C%20%22radius%22%3A%208%7D%0A%20%20%20%20%20%20%20%20%20%20%20%20%29.addTo%28map_5366181663ce4d32b05f9ba223088132%29%3B%0A%20%20%20%20%20%20%20%20%0A%20%20%20%20%0A%20%20%20%20%20%20%20%20%20%20%20%20marker_f5b03ac8c85d4729bcf3eaad0edfa506.bindTooltip%28%0A%20%20%20%20%20%20%20%20%20%20%20%20%20%20%20%20%60%3Cdiv%3E%0A%20%20%20%20%20%20%20%20%20%20%20%20%20%20%20%20%20%20%20%20%20Punjabi%20Bagh%2C%20New%20Delhi%20-%20DPCC%0A%20%20%20%20%20%20%20%20%20%20%20%20%20%20%20%20%20%3C/div%3E%60%2C%0A%20%20%20%20%20%20%20%20%20%20%20%20%20%20%20%20%7B%22sticky%22%3A%20true%7D%0A%20%20%20%20%20%20%20%20%20%20%20%20%29%3B%0A%20%20%20%20%20%20%20%20%0A%3C/script%3E onload=\"this.contentDocument.open();this.contentDocument.write(    decodeURIComponent(this.getAttribute('data-html')));this.contentDocument.close();\" allowfullscreen webkitallowfullscreen mozallowfullscreen></iframe></div></div>"
      ],
      "text/plain": [
       "<folium.folium.Map at 0x7f9b72e8a890>"
      ]
     },
     "execution_count": 12,
     "metadata": {},
     "output_type": "execute_result"
    }
   ],
   "source": [
    "import folium \n",
    "map_delhi_stations = folium.Map(location= [28.7041,77.1025] , zoom_start = 10)\n",
    "latlong = [(row['LATITUDE'],row['LONGITUDE'],row['LOCATION']) for _,row in aq_stations_delhi.iterrows()]\n",
    "for coord in latlong:\n",
    "    folium.Marker( location=[ coord[0], coord[1] ],tooltip=coord[2], fill_color='red', radius=8 ).add_to( map_delhi_stations )\n",
    "map_delhi_stations"
   ]
  },
  {
   "cell_type": "markdown",
   "metadata": {
    "papermill": {
     "duration": 0.041982,
     "end_time": "2021-03-21T05:20:42.972969",
     "exception": false,
     "start_time": "2021-03-21T05:20:42.930987",
     "status": "completed"
    },
    "tags": []
   },
   "source": [
    "Let's obtain the complete dataset now!"
   ]
  },
  {
   "cell_type": "code",
   "execution_count": 13,
   "metadata": {
    "execution": {
     "iopub.execute_input": "2021-03-21T05:20:43.066088Z",
     "iopub.status.busy": "2021-03-21T05:20:43.065393Z",
     "iopub.status.idle": "2021-03-21T05:20:44.555900Z",
     "shell.execute_reply": "2021-03-21T05:20:44.555248Z"
    },
    "papermill": {
     "duration": 1.541067,
     "end_time": "2021-03-21T05:20:44.556071",
     "exception": false,
     "start_time": "2021-03-21T05:20:43.015004",
     "status": "completed"
    },
    "tags": []
   },
   "outputs": [],
   "source": [
    "query = \"\"\"\n",
    "        SELECT * FROM `bigquery-public-data.openaq.global_air_quality`\n",
    "        WHERE CITY LIKE '%Delhi%'\n",
    "        ORDER BY EXTRACT(YEAR FROM TIMESTAMP);\n",
    "        \"\"\"\n",
    "delhi_data = run_query(query , open_aq)"
   ]
  },
  {
   "cell_type": "code",
   "execution_count": 14,
   "metadata": {
    "execution": {
     "iopub.execute_input": "2021-03-21T05:20:44.663875Z",
     "iopub.status.busy": "2021-03-21T05:20:44.662864Z",
     "iopub.status.idle": "2021-03-21T05:20:44.668561Z",
     "shell.execute_reply": "2021-03-21T05:20:44.667856Z"
    },
    "papermill": {
     "duration": 0.069365,
     "end_time": "2021-03-21T05:20:44.668727",
     "exception": false,
     "start_time": "2021-03-21T05:20:44.599362",
     "status": "completed"
    },
    "tags": []
   },
   "outputs": [
    {
     "data": {
      "text/html": [
       "<div>\n",
       "<style scoped>\n",
       "    .dataframe tbody tr th:only-of-type {\n",
       "        vertical-align: middle;\n",
       "    }\n",
       "\n",
       "    .dataframe tbody tr th {\n",
       "        vertical-align: top;\n",
       "    }\n",
       "\n",
       "    .dataframe thead th {\n",
       "        text-align: right;\n",
       "    }\n",
       "</style>\n",
       "<table border=\"1\" class=\"dataframe\">\n",
       "  <thead>\n",
       "    <tr style=\"text-align: right;\">\n",
       "      <th></th>\n",
       "      <th>location</th>\n",
       "      <th>city</th>\n",
       "      <th>country</th>\n",
       "      <th>pollutant</th>\n",
       "      <th>value</th>\n",
       "      <th>timestamp</th>\n",
       "      <th>unit</th>\n",
       "      <th>source_name</th>\n",
       "      <th>latitude</th>\n",
       "      <th>longitude</th>\n",
       "      <th>averaged_over_in_hours</th>\n",
       "    </tr>\n",
       "  </thead>\n",
       "  <tbody>\n",
       "    <tr>\n",
       "      <th>0</th>\n",
       "      <td>IGI Airport</td>\n",
       "      <td>Delhi</td>\n",
       "      <td>IN</td>\n",
       "      <td>co</td>\n",
       "      <td>910.00</td>\n",
       "      <td>2015-07-10 06:30:00+00:00</td>\n",
       "      <td>µg/m³</td>\n",
       "      <td>CPCB</td>\n",
       "      <td>28.56</td>\n",
       "      <td>77.094</td>\n",
       "      <td>0.25</td>\n",
       "    </tr>\n",
       "    <tr>\n",
       "      <th>1</th>\n",
       "      <td>IGI Airport</td>\n",
       "      <td>Delhi</td>\n",
       "      <td>IN</td>\n",
       "      <td>no2</td>\n",
       "      <td>39.18</td>\n",
       "      <td>2015-07-10 06:30:00+00:00</td>\n",
       "      <td>µg/m³</td>\n",
       "      <td>CPCB</td>\n",
       "      <td>28.56</td>\n",
       "      <td>77.094</td>\n",
       "      <td>0.25</td>\n",
       "    </tr>\n",
       "    <tr>\n",
       "      <th>2</th>\n",
       "      <td>IGI Airport</td>\n",
       "      <td>Delhi</td>\n",
       "      <td>IN</td>\n",
       "      <td>o3</td>\n",
       "      <td>61.66</td>\n",
       "      <td>2015-07-10 06:30:00+00:00</td>\n",
       "      <td>µg/m³</td>\n",
       "      <td>CPCB</td>\n",
       "      <td>28.56</td>\n",
       "      <td>77.094</td>\n",
       "      <td>0.25</td>\n",
       "    </tr>\n",
       "    <tr>\n",
       "      <th>3</th>\n",
       "      <td>IGI Airport</td>\n",
       "      <td>Delhi</td>\n",
       "      <td>IN</td>\n",
       "      <td>pm10</td>\n",
       "      <td>1.05</td>\n",
       "      <td>2015-07-10 06:30:00+00:00</td>\n",
       "      <td>µg/m³</td>\n",
       "      <td>CPCB</td>\n",
       "      <td>28.56</td>\n",
       "      <td>77.094</td>\n",
       "      <td>0.25</td>\n",
       "    </tr>\n",
       "    <tr>\n",
       "      <th>4</th>\n",
       "      <td>IGI Airport</td>\n",
       "      <td>Delhi</td>\n",
       "      <td>IN</td>\n",
       "      <td>pm25</td>\n",
       "      <td>56.82</td>\n",
       "      <td>2015-07-10 06:30:00+00:00</td>\n",
       "      <td>µg/m³</td>\n",
       "      <td>CPCB</td>\n",
       "      <td>28.56</td>\n",
       "      <td>77.094</td>\n",
       "      <td>0.25</td>\n",
       "    </tr>\n",
       "  </tbody>\n",
       "</table>\n",
       "</div>"
      ],
      "text/plain": [
       "      location   city country pollutant   value                 timestamp  \\\n",
       "0  IGI Airport  Delhi      IN        co  910.00 2015-07-10 06:30:00+00:00   \n",
       "1  IGI Airport  Delhi      IN       no2   39.18 2015-07-10 06:30:00+00:00   \n",
       "2  IGI Airport  Delhi      IN        o3   61.66 2015-07-10 06:30:00+00:00   \n",
       "3  IGI Airport  Delhi      IN      pm10    1.05 2015-07-10 06:30:00+00:00   \n",
       "4  IGI Airport  Delhi      IN      pm25   56.82 2015-07-10 06:30:00+00:00   \n",
       "\n",
       "    unit source_name  latitude  longitude  averaged_over_in_hours  \n",
       "0  µg/m³        CPCB     28.56     77.094                    0.25  \n",
       "1  µg/m³        CPCB     28.56     77.094                    0.25  \n",
       "2  µg/m³        CPCB     28.56     77.094                    0.25  \n",
       "3  µg/m³        CPCB     28.56     77.094                    0.25  \n",
       "4  µg/m³        CPCB     28.56     77.094                    0.25  "
      ]
     },
     "execution_count": 14,
     "metadata": {},
     "output_type": "execute_result"
    }
   ],
   "source": [
    "delhi_data.head()"
   ]
  },
  {
   "cell_type": "code",
   "execution_count": 15,
   "metadata": {
    "execution": {
     "iopub.execute_input": "2021-03-21T05:20:44.761379Z",
     "iopub.status.busy": "2021-03-21T05:20:44.759935Z",
     "iopub.status.idle": "2021-03-21T05:20:44.772460Z",
     "shell.execute_reply": "2021-03-21T05:20:44.773068Z"
    },
    "papermill": {
     "duration": 0.061435,
     "end_time": "2021-03-21T05:20:44.773306",
     "exception": false,
     "start_time": "2021-03-21T05:20:44.711871",
     "status": "completed"
    },
    "tags": []
   },
   "outputs": [
    {
     "name": "stdout",
     "output_type": "stream",
     "text": [
      "location : 0\n",
      "city : 0\n",
      "country : 0\n",
      "pollutant : 0\n",
      "value : 0\n",
      "timestamp : 0\n",
      "unit : 0\n",
      "source_name : 0\n",
      "latitude : 0\n",
      "longitude : 0\n",
      "averaged_over_in_hours : 1\n"
     ]
    }
   ],
   "source": [
    "for i in delhi_data.columns:\n",
    "    print(i,\":\",delhi_data[str(i)].isnull().sum())"
   ]
  },
  {
   "cell_type": "code",
   "execution_count": 16,
   "metadata": {
    "execution": {
     "iopub.execute_input": "2021-03-21T05:20:44.868881Z",
     "iopub.status.busy": "2021-03-21T05:20:44.868267Z",
     "iopub.status.idle": "2021-03-21T05:20:44.893664Z",
     "shell.execute_reply": "2021-03-21T05:20:44.894254Z"
    },
    "papermill": {
     "duration": 0.076479,
     "end_time": "2021-03-21T05:20:44.894464",
     "exception": false,
     "start_time": "2021-03-21T05:20:44.817985",
     "status": "completed"
    },
    "tags": []
   },
   "outputs": [
    {
     "data": {
      "text/html": [
       "<div>\n",
       "<style scoped>\n",
       "    .dataframe tbody tr th:only-of-type {\n",
       "        vertical-align: middle;\n",
       "    }\n",
       "\n",
       "    .dataframe tbody tr th {\n",
       "        vertical-align: top;\n",
       "    }\n",
       "\n",
       "    .dataframe thead th {\n",
       "        text-align: right;\n",
       "    }\n",
       "</style>\n",
       "<table border=\"1\" class=\"dataframe\">\n",
       "  <thead>\n",
       "    <tr style=\"text-align: right;\">\n",
       "      <th></th>\n",
       "      <th>value</th>\n",
       "      <th>latitude</th>\n",
       "      <th>longitude</th>\n",
       "      <th>averaged_over_in_hours</th>\n",
       "    </tr>\n",
       "  </thead>\n",
       "  <tbody>\n",
       "    <tr>\n",
       "      <th>count</th>\n",
       "      <td>253.000000</td>\n",
       "      <td>253.000000</td>\n",
       "      <td>253.000000</td>\n",
       "      <td>252.000000</td>\n",
       "    </tr>\n",
       "    <tr>\n",
       "      <th>mean</th>\n",
       "      <td>501.168538</td>\n",
       "      <td>28.637375</td>\n",
       "      <td>77.177373</td>\n",
       "      <td>0.285714</td>\n",
       "    </tr>\n",
       "    <tr>\n",
       "      <th>std</th>\n",
       "      <td>3391.675626</td>\n",
       "      <td>0.074699</td>\n",
       "      <td>0.084799</td>\n",
       "      <td>0.160037</td>\n",
       "    </tr>\n",
       "    <tr>\n",
       "      <th>min</th>\n",
       "      <td>0.000000</td>\n",
       "      <td>28.470692</td>\n",
       "      <td>76.933760</td>\n",
       "      <td>0.250000</td>\n",
       "    </tr>\n",
       "    <tr>\n",
       "      <th>25%</th>\n",
       "      <td>20.200000</td>\n",
       "      <td>28.570173</td>\n",
       "      <td>77.118004</td>\n",
       "      <td>0.250000</td>\n",
       "    </tr>\n",
       "    <tr>\n",
       "      <th>50%</th>\n",
       "      <td>59.000000</td>\n",
       "      <td>28.646835</td>\n",
       "      <td>77.174400</td>\n",
       "      <td>0.250000</td>\n",
       "    </tr>\n",
       "    <tr>\n",
       "      <th>75%</th>\n",
       "      <td>145.000000</td>\n",
       "      <td>28.682100</td>\n",
       "      <td>77.249435</td>\n",
       "      <td>0.250000</td>\n",
       "    </tr>\n",
       "    <tr>\n",
       "      <th>max</th>\n",
       "      <td>50000.000000</td>\n",
       "      <td>28.822836</td>\n",
       "      <td>77.316030</td>\n",
       "      <td>1.000000</td>\n",
       "    </tr>\n",
       "  </tbody>\n",
       "</table>\n",
       "</div>"
      ],
      "text/plain": [
       "              value    latitude   longitude  averaged_over_in_hours\n",
       "count    253.000000  253.000000  253.000000              252.000000\n",
       "mean     501.168538   28.637375   77.177373                0.285714\n",
       "std     3391.675626    0.074699    0.084799                0.160037\n",
       "min        0.000000   28.470692   76.933760                0.250000\n",
       "25%       20.200000   28.570173   77.118004                0.250000\n",
       "50%       59.000000   28.646835   77.174400                0.250000\n",
       "75%      145.000000   28.682100   77.249435                0.250000\n",
       "max    50000.000000   28.822836   77.316030                1.000000"
      ]
     },
     "execution_count": 16,
     "metadata": {},
     "output_type": "execute_result"
    }
   ],
   "source": [
    "delhi_data.describe()"
   ]
  },
  {
   "cell_type": "code",
   "execution_count": 17,
   "metadata": {
    "execution": {
     "iopub.execute_input": "2021-03-21T05:20:44.993060Z",
     "iopub.status.busy": "2021-03-21T05:20:44.992225Z",
     "iopub.status.idle": "2021-03-21T05:20:44.996354Z",
     "shell.execute_reply": "2021-03-21T05:20:44.996867Z"
    },
    "papermill": {
     "duration": 0.057688,
     "end_time": "2021-03-21T05:20:44.997061",
     "exception": false,
     "start_time": "2021-03-21T05:20:44.939373",
     "status": "completed"
    },
    "tags": []
   },
   "outputs": [
    {
     "data": {
      "text/plain": [
       "[12]"
      ]
     },
     "execution_count": 17,
     "metadata": {},
     "output_type": "execute_result"
    }
   ],
   "source": [
    "delhi_data[delhi_data['averaged_over_in_hours'].isnull()].index.to_list()"
   ]
  },
  {
   "cell_type": "code",
   "execution_count": 18,
   "metadata": {
    "execution": {
     "iopub.execute_input": "2021-03-21T05:20:45.094605Z",
     "iopub.status.busy": "2021-03-21T05:20:45.093613Z",
     "iopub.status.idle": "2021-03-21T05:20:45.098478Z",
     "shell.execute_reply": "2021-03-21T05:20:45.097842Z"
    },
    "papermill": {
     "duration": 0.056385,
     "end_time": "2021-03-21T05:20:45.098619",
     "exception": false,
     "start_time": "2021-03-21T05:20:45.042234",
     "status": "completed"
    },
    "tags": []
   },
   "outputs": [
    {
     "data": {
      "text/plain": [
       "location                                Anand Vihar\n",
       "city                                          Delhi\n",
       "country                                          IN\n",
       "pollutant                                        co\n",
       "value                                     1300.0000\n",
       "timestamp                 2016-03-21 14:45:00+00:00\n",
       "unit                                          µg/m³\n",
       "source_name                             Anand Vihar\n",
       "latitude                                    28.6508\n",
       "longitude                                   77.3152\n",
       "averaged_over_in_hours                          NaN\n",
       "Name: 12, dtype: object"
      ]
     },
     "execution_count": 18,
     "metadata": {},
     "output_type": "execute_result"
    }
   ],
   "source": [
    "delhi_data.iloc[12]"
   ]
  },
  {
   "cell_type": "markdown",
   "metadata": {
    "papermill": {
     "duration": 0.044386,
     "end_time": "2021-03-21T05:20:45.187756",
     "exception": false,
     "start_time": "2021-03-21T05:20:45.143370",
     "status": "completed"
    },
    "tags": []
   },
   "source": [
    "We will replace this with a mean value for Anand Vihar"
   ]
  },
  {
   "cell_type": "code",
   "execution_count": 19,
   "metadata": {
    "execution": {
     "iopub.execute_input": "2021-03-21T05:20:45.281170Z",
     "iopub.status.busy": "2021-03-21T05:20:45.280254Z",
     "iopub.status.idle": "2021-03-21T05:20:45.301708Z",
     "shell.execute_reply": "2021-03-21T05:20:45.301173Z"
    },
    "papermill": {
     "duration": 0.069082,
     "end_time": "2021-03-21T05:20:45.301844",
     "exception": false,
     "start_time": "2021-03-21T05:20:45.232762",
     "status": "completed"
    },
    "tags": []
   },
   "outputs": [
    {
     "data": {
      "text/html": [
       "<div>\n",
       "<style scoped>\n",
       "    .dataframe tbody tr th:only-of-type {\n",
       "        vertical-align: middle;\n",
       "    }\n",
       "\n",
       "    .dataframe tbody tr th {\n",
       "        vertical-align: top;\n",
       "    }\n",
       "\n",
       "    .dataframe thead th {\n",
       "        text-align: right;\n",
       "    }\n",
       "</style>\n",
       "<table border=\"1\" class=\"dataframe\">\n",
       "  <thead>\n",
       "    <tr style=\"text-align: right;\">\n",
       "      <th></th>\n",
       "      <th>location</th>\n",
       "      <th>city</th>\n",
       "      <th>country</th>\n",
       "      <th>pollutant</th>\n",
       "      <th>value</th>\n",
       "      <th>timestamp</th>\n",
       "      <th>unit</th>\n",
       "      <th>source_name</th>\n",
       "      <th>latitude</th>\n",
       "      <th>longitude</th>\n",
       "      <th>averaged_over_in_hours</th>\n",
       "    </tr>\n",
       "  </thead>\n",
       "  <tbody>\n",
       "    <tr>\n",
       "      <th>12</th>\n",
       "      <td>Anand Vihar</td>\n",
       "      <td>Delhi</td>\n",
       "      <td>IN</td>\n",
       "      <td>co</td>\n",
       "      <td>1300.00</td>\n",
       "      <td>2016-03-21 14:45:00+00:00</td>\n",
       "      <td>µg/m³</td>\n",
       "      <td>Anand Vihar</td>\n",
       "      <td>28.6508</td>\n",
       "      <td>77.3152</td>\n",
       "      <td>NaN</td>\n",
       "    </tr>\n",
       "    <tr>\n",
       "      <th>30</th>\n",
       "      <td>Anand Vihar</td>\n",
       "      <td>Delhi</td>\n",
       "      <td>IN</td>\n",
       "      <td>no2</td>\n",
       "      <td>166.70</td>\n",
       "      <td>2017-11-28 10:15:00+00:00</td>\n",
       "      <td>µg/m³</td>\n",
       "      <td>CPCB</td>\n",
       "      <td>28.6508</td>\n",
       "      <td>77.3152</td>\n",
       "      <td>0.25</td>\n",
       "    </tr>\n",
       "    <tr>\n",
       "      <th>31</th>\n",
       "      <td>Anand Vihar</td>\n",
       "      <td>Delhi</td>\n",
       "      <td>IN</td>\n",
       "      <td>o3</td>\n",
       "      <td>11.87</td>\n",
       "      <td>2017-11-28 10:15:00+00:00</td>\n",
       "      <td>µg/m³</td>\n",
       "      <td>CPCB</td>\n",
       "      <td>28.6508</td>\n",
       "      <td>77.3152</td>\n",
       "      <td>0.25</td>\n",
       "    </tr>\n",
       "    <tr>\n",
       "      <th>32</th>\n",
       "      <td>Anand Vihar</td>\n",
       "      <td>Delhi</td>\n",
       "      <td>IN</td>\n",
       "      <td>pm10</td>\n",
       "      <td>258.00</td>\n",
       "      <td>2017-11-28 10:15:00+00:00</td>\n",
       "      <td>µg/m³</td>\n",
       "      <td>CPCB</td>\n",
       "      <td>28.6508</td>\n",
       "      <td>77.3152</td>\n",
       "      <td>0.25</td>\n",
       "    </tr>\n",
       "    <tr>\n",
       "      <th>33</th>\n",
       "      <td>Anand Vihar</td>\n",
       "      <td>Delhi</td>\n",
       "      <td>IN</td>\n",
       "      <td>pm25</td>\n",
       "      <td>70.00</td>\n",
       "      <td>2017-11-28 10:15:00+00:00</td>\n",
       "      <td>µg/m³</td>\n",
       "      <td>CPCB</td>\n",
       "      <td>28.6508</td>\n",
       "      <td>77.3152</td>\n",
       "      <td>0.25</td>\n",
       "    </tr>\n",
       "    <tr>\n",
       "      <th>34</th>\n",
       "      <td>Anand Vihar</td>\n",
       "      <td>Delhi</td>\n",
       "      <td>IN</td>\n",
       "      <td>so2</td>\n",
       "      <td>15.03</td>\n",
       "      <td>2017-11-28 10:15:00+00:00</td>\n",
       "      <td>µg/m³</td>\n",
       "      <td>CPCB</td>\n",
       "      <td>28.6508</td>\n",
       "      <td>77.3152</td>\n",
       "      <td>0.25</td>\n",
       "    </tr>\n",
       "  </tbody>\n",
       "</table>\n",
       "</div>"
      ],
      "text/plain": [
       "       location   city country pollutant    value                 timestamp  \\\n",
       "12  Anand Vihar  Delhi      IN        co  1300.00 2016-03-21 14:45:00+00:00   \n",
       "30  Anand Vihar  Delhi      IN       no2   166.70 2017-11-28 10:15:00+00:00   \n",
       "31  Anand Vihar  Delhi      IN        o3    11.87 2017-11-28 10:15:00+00:00   \n",
       "32  Anand Vihar  Delhi      IN      pm10   258.00 2017-11-28 10:15:00+00:00   \n",
       "33  Anand Vihar  Delhi      IN      pm25    70.00 2017-11-28 10:15:00+00:00   \n",
       "34  Anand Vihar  Delhi      IN       so2    15.03 2017-11-28 10:15:00+00:00   \n",
       "\n",
       "     unit  source_name  latitude  longitude  averaged_over_in_hours  \n",
       "12  µg/m³  Anand Vihar   28.6508    77.3152                     NaN  \n",
       "30  µg/m³         CPCB   28.6508    77.3152                    0.25  \n",
       "31  µg/m³         CPCB   28.6508    77.3152                    0.25  \n",
       "32  µg/m³         CPCB   28.6508    77.3152                    0.25  \n",
       "33  µg/m³         CPCB   28.6508    77.3152                    0.25  \n",
       "34  µg/m³         CPCB   28.6508    77.3152                    0.25  "
      ]
     },
     "execution_count": 19,
     "metadata": {},
     "output_type": "execute_result"
    }
   ],
   "source": [
    "delhi_data[delhi_data['location'] == 'Anand Vihar']"
   ]
  },
  {
   "cell_type": "code",
   "execution_count": 20,
   "metadata": {
    "execution": {
     "iopub.execute_input": "2021-03-21T05:20:45.401645Z",
     "iopub.status.busy": "2021-03-21T05:20:45.400721Z",
     "iopub.status.idle": "2021-03-21T05:20:45.404813Z",
     "shell.execute_reply": "2021-03-21T05:20:45.404170Z"
    },
    "papermill": {
     "duration": 0.057241,
     "end_time": "2021-03-21T05:20:45.404988",
     "exception": false,
     "start_time": "2021-03-21T05:20:45.347747",
     "status": "completed"
    },
    "tags": []
   },
   "outputs": [],
   "source": [
    "delhi_data['averaged_over_in_hours'] = delhi_data['averaged_over_in_hours'].replace(np.nan, delhi_data[delhi_data['location'] == 'Anand Vihar']['averaged_over_in_hours'].mean())"
   ]
  },
  {
   "cell_type": "code",
   "execution_count": 21,
   "metadata": {
    "execution": {
     "iopub.execute_input": "2021-03-21T05:20:45.503709Z",
     "iopub.status.busy": "2021-03-21T05:20:45.502910Z",
     "iopub.status.idle": "2021-03-21T05:20:45.518644Z",
     "shell.execute_reply": "2021-03-21T05:20:45.518022Z"
    },
    "papermill": {
     "duration": 0.066943,
     "end_time": "2021-03-21T05:20:45.518802",
     "exception": false,
     "start_time": "2021-03-21T05:20:45.451859",
     "status": "completed"
    },
    "tags": []
   },
   "outputs": [
    {
     "name": "stdout",
     "output_type": "stream",
     "text": [
      "location : 0\n",
      "city : 0\n",
      "country : 0\n",
      "pollutant : 0\n",
      "value : 0\n",
      "timestamp : 0\n",
      "unit : 0\n",
      "source_name : 0\n",
      "latitude : 0\n",
      "longitude : 0\n",
      "averaged_over_in_hours : 0\n"
     ]
    }
   ],
   "source": [
    "for i in delhi_data.columns:\n",
    "    print(i,\":\",delhi_data[str(i)].isnull().sum())"
   ]
  },
  {
   "cell_type": "markdown",
   "metadata": {
    "papermill": {
     "duration": 0.0458,
     "end_time": "2021-03-21T05:20:45.612185",
     "exception": false,
     "start_time": "2021-03-21T05:20:45.566385",
     "status": "completed"
    },
    "tags": []
   },
   "source": [
    "Okay , we have fixed the missing value issue. Let's move ahead to check out the difference in records having city as Delhi and New Delhi"
   ]
  },
  {
   "cell_type": "code",
   "execution_count": 22,
   "metadata": {
    "execution": {
     "iopub.execute_input": "2021-03-21T05:20:45.711992Z",
     "iopub.status.busy": "2021-03-21T05:20:45.711022Z",
     "iopub.status.idle": "2021-03-21T05:20:45.728534Z",
     "shell.execute_reply": "2021-03-21T05:20:45.728976Z"
    },
    "papermill": {
     "duration": 0.07038,
     "end_time": "2021-03-21T05:20:45.729175",
     "exception": false,
     "start_time": "2021-03-21T05:20:45.658795",
     "status": "completed"
    },
    "tags": []
   },
   "outputs": [
    {
     "data": {
      "text/html": [
       "<div>\n",
       "<style scoped>\n",
       "    .dataframe tbody tr th:only-of-type {\n",
       "        vertical-align: middle;\n",
       "    }\n",
       "\n",
       "    .dataframe tbody tr th {\n",
       "        vertical-align: top;\n",
       "    }\n",
       "\n",
       "    .dataframe thead th {\n",
       "        text-align: right;\n",
       "    }\n",
       "</style>\n",
       "<table border=\"1\" class=\"dataframe\">\n",
       "  <thead>\n",
       "    <tr style=\"text-align: right;\">\n",
       "      <th></th>\n",
       "      <th>location</th>\n",
       "      <th>city</th>\n",
       "      <th>country</th>\n",
       "      <th>pollutant</th>\n",
       "      <th>value</th>\n",
       "      <th>timestamp</th>\n",
       "      <th>unit</th>\n",
       "      <th>source_name</th>\n",
       "      <th>latitude</th>\n",
       "      <th>longitude</th>\n",
       "      <th>averaged_over_in_hours</th>\n",
       "    </tr>\n",
       "  </thead>\n",
       "  <tbody>\n",
       "    <tr>\n",
       "      <th>78</th>\n",
       "      <td>Dwarka-Sector 8, Delhi - DPCC</td>\n",
       "      <td>New Delhi</td>\n",
       "      <td>IN</td>\n",
       "      <td>co</td>\n",
       "      <td>1300.0</td>\n",
       "      <td>2020-06-11 01:15:00+00:00</td>\n",
       "      <td>µg/m³</td>\n",
       "      <td>caaqm</td>\n",
       "      <td>28.571028</td>\n",
       "      <td>77.0719</td>\n",
       "      <td>0.25</td>\n",
       "    </tr>\n",
       "    <tr>\n",
       "      <th>79</th>\n",
       "      <td>Dwarka-Sector 8, Delhi - DPCC</td>\n",
       "      <td>New Delhi</td>\n",
       "      <td>IN</td>\n",
       "      <td>no2</td>\n",
       "      <td>44.1</td>\n",
       "      <td>2020-06-11 01:15:00+00:00</td>\n",
       "      <td>µg/m³</td>\n",
       "      <td>caaqm</td>\n",
       "      <td>28.571028</td>\n",
       "      <td>77.0719</td>\n",
       "      <td>0.25</td>\n",
       "    </tr>\n",
       "    <tr>\n",
       "      <th>80</th>\n",
       "      <td>Dwarka-Sector 8, Delhi - DPCC</td>\n",
       "      <td>New Delhi</td>\n",
       "      <td>IN</td>\n",
       "      <td>o3</td>\n",
       "      <td>4.4</td>\n",
       "      <td>2020-06-11 01:15:00+00:00</td>\n",
       "      <td>µg/m³</td>\n",
       "      <td>caaqm</td>\n",
       "      <td>28.571028</td>\n",
       "      <td>77.0719</td>\n",
       "      <td>0.25</td>\n",
       "    </tr>\n",
       "    <tr>\n",
       "      <th>81</th>\n",
       "      <td>Dwarka-Sector 8, Delhi - DPCC</td>\n",
       "      <td>New Delhi</td>\n",
       "      <td>IN</td>\n",
       "      <td>pm10</td>\n",
       "      <td>238.0</td>\n",
       "      <td>2020-06-11 01:15:00+00:00</td>\n",
       "      <td>µg/m³</td>\n",
       "      <td>caaqm</td>\n",
       "      <td>28.571028</td>\n",
       "      <td>77.0719</td>\n",
       "      <td>0.25</td>\n",
       "    </tr>\n",
       "    <tr>\n",
       "      <th>82</th>\n",
       "      <td>Dwarka-Sector 8, Delhi - DPCC</td>\n",
       "      <td>New Delhi</td>\n",
       "      <td>IN</td>\n",
       "      <td>pm25</td>\n",
       "      <td>39.0</td>\n",
       "      <td>2020-06-11 01:15:00+00:00</td>\n",
       "      <td>µg/m³</td>\n",
       "      <td>caaqm</td>\n",
       "      <td>28.571028</td>\n",
       "      <td>77.0719</td>\n",
       "      <td>0.25</td>\n",
       "    </tr>\n",
       "    <tr>\n",
       "      <th>83</th>\n",
       "      <td>Dwarka-Sector 8, Delhi - DPCC</td>\n",
       "      <td>New Delhi</td>\n",
       "      <td>IN</td>\n",
       "      <td>so2</td>\n",
       "      <td>14.0</td>\n",
       "      <td>2020-06-11 01:15:00+00:00</td>\n",
       "      <td>µg/m³</td>\n",
       "      <td>caaqm</td>\n",
       "      <td>28.571028</td>\n",
       "      <td>77.0719</td>\n",
       "      <td>0.25</td>\n",
       "    </tr>\n",
       "  </tbody>\n",
       "</table>\n",
       "</div>"
      ],
      "text/plain": [
       "                          location       city country pollutant   value  \\\n",
       "78  Dwarka-Sector 8, Delhi - DPCC   New Delhi      IN        co  1300.0   \n",
       "79  Dwarka-Sector 8, Delhi - DPCC   New Delhi      IN       no2    44.1   \n",
       "80  Dwarka-Sector 8, Delhi - DPCC   New Delhi      IN        o3     4.4   \n",
       "81  Dwarka-Sector 8, Delhi - DPCC   New Delhi      IN      pm10   238.0   \n",
       "82  Dwarka-Sector 8, Delhi - DPCC   New Delhi      IN      pm25    39.0   \n",
       "83  Dwarka-Sector 8, Delhi - DPCC   New Delhi      IN       so2    14.0   \n",
       "\n",
       "                   timestamp   unit source_name   latitude  longitude  \\\n",
       "78 2020-06-11 01:15:00+00:00  µg/m³       caaqm  28.571028    77.0719   \n",
       "79 2020-06-11 01:15:00+00:00  µg/m³       caaqm  28.571028    77.0719   \n",
       "80 2020-06-11 01:15:00+00:00  µg/m³       caaqm  28.571028    77.0719   \n",
       "81 2020-06-11 01:15:00+00:00  µg/m³       caaqm  28.571028    77.0719   \n",
       "82 2020-06-11 01:15:00+00:00  µg/m³       caaqm  28.571028    77.0719   \n",
       "83 2020-06-11 01:15:00+00:00  µg/m³       caaqm  28.571028    77.0719   \n",
       "\n",
       "    averaged_over_in_hours  \n",
       "78                    0.25  \n",
       "79                    0.25  \n",
       "80                    0.25  \n",
       "81                    0.25  \n",
       "82                    0.25  \n",
       "83                    0.25  "
      ]
     },
     "execution_count": 22,
     "metadata": {},
     "output_type": "execute_result"
    }
   ],
   "source": [
    "delhi_data[delhi_data['city'] == 'New Delhi']"
   ]
  },
  {
   "cell_type": "code",
   "execution_count": 23,
   "metadata": {
    "execution": {
     "iopub.execute_input": "2021-03-21T05:20:45.846097Z",
     "iopub.status.busy": "2021-03-21T05:20:45.845382Z",
     "iopub.status.idle": "2021-03-21T05:20:45.848380Z",
     "shell.execute_reply": "2021-03-21T05:20:45.848863Z"
    },
    "papermill": {
     "duration": 0.072289,
     "end_time": "2021-03-21T05:20:45.849069",
     "exception": false,
     "start_time": "2021-03-21T05:20:45.776780",
     "status": "completed"
    },
    "tags": []
   },
   "outputs": [
    {
     "data": {
      "text/html": [
       "<div>\n",
       "<style scoped>\n",
       "    .dataframe tbody tr th:only-of-type {\n",
       "        vertical-align: middle;\n",
       "    }\n",
       "\n",
       "    .dataframe tbody tr th {\n",
       "        vertical-align: top;\n",
       "    }\n",
       "\n",
       "    .dataframe thead th {\n",
       "        text-align: right;\n",
       "    }\n",
       "</style>\n",
       "<table border=\"1\" class=\"dataframe\">\n",
       "  <thead>\n",
       "    <tr style=\"text-align: right;\">\n",
       "      <th></th>\n",
       "      <th>location</th>\n",
       "      <th>city</th>\n",
       "      <th>country</th>\n",
       "      <th>pollutant</th>\n",
       "      <th>value</th>\n",
       "      <th>timestamp</th>\n",
       "      <th>unit</th>\n",
       "      <th>source_name</th>\n",
       "      <th>latitude</th>\n",
       "      <th>longitude</th>\n",
       "      <th>averaged_over_in_hours</th>\n",
       "    </tr>\n",
       "  </thead>\n",
       "  <tbody>\n",
       "    <tr>\n",
       "      <th>78</th>\n",
       "      <td>Dwarka-Sector 8, Delhi - DPCC</td>\n",
       "      <td>New Delhi</td>\n",
       "      <td>IN</td>\n",
       "      <td>co</td>\n",
       "      <td>1300.0</td>\n",
       "      <td>2020-06-11 01:15:00+00:00</td>\n",
       "      <td>µg/m³</td>\n",
       "      <td>caaqm</td>\n",
       "      <td>28.571028</td>\n",
       "      <td>77.0719</td>\n",
       "      <td>0.25</td>\n",
       "    </tr>\n",
       "    <tr>\n",
       "      <th>79</th>\n",
       "      <td>Dwarka-Sector 8, Delhi - DPCC</td>\n",
       "      <td>New Delhi</td>\n",
       "      <td>IN</td>\n",
       "      <td>no2</td>\n",
       "      <td>44.1</td>\n",
       "      <td>2020-06-11 01:15:00+00:00</td>\n",
       "      <td>µg/m³</td>\n",
       "      <td>caaqm</td>\n",
       "      <td>28.571028</td>\n",
       "      <td>77.0719</td>\n",
       "      <td>0.25</td>\n",
       "    </tr>\n",
       "    <tr>\n",
       "      <th>80</th>\n",
       "      <td>Dwarka-Sector 8, Delhi - DPCC</td>\n",
       "      <td>New Delhi</td>\n",
       "      <td>IN</td>\n",
       "      <td>o3</td>\n",
       "      <td>4.4</td>\n",
       "      <td>2020-06-11 01:15:00+00:00</td>\n",
       "      <td>µg/m³</td>\n",
       "      <td>caaqm</td>\n",
       "      <td>28.571028</td>\n",
       "      <td>77.0719</td>\n",
       "      <td>0.25</td>\n",
       "    </tr>\n",
       "    <tr>\n",
       "      <th>81</th>\n",
       "      <td>Dwarka-Sector 8, Delhi - DPCC</td>\n",
       "      <td>New Delhi</td>\n",
       "      <td>IN</td>\n",
       "      <td>pm10</td>\n",
       "      <td>238.0</td>\n",
       "      <td>2020-06-11 01:15:00+00:00</td>\n",
       "      <td>µg/m³</td>\n",
       "      <td>caaqm</td>\n",
       "      <td>28.571028</td>\n",
       "      <td>77.0719</td>\n",
       "      <td>0.25</td>\n",
       "    </tr>\n",
       "    <tr>\n",
       "      <th>82</th>\n",
       "      <td>Dwarka-Sector 8, Delhi - DPCC</td>\n",
       "      <td>New Delhi</td>\n",
       "      <td>IN</td>\n",
       "      <td>pm25</td>\n",
       "      <td>39.0</td>\n",
       "      <td>2020-06-11 01:15:00+00:00</td>\n",
       "      <td>µg/m³</td>\n",
       "      <td>caaqm</td>\n",
       "      <td>28.571028</td>\n",
       "      <td>77.0719</td>\n",
       "      <td>0.25</td>\n",
       "    </tr>\n",
       "    <tr>\n",
       "      <th>83</th>\n",
       "      <td>Dwarka-Sector 8, Delhi - DPCC</td>\n",
       "      <td>New Delhi</td>\n",
       "      <td>IN</td>\n",
       "      <td>so2</td>\n",
       "      <td>14.0</td>\n",
       "      <td>2020-06-11 01:15:00+00:00</td>\n",
       "      <td>µg/m³</td>\n",
       "      <td>caaqm</td>\n",
       "      <td>28.571028</td>\n",
       "      <td>77.0719</td>\n",
       "      <td>0.25</td>\n",
       "    </tr>\n",
       "  </tbody>\n",
       "</table>\n",
       "</div>"
      ],
      "text/plain": [
       "                          location       city country pollutant   value  \\\n",
       "78  Dwarka-Sector 8, Delhi - DPCC   New Delhi      IN        co  1300.0   \n",
       "79  Dwarka-Sector 8, Delhi - DPCC   New Delhi      IN       no2    44.1   \n",
       "80  Dwarka-Sector 8, Delhi - DPCC   New Delhi      IN        o3     4.4   \n",
       "81  Dwarka-Sector 8, Delhi - DPCC   New Delhi      IN      pm10   238.0   \n",
       "82  Dwarka-Sector 8, Delhi - DPCC   New Delhi      IN      pm25    39.0   \n",
       "83  Dwarka-Sector 8, Delhi - DPCC   New Delhi      IN       so2    14.0   \n",
       "\n",
       "                   timestamp   unit source_name   latitude  longitude  \\\n",
       "78 2020-06-11 01:15:00+00:00  µg/m³       caaqm  28.571028    77.0719   \n",
       "79 2020-06-11 01:15:00+00:00  µg/m³       caaqm  28.571028    77.0719   \n",
       "80 2020-06-11 01:15:00+00:00  µg/m³       caaqm  28.571028    77.0719   \n",
       "81 2020-06-11 01:15:00+00:00  µg/m³       caaqm  28.571028    77.0719   \n",
       "82 2020-06-11 01:15:00+00:00  µg/m³       caaqm  28.571028    77.0719   \n",
       "83 2020-06-11 01:15:00+00:00  µg/m³       caaqm  28.571028    77.0719   \n",
       "\n",
       "    averaged_over_in_hours  \n",
       "78                    0.25  \n",
       "79                    0.25  \n",
       "80                    0.25  \n",
       "81                    0.25  \n",
       "82                    0.25  \n",
       "83                    0.25  "
      ]
     },
     "execution_count": 23,
     "metadata": {},
     "output_type": "execute_result"
    }
   ],
   "source": [
    "delhi_data[delhi_data['location'] == 'Dwarka-Sector 8, Delhi - DPCC ']"
   ]
  },
  {
   "cell_type": "markdown",
   "metadata": {
    "papermill": {
     "duration": 0.048415,
     "end_time": "2021-03-21T05:20:45.948458",
     "exception": false,
     "start_time": "2021-03-21T05:20:45.900043",
     "status": "completed"
    },
    "tags": []
   },
   "source": [
    "From the above cells , we can see that the location Dwarka-Sector 8, Delhi - DPCC is responsible for entering records as New Delhi. This station must be newly established or new to the record publication / collection list because it has never reported data prior to 2020."
   ]
  },
  {
   "cell_type": "code",
   "execution_count": 24,
   "metadata": {
    "execution": {
     "iopub.execute_input": "2021-03-21T05:20:46.055178Z",
     "iopub.status.busy": "2021-03-21T05:20:46.054430Z",
     "iopub.status.idle": "2021-03-21T05:20:46.072454Z",
     "shell.execute_reply": "2021-03-21T05:20:46.073151Z"
    },
    "papermill": {
     "duration": 0.074525,
     "end_time": "2021-03-21T05:20:46.073362",
     "exception": false,
     "start_time": "2021-03-21T05:20:45.998837",
     "status": "completed"
    },
    "tags": []
   },
   "outputs": [
    {
     "name": "stdout",
     "output_type": "stream",
     "text": [
      "Number of Unique Values\n",
      "location : 49\n",
      "city : 2\n",
      "country : 1\n",
      "pollutant : 6\n",
      "value : 226\n",
      "timestamp : 40\n",
      "unit : 1\n",
      "source_name : 4\n",
      "latitude : 46\n",
      "longitude : 46\n",
      "averaged_over_in_hours : 2\n"
     ]
    }
   ],
   "source": [
    "print(\"Number of Unique Values\")\n",
    "cols_to_drop = []\n",
    "for i in delhi_data.columns:\n",
    "    if(len(delhi_data[str(i)].unique()) <= 2):\n",
    "        cols_to_drop.append(str(i))\n",
    "    print(i,\":\",len(delhi_data[str(i)].unique()))\n"
   ]
  },
  {
   "cell_type": "code",
   "execution_count": 25,
   "metadata": {
    "execution": {
     "iopub.execute_input": "2021-03-21T05:20:46.178030Z",
     "iopub.status.busy": "2021-03-21T05:20:46.177201Z",
     "iopub.status.idle": "2021-03-21T05:20:46.181476Z",
     "shell.execute_reply": "2021-03-21T05:20:46.180788Z"
    },
    "papermill": {
     "duration": 0.058671,
     "end_time": "2021-03-21T05:20:46.181639",
     "exception": false,
     "start_time": "2021-03-21T05:20:46.122968",
     "status": "completed"
    },
    "tags": []
   },
   "outputs": [
    {
     "data": {
      "text/plain": [
       "['city', 'country', 'unit', 'averaged_over_in_hours']"
      ]
     },
     "execution_count": 25,
     "metadata": {},
     "output_type": "execute_result"
    }
   ],
   "source": [
    "cols_to_drop"
   ]
  },
  {
   "cell_type": "code",
   "execution_count": 26,
   "metadata": {
    "execution": {
     "iopub.execute_input": "2021-03-21T05:20:46.289236Z",
     "iopub.status.busy": "2021-03-21T05:20:46.288574Z",
     "iopub.status.idle": "2021-03-21T05:20:46.293800Z",
     "shell.execute_reply": "2021-03-21T05:20:46.293289Z"
    },
    "papermill": {
     "duration": 0.062703,
     "end_time": "2021-03-21T05:20:46.293945",
     "exception": false,
     "start_time": "2021-03-21T05:20:46.231242",
     "status": "completed"
    },
    "tags": []
   },
   "outputs": [
    {
     "data": {
      "text/plain": [
       "0.25    241\n",
       "1.00     12\n",
       "Name: averaged_over_in_hours, dtype: int64"
      ]
     },
     "execution_count": 26,
     "metadata": {},
     "output_type": "execute_result"
    }
   ],
   "source": [
    "delhi_data['averaged_over_in_hours'].value_counts()"
   ]
  },
  {
   "cell_type": "code",
   "execution_count": 27,
   "metadata": {
    "execution": {
     "iopub.execute_input": "2021-03-21T05:20:46.398379Z",
     "iopub.status.busy": "2021-03-21T05:20:46.397689Z",
     "iopub.status.idle": "2021-03-21T05:20:46.440321Z",
     "shell.execute_reply": "2021-03-21T05:20:46.439749Z"
    },
    "papermill": {
     "duration": 0.097375,
     "end_time": "2021-03-21T05:20:46.440463",
     "exception": false,
     "start_time": "2021-03-21T05:20:46.343088",
     "status": "completed"
    },
    "tags": []
   },
   "outputs": [
    {
     "data": {
      "text/html": [
       "<div>\n",
       "<style scoped>\n",
       "    .dataframe tbody tr th:only-of-type {\n",
       "        vertical-align: middle;\n",
       "    }\n",
       "\n",
       "    .dataframe tbody tr th {\n",
       "        vertical-align: top;\n",
       "    }\n",
       "\n",
       "    .dataframe thead th {\n",
       "        text-align: right;\n",
       "    }\n",
       "</style>\n",
       "<table border=\"1\" class=\"dataframe\">\n",
       "  <thead>\n",
       "    <tr style=\"text-align: right;\">\n",
       "      <th></th>\n",
       "      <th>location</th>\n",
       "      <th>city</th>\n",
       "      <th>country</th>\n",
       "      <th>pollutant</th>\n",
       "      <th>value</th>\n",
       "      <th>timestamp</th>\n",
       "      <th>unit</th>\n",
       "      <th>source_name</th>\n",
       "      <th>latitude</th>\n",
       "      <th>longitude</th>\n",
       "      <th>averaged_over_in_hours</th>\n",
       "    </tr>\n",
       "  </thead>\n",
       "  <tbody>\n",
       "    <tr>\n",
       "      <th>61</th>\n",
       "      <td>Anand Vihar, New Delhi - DPCC</td>\n",
       "      <td>Delhi</td>\n",
       "      <td>IN</td>\n",
       "      <td>co</td>\n",
       "      <td>20000.0</td>\n",
       "      <td>2018-03-16 23:30:00+00:00</td>\n",
       "      <td>µg/m³</td>\n",
       "      <td>data.gov.in</td>\n",
       "      <td>28.652740</td>\n",
       "      <td>77.29779</td>\n",
       "      <td>1.0</td>\n",
       "    </tr>\n",
       "    <tr>\n",
       "      <th>62</th>\n",
       "      <td>Anand Vihar, New Delhi - DPCC</td>\n",
       "      <td>Delhi</td>\n",
       "      <td>IN</td>\n",
       "      <td>no2</td>\n",
       "      <td>131.0</td>\n",
       "      <td>2018-03-16 23:30:00+00:00</td>\n",
       "      <td>µg/m³</td>\n",
       "      <td>data.gov.in</td>\n",
       "      <td>28.652740</td>\n",
       "      <td>77.29779</td>\n",
       "      <td>1.0</td>\n",
       "    </tr>\n",
       "    <tr>\n",
       "      <th>63</th>\n",
       "      <td>Anand Vihar, New Delhi - DPCC</td>\n",
       "      <td>Delhi</td>\n",
       "      <td>IN</td>\n",
       "      <td>o3</td>\n",
       "      <td>38.0</td>\n",
       "      <td>2018-03-16 23:30:00+00:00</td>\n",
       "      <td>µg/m³</td>\n",
       "      <td>data.gov.in</td>\n",
       "      <td>28.652740</td>\n",
       "      <td>77.29779</td>\n",
       "      <td>1.0</td>\n",
       "    </tr>\n",
       "    <tr>\n",
       "      <th>64</th>\n",
       "      <td>Anand Vihar, New Delhi - DPCC</td>\n",
       "      <td>Delhi</td>\n",
       "      <td>IN</td>\n",
       "      <td>pm10</td>\n",
       "      <td>206.0</td>\n",
       "      <td>2018-03-16 23:30:00+00:00</td>\n",
       "      <td>µg/m³</td>\n",
       "      <td>data.gov.in</td>\n",
       "      <td>28.652740</td>\n",
       "      <td>77.29779</td>\n",
       "      <td>1.0</td>\n",
       "    </tr>\n",
       "    <tr>\n",
       "      <th>65</th>\n",
       "      <td>Anand Vihar, New Delhi - DPCC</td>\n",
       "      <td>Delhi</td>\n",
       "      <td>IN</td>\n",
       "      <td>pm25</td>\n",
       "      <td>166.0</td>\n",
       "      <td>2018-03-16 23:30:00+00:00</td>\n",
       "      <td>µg/m³</td>\n",
       "      <td>data.gov.in</td>\n",
       "      <td>28.652740</td>\n",
       "      <td>77.29779</td>\n",
       "      <td>1.0</td>\n",
       "    </tr>\n",
       "    <tr>\n",
       "      <th>66</th>\n",
       "      <td>Anand Vihar, New Delhi - DPCC</td>\n",
       "      <td>Delhi</td>\n",
       "      <td>IN</td>\n",
       "      <td>so2</td>\n",
       "      <td>19.0</td>\n",
       "      <td>2018-03-16 23:30:00+00:00</td>\n",
       "      <td>µg/m³</td>\n",
       "      <td>data.gov.in</td>\n",
       "      <td>28.652740</td>\n",
       "      <td>77.29779</td>\n",
       "      <td>1.0</td>\n",
       "    </tr>\n",
       "    <tr>\n",
       "      <th>67</th>\n",
       "      <td>Punjabi Bagh, New Delhi - DPCC</td>\n",
       "      <td>Delhi</td>\n",
       "      <td>IN</td>\n",
       "      <td>co</td>\n",
       "      <td>50000.0</td>\n",
       "      <td>2018-03-20 06:30:00+00:00</td>\n",
       "      <td>µg/m³</td>\n",
       "      <td>data.gov.in</td>\n",
       "      <td>28.667086</td>\n",
       "      <td>77.13013</td>\n",
       "      <td>1.0</td>\n",
       "    </tr>\n",
       "    <tr>\n",
       "      <th>68</th>\n",
       "      <td>Punjabi Bagh, New Delhi - DPCC</td>\n",
       "      <td>Delhi</td>\n",
       "      <td>IN</td>\n",
       "      <td>no2</td>\n",
       "      <td>87.0</td>\n",
       "      <td>2018-03-20 06:30:00+00:00</td>\n",
       "      <td>µg/m³</td>\n",
       "      <td>data.gov.in</td>\n",
       "      <td>28.667086</td>\n",
       "      <td>77.13013</td>\n",
       "      <td>1.0</td>\n",
       "    </tr>\n",
       "    <tr>\n",
       "      <th>69</th>\n",
       "      <td>Punjabi Bagh, New Delhi - DPCC</td>\n",
       "      <td>Delhi</td>\n",
       "      <td>IN</td>\n",
       "      <td>o3</td>\n",
       "      <td>78.0</td>\n",
       "      <td>2018-03-20 06:30:00+00:00</td>\n",
       "      <td>µg/m³</td>\n",
       "      <td>data.gov.in</td>\n",
       "      <td>28.667086</td>\n",
       "      <td>77.13013</td>\n",
       "      <td>1.0</td>\n",
       "    </tr>\n",
       "    <tr>\n",
       "      <th>70</th>\n",
       "      <td>Punjabi Bagh, New Delhi - DPCC</td>\n",
       "      <td>Delhi</td>\n",
       "      <td>IN</td>\n",
       "      <td>pm10</td>\n",
       "      <td>154.0</td>\n",
       "      <td>2018-03-20 06:30:00+00:00</td>\n",
       "      <td>µg/m³</td>\n",
       "      <td>data.gov.in</td>\n",
       "      <td>28.667086</td>\n",
       "      <td>77.13013</td>\n",
       "      <td>1.0</td>\n",
       "    </tr>\n",
       "    <tr>\n",
       "      <th>71</th>\n",
       "      <td>Punjabi Bagh, New Delhi - DPCC</td>\n",
       "      <td>Delhi</td>\n",
       "      <td>IN</td>\n",
       "      <td>pm25</td>\n",
       "      <td>157.0</td>\n",
       "      <td>2018-03-20 06:30:00+00:00</td>\n",
       "      <td>µg/m³</td>\n",
       "      <td>data.gov.in</td>\n",
       "      <td>28.667086</td>\n",
       "      <td>77.13013</td>\n",
       "      <td>1.0</td>\n",
       "    </tr>\n",
       "    <tr>\n",
       "      <th>72</th>\n",
       "      <td>Punjabi Bagh, New Delhi - DPCC</td>\n",
       "      <td>Delhi</td>\n",
       "      <td>IN</td>\n",
       "      <td>so2</td>\n",
       "      <td>31.0</td>\n",
       "      <td>2018-03-20 06:30:00+00:00</td>\n",
       "      <td>µg/m³</td>\n",
       "      <td>data.gov.in</td>\n",
       "      <td>28.667086</td>\n",
       "      <td>77.13013</td>\n",
       "      <td>1.0</td>\n",
       "    </tr>\n",
       "  </tbody>\n",
       "</table>\n",
       "</div>"
      ],
      "text/plain": [
       "                          location   city country pollutant    value  \\\n",
       "61   Anand Vihar, New Delhi - DPCC  Delhi      IN        co  20000.0   \n",
       "62   Anand Vihar, New Delhi - DPCC  Delhi      IN       no2    131.0   \n",
       "63   Anand Vihar, New Delhi - DPCC  Delhi      IN        o3     38.0   \n",
       "64   Anand Vihar, New Delhi - DPCC  Delhi      IN      pm10    206.0   \n",
       "65   Anand Vihar, New Delhi - DPCC  Delhi      IN      pm25    166.0   \n",
       "66   Anand Vihar, New Delhi - DPCC  Delhi      IN       so2     19.0   \n",
       "67  Punjabi Bagh, New Delhi - DPCC  Delhi      IN        co  50000.0   \n",
       "68  Punjabi Bagh, New Delhi - DPCC  Delhi      IN       no2     87.0   \n",
       "69  Punjabi Bagh, New Delhi - DPCC  Delhi      IN        o3     78.0   \n",
       "70  Punjabi Bagh, New Delhi - DPCC  Delhi      IN      pm10    154.0   \n",
       "71  Punjabi Bagh, New Delhi - DPCC  Delhi      IN      pm25    157.0   \n",
       "72  Punjabi Bagh, New Delhi - DPCC  Delhi      IN       so2     31.0   \n",
       "\n",
       "                   timestamp   unit  source_name   latitude  longitude  \\\n",
       "61 2018-03-16 23:30:00+00:00  µg/m³  data.gov.in  28.652740   77.29779   \n",
       "62 2018-03-16 23:30:00+00:00  µg/m³  data.gov.in  28.652740   77.29779   \n",
       "63 2018-03-16 23:30:00+00:00  µg/m³  data.gov.in  28.652740   77.29779   \n",
       "64 2018-03-16 23:30:00+00:00  µg/m³  data.gov.in  28.652740   77.29779   \n",
       "65 2018-03-16 23:30:00+00:00  µg/m³  data.gov.in  28.652740   77.29779   \n",
       "66 2018-03-16 23:30:00+00:00  µg/m³  data.gov.in  28.652740   77.29779   \n",
       "67 2018-03-20 06:30:00+00:00  µg/m³  data.gov.in  28.667086   77.13013   \n",
       "68 2018-03-20 06:30:00+00:00  µg/m³  data.gov.in  28.667086   77.13013   \n",
       "69 2018-03-20 06:30:00+00:00  µg/m³  data.gov.in  28.667086   77.13013   \n",
       "70 2018-03-20 06:30:00+00:00  µg/m³  data.gov.in  28.667086   77.13013   \n",
       "71 2018-03-20 06:30:00+00:00  µg/m³  data.gov.in  28.667086   77.13013   \n",
       "72 2018-03-20 06:30:00+00:00  µg/m³  data.gov.in  28.667086   77.13013   \n",
       "\n",
       "    averaged_over_in_hours  \n",
       "61                     1.0  \n",
       "62                     1.0  \n",
       "63                     1.0  \n",
       "64                     1.0  \n",
       "65                     1.0  \n",
       "66                     1.0  \n",
       "67                     1.0  \n",
       "68                     1.0  \n",
       "69                     1.0  \n",
       "70                     1.0  \n",
       "71                     1.0  \n",
       "72                     1.0  "
      ]
     },
     "execution_count": 27,
     "metadata": {},
     "output_type": "execute_result"
    }
   ],
   "source": [
    "delhi_data[delhi_data['averaged_over_in_hours'] == 1.00]"
   ]
  },
  {
   "cell_type": "markdown",
   "metadata": {
    "papermill": {
     "duration": 0.049501,
     "end_time": "2021-03-21T05:20:46.540282",
     "exception": false,
     "start_time": "2021-03-21T05:20:46.490781",
     "status": "completed"
    },
    "tags": []
   },
   "source": [
    "We will not be dropping averaged over in hours for now. Seems this variable can contribute somehow.\n",
    "\n",
    "We will also drop latitude and longitude as we already have the value saved for our reference should we need it."
   ]
  },
  {
   "cell_type": "code",
   "execution_count": 28,
   "metadata": {
    "execution": {
     "iopub.execute_input": "2021-03-21T05:20:46.648329Z",
     "iopub.status.busy": "2021-03-21T05:20:46.647686Z",
     "iopub.status.idle": "2021-03-21T05:20:46.650679Z",
     "shell.execute_reply": "2021-03-21T05:20:46.651201Z"
    },
    "papermill": {
     "duration": 0.059934,
     "end_time": "2021-03-21T05:20:46.651375",
     "exception": false,
     "start_time": "2021-03-21T05:20:46.591441",
     "status": "completed"
    },
    "tags": []
   },
   "outputs": [],
   "source": [
    "delhi_data.drop(columns = cols_to_drop[:-1],axis = 1, inplace = True)"
   ]
  },
  {
   "cell_type": "code",
   "execution_count": 29,
   "metadata": {
    "execution": {
     "iopub.execute_input": "2021-03-21T05:20:46.754873Z",
     "iopub.status.busy": "2021-03-21T05:20:46.754256Z",
     "iopub.status.idle": "2021-03-21T05:20:46.770723Z",
     "shell.execute_reply": "2021-03-21T05:20:46.771334Z"
    },
    "papermill": {
     "duration": 0.070483,
     "end_time": "2021-03-21T05:20:46.771507",
     "exception": false,
     "start_time": "2021-03-21T05:20:46.701024",
     "status": "completed"
    },
    "tags": []
   },
   "outputs": [
    {
     "data": {
      "text/html": [
       "<div>\n",
       "<style scoped>\n",
       "    .dataframe tbody tr th:only-of-type {\n",
       "        vertical-align: middle;\n",
       "    }\n",
       "\n",
       "    .dataframe tbody tr th {\n",
       "        vertical-align: top;\n",
       "    }\n",
       "\n",
       "    .dataframe thead th {\n",
       "        text-align: right;\n",
       "    }\n",
       "</style>\n",
       "<table border=\"1\" class=\"dataframe\">\n",
       "  <thead>\n",
       "    <tr style=\"text-align: right;\">\n",
       "      <th></th>\n",
       "      <th>location</th>\n",
       "      <th>pollutant</th>\n",
       "      <th>value</th>\n",
       "      <th>timestamp</th>\n",
       "      <th>source_name</th>\n",
       "      <th>averaged_over_in_hours</th>\n",
       "    </tr>\n",
       "  </thead>\n",
       "  <tbody>\n",
       "    <tr>\n",
       "      <th>0</th>\n",
       "      <td>IGI Airport</td>\n",
       "      <td>co</td>\n",
       "      <td>910.00</td>\n",
       "      <td>2015-07-10 06:30:00+00:00</td>\n",
       "      <td>CPCB</td>\n",
       "      <td>0.25</td>\n",
       "    </tr>\n",
       "    <tr>\n",
       "      <th>1</th>\n",
       "      <td>IGI Airport</td>\n",
       "      <td>no2</td>\n",
       "      <td>39.18</td>\n",
       "      <td>2015-07-10 06:30:00+00:00</td>\n",
       "      <td>CPCB</td>\n",
       "      <td>0.25</td>\n",
       "    </tr>\n",
       "    <tr>\n",
       "      <th>2</th>\n",
       "      <td>IGI Airport</td>\n",
       "      <td>o3</td>\n",
       "      <td>61.66</td>\n",
       "      <td>2015-07-10 06:30:00+00:00</td>\n",
       "      <td>CPCB</td>\n",
       "      <td>0.25</td>\n",
       "    </tr>\n",
       "    <tr>\n",
       "      <th>3</th>\n",
       "      <td>IGI Airport</td>\n",
       "      <td>pm10</td>\n",
       "      <td>1.05</td>\n",
       "      <td>2015-07-10 06:30:00+00:00</td>\n",
       "      <td>CPCB</td>\n",
       "      <td>0.25</td>\n",
       "    </tr>\n",
       "    <tr>\n",
       "      <th>4</th>\n",
       "      <td>IGI Airport</td>\n",
       "      <td>pm25</td>\n",
       "      <td>56.82</td>\n",
       "      <td>2015-07-10 06:30:00+00:00</td>\n",
       "      <td>CPCB</td>\n",
       "      <td>0.25</td>\n",
       "    </tr>\n",
       "  </tbody>\n",
       "</table>\n",
       "</div>"
      ],
      "text/plain": [
       "      location pollutant   value                 timestamp source_name  \\\n",
       "0  IGI Airport        co  910.00 2015-07-10 06:30:00+00:00        CPCB   \n",
       "1  IGI Airport       no2   39.18 2015-07-10 06:30:00+00:00        CPCB   \n",
       "2  IGI Airport        o3   61.66 2015-07-10 06:30:00+00:00        CPCB   \n",
       "3  IGI Airport      pm10    1.05 2015-07-10 06:30:00+00:00        CPCB   \n",
       "4  IGI Airport      pm25   56.82 2015-07-10 06:30:00+00:00        CPCB   \n",
       "\n",
       "   averaged_over_in_hours  \n",
       "0                    0.25  \n",
       "1                    0.25  \n",
       "2                    0.25  \n",
       "3                    0.25  \n",
       "4                    0.25  "
      ]
     },
     "execution_count": 29,
     "metadata": {},
     "output_type": "execute_result"
    }
   ],
   "source": [
    "delhi_data.drop(columns = ['latitude','longitude'] , inplace = True)\n",
    "delhi_data.head()"
   ]
  },
  {
   "cell_type": "code",
   "execution_count": 30,
   "metadata": {
    "execution": {
     "iopub.execute_input": "2021-03-21T05:20:46.877828Z",
     "iopub.status.busy": "2021-03-21T05:20:46.877090Z",
     "iopub.status.idle": "2021-03-21T05:20:46.883238Z",
     "shell.execute_reply": "2021-03-21T05:20:46.883750Z"
    },
    "papermill": {
     "duration": 0.060657,
     "end_time": "2021-03-21T05:20:46.883967",
     "exception": false,
     "start_time": "2021-03-21T05:20:46.823310",
     "status": "completed"
    },
    "tags": []
   },
   "outputs": [
    {
     "data": {
      "text/plain": [
       "datetime64[ns, UTC]"
      ]
     },
     "execution_count": 30,
     "metadata": {},
     "output_type": "execute_result"
    }
   ],
   "source": [
    "delhi_data['timestamp'].dtype"
   ]
  },
  {
   "cell_type": "code",
   "execution_count": 31,
   "metadata": {
    "execution": {
     "iopub.execute_input": "2021-03-21T05:20:46.990075Z",
     "iopub.status.busy": "2021-03-21T05:20:46.989427Z",
     "iopub.status.idle": "2021-03-21T05:20:47.008359Z",
     "shell.execute_reply": "2021-03-21T05:20:47.007815Z"
    },
    "papermill": {
     "duration": 0.073441,
     "end_time": "2021-03-21T05:20:47.008497",
     "exception": false,
     "start_time": "2021-03-21T05:20:46.935056",
     "status": "completed"
    },
    "tags": []
   },
   "outputs": [
    {
     "data": {
      "text/html": [
       "<div>\n",
       "<style scoped>\n",
       "    .dataframe tbody tr th:only-of-type {\n",
       "        vertical-align: middle;\n",
       "    }\n",
       "\n",
       "    .dataframe tbody tr th {\n",
       "        vertical-align: top;\n",
       "    }\n",
       "\n",
       "    .dataframe thead th {\n",
       "        text-align: right;\n",
       "    }\n",
       "</style>\n",
       "<table border=\"1\" class=\"dataframe\">\n",
       "  <thead>\n",
       "    <tr style=\"text-align: right;\">\n",
       "      <th></th>\n",
       "      <th>location</th>\n",
       "      <th>pollutant</th>\n",
       "      <th>value</th>\n",
       "      <th>timestamp</th>\n",
       "      <th>source_name</th>\n",
       "      <th>averaged_over_in_hours</th>\n",
       "    </tr>\n",
       "  </thead>\n",
       "  <tbody>\n",
       "    <tr>\n",
       "      <th>9</th>\n",
       "      <td>Delhi College Of Engineering</td>\n",
       "      <td>o3</td>\n",
       "      <td>2.00</td>\n",
       "      <td>2015-04-09 06:00:00+00:00</td>\n",
       "      <td>CPCB</td>\n",
       "      <td>0.25</td>\n",
       "    </tr>\n",
       "    <tr>\n",
       "      <th>0</th>\n",
       "      <td>IGI Airport</td>\n",
       "      <td>co</td>\n",
       "      <td>910.00</td>\n",
       "      <td>2015-07-10 06:30:00+00:00</td>\n",
       "      <td>CPCB</td>\n",
       "      <td>0.25</td>\n",
       "    </tr>\n",
       "    <tr>\n",
       "      <th>1</th>\n",
       "      <td>IGI Airport</td>\n",
       "      <td>no2</td>\n",
       "      <td>39.18</td>\n",
       "      <td>2015-07-10 06:30:00+00:00</td>\n",
       "      <td>CPCB</td>\n",
       "      <td>0.25</td>\n",
       "    </tr>\n",
       "    <tr>\n",
       "      <th>2</th>\n",
       "      <td>IGI Airport</td>\n",
       "      <td>o3</td>\n",
       "      <td>61.66</td>\n",
       "      <td>2015-07-10 06:30:00+00:00</td>\n",
       "      <td>CPCB</td>\n",
       "      <td>0.25</td>\n",
       "    </tr>\n",
       "    <tr>\n",
       "      <th>3</th>\n",
       "      <td>IGI Airport</td>\n",
       "      <td>pm10</td>\n",
       "      <td>1.05</td>\n",
       "      <td>2015-07-10 06:30:00+00:00</td>\n",
       "      <td>CPCB</td>\n",
       "      <td>0.25</td>\n",
       "    </tr>\n",
       "  </tbody>\n",
       "</table>\n",
       "</div>"
      ],
      "text/plain": [
       "                       location pollutant   value                 timestamp  \\\n",
       "9  Delhi College Of Engineering        o3    2.00 2015-04-09 06:00:00+00:00   \n",
       "0                   IGI Airport        co  910.00 2015-07-10 06:30:00+00:00   \n",
       "1                   IGI Airport       no2   39.18 2015-07-10 06:30:00+00:00   \n",
       "2                   IGI Airport        o3   61.66 2015-07-10 06:30:00+00:00   \n",
       "3                   IGI Airport      pm10    1.05 2015-07-10 06:30:00+00:00   \n",
       "\n",
       "  source_name  averaged_over_in_hours  \n",
       "9        CPCB                    0.25  \n",
       "0        CPCB                    0.25  \n",
       "1        CPCB                    0.25  \n",
       "2        CPCB                    0.25  \n",
       "3        CPCB                    0.25  "
      ]
     },
     "execution_count": 31,
     "metadata": {},
     "output_type": "execute_result"
    }
   ],
   "source": [
    "year_2015 = delhi_data[delhi_data['timestamp'].dt.year == 2015].sort_values(by = 'timestamp')\n",
    "year_2015.head()"
   ]
  },
  {
   "cell_type": "markdown",
   "metadata": {
    "papermill": {
     "duration": 0.054255,
     "end_time": "2021-03-21T05:20:47.114468",
     "exception": false,
     "start_time": "2021-03-21T05:20:47.060213",
     "status": "completed"
    },
    "tags": []
   },
   "source": [
    "# **Pollutants Trends and Analysis**"
   ]
  },
  {
   "cell_type": "markdown",
   "metadata": {
    "papermill": {
     "duration": 0.051537,
     "end_time": "2021-03-21T05:20:47.217949",
     "exception": false,
     "start_time": "2021-03-21T05:20:47.166412",
     "status": "completed"
    },
    "tags": []
   },
   "source": [
    "# CO"
   ]
  },
  {
   "cell_type": "code",
   "execution_count": 32,
   "metadata": {
    "execution": {
     "iopub.execute_input": "2021-03-21T05:20:47.328322Z",
     "iopub.status.busy": "2021-03-21T05:20:47.327461Z",
     "iopub.status.idle": "2021-03-21T05:20:48.711695Z",
     "shell.execute_reply": "2021-03-21T05:20:48.710893Z"
    },
    "papermill": {
     "duration": 1.442244,
     "end_time": "2021-03-21T05:20:48.711890",
     "exception": false,
     "start_time": "2021-03-21T05:20:47.269646",
     "status": "completed"
    },
    "tags": []
   },
   "outputs": [
    {
     "data": {
      "text/plain": [
       "<AxesSubplot:xlabel='timestamp', ylabel='value'>"
      ]
     },
     "execution_count": 32,
     "metadata": {},
     "output_type": "execute_result"
    },
    {
     "data": {
      "image/png": "[encoded data removed]",
      "text/plain": [
       "<Figure size 432x288 with 1 Axes>"
      ]
     },
     "metadata": {},
     "output_type": "display_data"
    }
   ],
   "source": [
    "import seaborn as sns\n",
    "sns.set_theme(style='whitegrid')\n",
    "sns.lineplot(x = delhi_data['timestamp'].dt.year, y = delhi_data[delhi_data['pollutant'] == 'co']['value'])"
   ]
  },
  {
   "cell_type": "markdown",
   "metadata": {
    "papermill": {
     "duration": 0.055255,
     "end_time": "2021-03-21T05:20:48.823814",
     "exception": false,
     "start_time": "2021-03-21T05:20:48.768559",
     "status": "completed"
    },
    "tags": []
   },
   "source": [
    "Is it just me or is that an outlier in the Dataset ?"
   ]
  },
  {
   "cell_type": "code",
   "execution_count": 33,
   "metadata": {
    "execution": {
     "iopub.execute_input": "2021-03-21T05:20:48.960330Z",
     "iopub.status.busy": "2021-03-21T05:20:48.959642Z",
     "iopub.status.idle": "2021-03-21T05:20:49.311345Z",
     "shell.execute_reply": "2021-03-21T05:20:49.311807Z"
    },
    "papermill": {
     "duration": 0.434362,
     "end_time": "2021-03-21T05:20:49.311985",
     "exception": false,
     "start_time": "2021-03-21T05:20:48.877623",
     "status": "completed"
    },
    "tags": []
   },
   "outputs": [
    {
     "data": {
      "text/plain": [
       "<AxesSubplot:xlabel='timestamp', ylabel='value'>"
      ]
     },
     "execution_count": 33,
     "metadata": {},
     "output_type": "execute_result"
    },
    {
     "data": {
      "image/png": "[encoded data removed]",
      "text/plain": [
       "<Figure size 432x288 with 1 Axes>"
      ]
     },
     "metadata": {},
     "output_type": "display_data"
    }
   ],
   "source": [
    "sns.lineplot(x = delhi_data['timestamp'].dt.month, y = delhi_data[delhi_data['pollutant'] == 'co']['value'])"
   ]
  },
  {
   "cell_type": "code",
   "execution_count": 34,
   "metadata": {
    "execution": {
     "iopub.execute_input": "2021-03-21T05:20:49.445283Z",
     "iopub.status.busy": "2021-03-21T05:20:49.444222Z",
     "iopub.status.idle": "2021-03-21T05:20:49.450467Z",
     "shell.execute_reply": "2021-03-21T05:20:49.449731Z"
    },
    "papermill": {
     "duration": 0.082138,
     "end_time": "2021-03-21T05:20:49.450694",
     "exception": false,
     "start_time": "2021-03-21T05:20:49.368556",
     "status": "completed"
    },
    "tags": []
   },
   "outputs": [
    {
     "data": {
      "text/html": [
       "<div>\n",
       "<style scoped>\n",
       "    .dataframe tbody tr th:only-of-type {\n",
       "        vertical-align: middle;\n",
       "    }\n",
       "\n",
       "    .dataframe tbody tr th {\n",
       "        vertical-align: top;\n",
       "    }\n",
       "\n",
       "    .dataframe thead th {\n",
       "        text-align: right;\n",
       "    }\n",
       "</style>\n",
       "<table border=\"1\" class=\"dataframe\">\n",
       "  <thead>\n",
       "    <tr style=\"text-align: right;\">\n",
       "      <th></th>\n",
       "      <th>location</th>\n",
       "      <th>pollutant</th>\n",
       "      <th>value</th>\n",
       "      <th>timestamp</th>\n",
       "      <th>source_name</th>\n",
       "      <th>averaged_over_in_hours</th>\n",
       "    </tr>\n",
       "  </thead>\n",
       "  <tbody>\n",
       "    <tr>\n",
       "      <th>49</th>\n",
       "      <td>IHBAS, Delhi - CPCB</td>\n",
       "      <td>co</td>\n",
       "      <td>2500.0</td>\n",
       "      <td>2018-02-22 02:45:00+00:00</td>\n",
       "      <td>CPCB</td>\n",
       "      <td>0.25</td>\n",
       "    </tr>\n",
       "    <tr>\n",
       "      <th>55</th>\n",
       "      <td>ITO, New Delhi - CPCB</td>\n",
       "      <td>co</td>\n",
       "      <td>1440.0</td>\n",
       "      <td>2018-12-15 16:15:00+00:00</td>\n",
       "      <td>caaqm</td>\n",
       "      <td>0.25</td>\n",
       "    </tr>\n",
       "    <tr>\n",
       "      <th>61</th>\n",
       "      <td>Anand Vihar, New Delhi - DPCC</td>\n",
       "      <td>co</td>\n",
       "      <td>20000.0</td>\n",
       "      <td>2018-03-16 23:30:00+00:00</td>\n",
       "      <td>data.gov.in</td>\n",
       "      <td>1.00</td>\n",
       "    </tr>\n",
       "    <tr>\n",
       "      <th>67</th>\n",
       "      <td>Punjabi Bagh, New Delhi - DPCC</td>\n",
       "      <td>co</td>\n",
       "      <td>50000.0</td>\n",
       "      <td>2018-03-20 06:30:00+00:00</td>\n",
       "      <td>data.gov.in</td>\n",
       "      <td>1.00</td>\n",
       "    </tr>\n",
       "  </tbody>\n",
       "</table>\n",
       "</div>"
      ],
      "text/plain": [
       "                          location pollutant    value  \\\n",
       "49             IHBAS, Delhi - CPCB        co   2500.0   \n",
       "55           ITO, New Delhi - CPCB        co   1440.0   \n",
       "61   Anand Vihar, New Delhi - DPCC        co  20000.0   \n",
       "67  Punjabi Bagh, New Delhi - DPCC        co  50000.0   \n",
       "\n",
       "                   timestamp  source_name  averaged_over_in_hours  \n",
       "49 2018-02-22 02:45:00+00:00         CPCB                    0.25  \n",
       "55 2018-12-15 16:15:00+00:00        caaqm                    0.25  \n",
       "61 2018-03-16 23:30:00+00:00  data.gov.in                    1.00  \n",
       "67 2018-03-20 06:30:00+00:00  data.gov.in                    1.00  "
      ]
     },
     "execution_count": 34,
     "metadata": {},
     "output_type": "execute_result"
    }
   ],
   "source": [
    "year_2018 = delhi_data[delhi_data['timestamp'].dt.year == 2018]\n",
    "co_values = year_2018[year_2018['pollutant'] == 'co']\n",
    "co_values"
   ]
  },
  {
   "cell_type": "markdown",
   "metadata": {
    "papermill": {
     "duration": 0.062043,
     "end_time": "2021-03-21T05:20:49.569077",
     "exception": false,
     "start_time": "2021-03-21T05:20:49.507034",
     "status": "completed"
    },
    "tags": []
   },
   "source": [
    "# No2"
   ]
  },
  {
   "cell_type": "code",
   "execution_count": 35,
   "metadata": {
    "execution": {
     "iopub.execute_input": "2021-03-21T05:20:49.721824Z",
     "iopub.status.busy": "2021-03-21T05:20:49.714984Z",
     "iopub.status.idle": "2021-03-21T05:20:50.024264Z",
     "shell.execute_reply": "2021-03-21T05:20:50.022956Z"
    },
    "papermill": {
     "duration": 0.397356,
     "end_time": "2021-03-21T05:20:50.024450",
     "exception": false,
     "start_time": "2021-03-21T05:20:49.627094",
     "status": "completed"
    },
    "tags": []
   },
   "outputs": [
    {
     "data": {
      "text/plain": [
       "<AxesSubplot:xlabel='timestamp', ylabel='value'>"
      ]
     },
     "execution_count": 35,
     "metadata": {},
     "output_type": "execute_result"
    },
    {
     "data": {
      "image/png": "[encoded data removed]",
      "text/plain": [
       "<Figure size 432x288 with 1 Axes>"
      ]
     },
     "metadata": {},
     "output_type": "display_data"
    }
   ],
   "source": [
    "sns.lineplot(x = delhi_data['timestamp'].dt.year, y = delhi_data[delhi_data['pollutant'] == 'no2']['value'])"
   ]
  },
  {
   "cell_type": "code",
   "execution_count": 36,
   "metadata": {
    "execution": {
     "iopub.execute_input": "2021-03-21T05:20:50.183317Z",
     "iopub.status.busy": "2021-03-21T05:20:50.173433Z",
     "iopub.status.idle": "2021-03-21T05:20:50.530284Z",
     "shell.execute_reply": "2021-03-21T05:20:50.529481Z"
    },
    "papermill": {
     "duration": 0.445346,
     "end_time": "2021-03-21T05:20:50.530463",
     "exception": false,
     "start_time": "2021-03-21T05:20:50.085117",
     "status": "completed"
    },
    "tags": []
   },
   "outputs": [
    {
     "data": {
      "text/plain": [
       "<AxesSubplot:xlabel='timestamp', ylabel='value'>"
      ]
     },
     "execution_count": 36,
     "metadata": {},
     "output_type": "execute_result"
    },
    {
     "data": {
      "image/png": "[encoded data removed]",
      "text/plain": [
       "<Figure size 432x288 with 1 Axes>"
      ]
     },
     "metadata": {},
     "output_type": "display_data"
    }
   ],
   "source": [
    "sns.lineplot(x = delhi_data['timestamp'].dt.month, y = delhi_data[delhi_data['pollutant'] == 'no2']['value'])"
   ]
  },
  {
   "cell_type": "code",
   "execution_count": 37,
   "metadata": {
    "execution": {
     "iopub.execute_input": "2021-03-21T05:20:50.658378Z",
     "iopub.status.busy": "2021-03-21T05:20:50.657220Z",
     "iopub.status.idle": "2021-03-21T05:20:50.662376Z",
     "shell.execute_reply": "2021-03-21T05:20:50.661795Z"
    },
    "papermill": {
     "duration": 0.072463,
     "end_time": "2021-03-21T05:20:50.662545",
     "exception": false,
     "start_time": "2021-03-21T05:20:50.590082",
     "status": "completed"
    },
    "tags": []
   },
   "outputs": [
    {
     "data": {
      "text/plain": [
       "array(['co', 'no2', 'o3', 'pm10', 'pm25', 'so2'], dtype=object)"
      ]
     },
     "execution_count": 37,
     "metadata": {},
     "output_type": "execute_result"
    }
   ],
   "source": [
    "delhi_data['pollutant'].unique()"
   ]
  },
  {
   "cell_type": "markdown",
   "metadata": {
    "papermill": {
     "duration": 0.062446,
     "end_time": "2021-03-21T05:20:50.785965",
     "exception": false,
     "start_time": "2021-03-21T05:20:50.723519",
     "status": "completed"
    },
    "tags": []
   },
   "source": [
    "# o3"
   ]
  },
  {
   "cell_type": "code",
   "execution_count": 38,
   "metadata": {
    "execution": {
     "iopub.execute_input": "2021-03-21T05:20:50.942575Z",
     "iopub.status.busy": "2021-03-21T05:20:50.925730Z",
     "iopub.status.idle": "2021-03-21T05:20:51.244053Z",
     "shell.execute_reply": "2021-03-21T05:20:51.244644Z"
    },
    "papermill": {
     "duration": 0.394609,
     "end_time": "2021-03-21T05:20:51.244864",
     "exception": false,
     "start_time": "2021-03-21T05:20:50.850255",
     "status": "completed"
    },
    "tags": []
   },
   "outputs": [
    {
     "data": {
      "text/plain": [
       "<AxesSubplot:xlabel='timestamp', ylabel='value'>"
      ]
     },
     "execution_count": 38,
     "metadata": {},
     "output_type": "execute_result"
    },
    {
     "data": {
      "image/png": "[encoded data removed]",
      "text/plain": [
       "<Figure size 432x288 with 1 Axes>"
      ]
     },
     "metadata": {},
     "output_type": "display_data"
    }
   ],
   "source": [
    "sns.lineplot(x = delhi_data['timestamp'].dt.year, y = delhi_data[delhi_data['pollutant'] == 'o3']['value'])"
   ]
  },
  {
   "cell_type": "code",
   "execution_count": 39,
   "metadata": {
    "execution": {
     "iopub.execute_input": "2021-03-21T05:20:51.383084Z",
     "iopub.status.busy": "2021-03-21T05:20:51.382370Z",
     "iopub.status.idle": "2021-03-21T05:20:51.710719Z",
     "shell.execute_reply": "2021-03-21T05:20:51.709663Z"
    },
    "papermill": {
     "duration": 0.404553,
     "end_time": "2021-03-21T05:20:51.710885",
     "exception": false,
     "start_time": "2021-03-21T05:20:51.306332",
     "status": "completed"
    },
    "tags": []
   },
   "outputs": [
    {
     "data": {
      "text/plain": [
       "<AxesSubplot:xlabel='timestamp', ylabel='value'>"
      ]
     },
     "execution_count": 39,
     "metadata": {},
     "output_type": "execute_result"
    },
    {
     "data": {
      "image/png": "[encoded data removed]",
      "text/plain": [
       "<Figure size 432x288 with 1 Axes>"
      ]
     },
     "metadata": {},
     "output_type": "display_data"
    }
   ],
   "source": [
    "sns.lineplot(x = delhi_data['timestamp'].dt.month, y = delhi_data[delhi_data['pollutant'] == 'o3']['value'])"
   ]
  },
  {
   "cell_type": "markdown",
   "metadata": {
    "papermill": {
     "duration": 0.065918,
     "end_time": "2021-03-21T05:20:51.842703",
     "exception": false,
     "start_time": "2021-03-21T05:20:51.776785",
     "status": "completed"
    },
    "tags": []
   },
   "source": [
    "# pm10"
   ]
  },
  {
   "cell_type": "code",
   "execution_count": 40,
   "metadata": {
    "execution": {
     "iopub.execute_input": "2021-03-21T05:20:51.998895Z",
     "iopub.status.busy": "2021-03-21T05:20:51.998232Z",
     "iopub.status.idle": "2021-03-21T05:20:52.323360Z",
     "shell.execute_reply": "2021-03-21T05:20:52.323850Z"
    },
    "papermill": {
     "duration": 0.418858,
     "end_time": "2021-03-21T05:20:52.324029",
     "exception": false,
     "start_time": "2021-03-21T05:20:51.905171",
     "status": "completed"
    },
    "tags": []
   },
   "outputs": [
    {
     "data": {
      "text/plain": [
       "<AxesSubplot:xlabel='timestamp', ylabel='value'>"
      ]
     },
     "execution_count": 40,
     "metadata": {},
     "output_type": "execute_result"
    },
    {
     "data": {
      "image/png": "[encoded data removed]",
      "text/plain": [
       "<Figure size 432x288 with 1 Axes>"
      ]
     },
     "metadata": {},
     "output_type": "display_data"
    }
   ],
   "source": [
    "sns.lineplot(x = delhi_data['timestamp'].dt.year, y = delhi_data[delhi_data['pollutant'] == 'pm10']['value'])"
   ]
  },
  {
   "cell_type": "code",
   "execution_count": 41,
   "metadata": {
    "execution": {
     "iopub.execute_input": "2021-03-21T05:20:52.454470Z",
     "iopub.status.busy": "2021-03-21T05:20:52.453762Z",
     "iopub.status.idle": "2021-03-21T05:20:52.860742Z",
     "shell.execute_reply": "2021-03-21T05:20:52.859883Z"
    },
    "papermill": {
     "duration": 0.473657,
     "end_time": "2021-03-21T05:20:52.861001",
     "exception": false,
     "start_time": "2021-03-21T05:20:52.387344",
     "status": "completed"
    },
    "tags": []
   },
   "outputs": [
    {
     "data": {
      "text/plain": [
       "<AxesSubplot:xlabel='timestamp', ylabel='value'>"
      ]
     },
     "execution_count": 41,
     "metadata": {},
     "output_type": "execute_result"
    },
    {
     "data": {
      "image/png": "[encoded data removed]",
      "text/plain": [
       "<Figure size 432x288 with 1 Axes>"
      ]
     },
     "metadata": {},
     "output_type": "display_data"
    }
   ],
   "source": [
    "sns.lineplot(x = delhi_data['timestamp'].dt.month, y = delhi_data[delhi_data['pollutant'] == 'pm10']['value'])"
   ]
  },
  {
   "cell_type": "markdown",
   "metadata": {
    "papermill": {
     "duration": 0.063605,
     "end_time": "2021-03-21T05:20:52.998433",
     "exception": false,
     "start_time": "2021-03-21T05:20:52.934828",
     "status": "completed"
    },
    "tags": []
   },
   "source": [
    "# pm25"
   ]
  },
  {
   "cell_type": "code",
   "execution_count": 42,
   "metadata": {
    "execution": {
     "iopub.execute_input": "2021-03-21T05:20:53.171857Z",
     "iopub.status.busy": "2021-03-21T05:20:53.164901Z",
     "iopub.status.idle": "2021-03-21T05:20:53.465777Z",
     "shell.execute_reply": "2021-03-21T05:20:53.465185Z"
    },
    "papermill": {
     "duration": 0.402647,
     "end_time": "2021-03-21T05:20:53.465947",
     "exception": false,
     "start_time": "2021-03-21T05:20:53.063300",
     "status": "completed"
    },
    "tags": []
   },
   "outputs": [
    {
     "data": {
      "text/plain": [
       "<AxesSubplot:xlabel='timestamp', ylabel='value'>"
      ]
     },
     "execution_count": 42,
     "metadata": {},
     "output_type": "execute_result"
    },
    {
     "data": {
      "image/png": "[encoded data removed]",
      "text/plain": [
       "<Figure size 432x288 with 1 Axes>"
      ]
     },
     "metadata": {},
     "output_type": "display_data"
    }
   ],
   "source": [
    "sns.lineplot(x = delhi_data['timestamp'].dt.year, y = delhi_data[delhi_data['pollutant'] == 'pm25']['value'])"
   ]
  },
  {
   "cell_type": "code",
   "execution_count": 43,
   "metadata": {
    "execution": {
     "iopub.execute_input": "2021-03-21T05:20:53.652094Z",
     "iopub.status.busy": "2021-03-21T05:20:53.613648Z",
     "iopub.status.idle": "2021-03-21T05:20:54.004972Z",
     "shell.execute_reply": "2021-03-21T05:20:54.004277Z"
    },
    "papermill": {
     "duration": 0.472347,
     "end_time": "2021-03-21T05:20:54.005152",
     "exception": false,
     "start_time": "2021-03-21T05:20:53.532805",
     "status": "completed"
    },
    "tags": []
   },
   "outputs": [
    {
     "data": {
      "text/plain": [
       "<AxesSubplot:xlabel='timestamp', ylabel='value'>"
      ]
     },
     "execution_count": 43,
     "metadata": {},
     "output_type": "execute_result"
    },
    {
     "data": {
      "image/png": "[encoded data removed]",
      "text/plain": [
       "<Figure size 432x288 with 1 Axes>"
      ]
     },
     "metadata": {},
     "output_type": "display_data"
    }
   ],
   "source": [
    "sns.lineplot(x = delhi_data['timestamp'].dt.month, y = delhi_data[delhi_data['pollutant'] == 'pm25']['value'])"
   ]
  },
  {
   "cell_type": "markdown",
   "metadata": {
    "papermill": {
     "duration": 0.068938,
     "end_time": "2021-03-21T05:20:54.145807",
     "exception": false,
     "start_time": "2021-03-21T05:20:54.076869",
     "status": "completed"
    },
    "tags": []
   },
   "source": [
    "# so2 "
   ]
  },
  {
   "cell_type": "code",
   "execution_count": 44,
   "metadata": {
    "execution": {
     "iopub.execute_input": "2021-03-21T05:20:54.311846Z",
     "iopub.status.busy": "2021-03-21T05:20:54.311080Z",
     "iopub.status.idle": "2021-03-21T05:20:54.607623Z",
     "shell.execute_reply": "2021-03-21T05:20:54.606895Z"
    },
    "papermill": {
     "duration": 0.393102,
     "end_time": "2021-03-21T05:20:54.607796",
     "exception": false,
     "start_time": "2021-03-21T05:20:54.214694",
     "status": "completed"
    },
    "tags": []
   },
   "outputs": [
    {
     "data": {
      "text/plain": [
       "<AxesSubplot:xlabel='timestamp', ylabel='value'>"
      ]
     },
     "execution_count": 44,
     "metadata": {},
     "output_type": "execute_result"
    },
    {
     "data": {
      "image/png": "[encoded data removed]",
      "text/plain": [
       "<Figure size 432x288 with 1 Axes>"
      ]
     },
     "metadata": {},
     "output_type": "display_data"
    }
   ],
   "source": [
    "sns.lineplot(x = delhi_data['timestamp'].dt.year, y = delhi_data[delhi_data['pollutant'] == 'so2']['value'])"
   ]
  },
  {
   "cell_type": "code",
   "execution_count": 45,
   "metadata": {
    "execution": {
     "iopub.execute_input": "2021-03-21T05:20:54.765112Z",
     "iopub.status.busy": "2021-03-21T05:20:54.764368Z",
     "iopub.status.idle": "2021-03-21T05:20:55.064846Z",
     "shell.execute_reply": "2021-03-21T05:20:55.064239Z"
    },
    "papermill": {
     "duration": 0.385924,
     "end_time": "2021-03-21T05:20:55.065001",
     "exception": false,
     "start_time": "2021-03-21T05:20:54.679077",
     "status": "completed"
    },
    "tags": []
   },
   "outputs": [
    {
     "data": {
      "text/plain": [
       "<AxesSubplot:xlabel='timestamp', ylabel='value'>"
      ]
     },
     "execution_count": 45,
     "metadata": {},
     "output_type": "execute_result"
    },
    {
     "data": {
      "image/png": "[encoded data removed]",
      "text/plain": [
       "<Figure size 432x288 with 1 Axes>"
      ]
     },
     "metadata": {},
     "output_type": "display_data"
    }
   ],
   "source": [
    "sns.lineplot(x = delhi_data['timestamp'].dt.month, y = delhi_data[delhi_data['pollutant'] == 'so2']['value'])"
   ]
  },
  {
   "cell_type": "markdown",
   "metadata": {
    "papermill": {
     "duration": 0.070084,
     "end_time": "2021-03-21T05:20:55.207427",
     "exception": false,
     "start_time": "2021-03-21T05:20:55.137343",
     "status": "completed"
    },
    "tags": []
   },
   "source": [
    "# Analysis Conclusion\n",
    "\n",
    "\n",
    "From the above analyis we can conclude the following\n",
    "* Carbon Monoxide \n",
    "    \n",
    "   **Year in which it peaked**: 2018\n",
    "    \n",
    "    **Months in which CO peaks (as per records for prev 5 yrs)**: Feb to April\n",
    "    \n",
    "* Nitrogen Dioxide \n",
    "\n",
    "     **Year in which it dropped** : 2018\n",
    "     \n",
    "     **Peak Months**: July - November\n",
    "     \n",
    "* Ozone Gas\n",
    "\n",
    "    **Peaked in Year** : 2016 - 2017\n",
    "    \n",
    "    **Peak Months** : January - March , June - November\n",
    "    \n",
    "* PM 10 \n",
    "    \n",
    "    **Peaked in Year** : 2015\n",
    "    \n",
    "    **Peak Months** : June - July\n",
    "    \n",
    "* PM 25\n",
    "\n",
    "    **Peaked in Years** : 2018\n",
    "    \n",
    "    **Peak Month** : February - April\n",
    "    \n",
    "* Sulphur Dioxide\n",
    "\n",
    "    **Peaked after 2018**\n",
    "    \n",
    "    \n"
   ]
  },
  {
   "cell_type": "markdown",
   "metadata": {
    "papermill": {
     "duration": 0.06975,
     "end_time": "2021-03-21T05:20:55.347186",
     "exception": false,
     "start_time": "2021-03-21T05:20:55.277436",
     "status": "completed"
    },
    "tags": []
   },
   "source": [
    "Liked what I did here ? Do press the upvote button !\n",
    "\n",
    "Have some doubt or a suggestion ? Leave a comment and I'll get back to you ASAP."
   ]
  }
 ],
 "metadata": {
  "kernelspec": {
   "display_name": "Python 3",
   "language": "python",
   "name": "python3"
  },
  "language_info": {
   "codemirror_mode": {
    "name": "ipython",
    "version": 3
   },
   "file_extension": ".py",
   "mimetype": "text/x-python",
   "name": "python",
   "nbconvert_exporter": "python",
   "pygments_lexer": "ipython3",
   "version": "3.7.9"
  },
  "papermill": {
   "default_parameters": {},
   "duration": 34.328789,
   "end_time": "2021-03-21T05:20:56.129823",
   "environment_variables": {},
   "exception": null,
   "input_path": "__notebook__.ipynb",
   "output_path": "__notebook__.ipynb",
   "parameters": {},
   "start_time": "2021-03-21T05:20:21.801034",
   "version": "2.2.2"
  }
 },
 "nbformat": 4,
 "nbformat_minor": 4
}
